{
 "cells": [
  {
   "cell_type": "markdown",
   "id": "9a6a42da-2bd0-4553-84a7-23968b051bb6",
   "metadata": {},
   "source": [
    "# Building wind suitablity layers for GRIDCERF"
   ]
  },
  {
   "cell_type": "markdown",
   "id": "5f98f900-a29c-476b-97a9-52d6c105e2a4",
   "metadata": {},
   "source": [
    "## 1. Downloading the data"
   ]
  },
  {
   "cell_type": "markdown",
   "id": "3c3f8fea-93e6-4b84-83c4-5868f236fee4",
   "metadata": {},
   "source": [
    "### 1.1 Download GRIDCERF\n",
    "\n",
    "Download the GRIDCERF package if you have not yet done so from here:  https://doi.org/10.5281/zenodo.6601789.  Please extract GRIDCERF inside the `data` directory of this repository as the paths in this notebook are set to that expectation.\n"
   ]
  },
  {
   "cell_type": "markdown",
   "id": "7f31f4e4-ed34-4305-88b0-6fd225380a1d",
   "metadata": {},
   "source": [
    "### 1.2 Download the wind potential data\n",
    "\n",
    "Data for potential wind capacity for 80m, 110m, and 140m hub heights for current technology assumptions may be access from https://maps.nrel.gov/wind-prospector.  You can directly download the data using this link:  https://gds-files.nrelcloud.org/archive/wind-prospector.zip.  Please extract these data to the `data/gridcerf/source/wind` directory as this is where the current paths in this notebook point to.\n",
    "\n",
    "Metadata for potential resource capacity files:  https://edacarc20.unm.edu/arcgis/rest/services/nmenergytool/EDAC_Energy/FeatureServer/0\n"
   ]
  },
  {
   "cell_type": "markdown",
   "id": "ea70c1e0-ea87-4494-9996-b7367c2707e8",
   "metadata": {},
   "source": [
    "## 2. Setup environment"
   ]
  },
  {
   "cell_type": "markdown",
   "id": "f7e013bc-a9df-4a20-80ed-cb1e93ca6f44",
   "metadata": {},
   "source": [
    "### 2.1 Install GDAL\n",
    "\n",
    "This application requires GDAL to be installed.  We will call GDAL directly from your command prompt or terminal, so please ensure that you can do so before running the following cells.  More information on how to install GDAL can be found here:  https://gdal.org/download.html\n"
   ]
  },
  {
   "cell_type": "markdown",
   "id": "80f2e8a6-be36-4b51-a242-3d66c4328e20",
   "metadata": {},
   "source": [
    "### 2.2 Install Python third-party dependencies\n",
    "\n",
    "The following Python packages can be installed directly from the following kernel if they are not already in your kernel's environment.  If you are using conda, please use conda specific install protocol.\n",
    "\n",
    "**NOTE**: Executing the following cell will install these Python packages over your existing versions!  \n"
   ]
  },
  {
   "cell_type": "code",
   "execution_count": null,
   "id": "23e93b9d-11d3-4a3a-9e01-309d384fec94",
   "metadata": {},
   "outputs": [],
   "source": [
    "!pip install -Iv numpy>=1.23.1\n",
    "!pip install -Iv pandas>=1.4.3\n",
    "!pip install -Iv rasterio>=1.3.4\n",
    "!pip install -Iv geopandas>=0.12.2\n"
   ]
  },
  {
   "cell_type": "markdown",
   "id": "a221e84b-9735-4916-993a-b9e33afabf39",
   "metadata": {},
   "source": [
    "### 2.3 Import necessary Python packages"
   ]
  },
  {
   "cell_type": "code",
   "execution_count": 7,
   "id": "51656ba6-795a-4b2f-9af4-3cf5c3596c52",
   "metadata": {},
   "outputs": [],
   "source": [
    "import os\n",
    "import glob\n",
    "\n",
    "import rasterio\n",
    "import numpy as np\n",
    "import pandas as pd\n",
    "import geopandas as gpd\n"
   ]
  },
  {
   "cell_type": "markdown",
   "id": "c3badafe-0b63-4351-9779-2ef32ede1332",
   "metadata": {},
   "source": [
    "## 3. Configuration"
   ]
  },
  {
   "cell_type": "code",
   "execution_count": 27,
   "id": "38b18baf-0107-4ae4-9dcf-437455cadfda",
   "metadata": {},
   "outputs": [],
   "source": [
    "# get the parent directory path to where this notebook is currently stored\n",
    "root_dir = os.path.dirname(os.getcwd())\n",
    "\n",
    "# data directory in repository\n",
    "data_dir = os.path.join(root_dir, \"data\")\n",
    "\n",
    "# GRIDCERF data directory from downloaded archive\n",
    "gridcerf_dir = os.path.join(data_dir, \"gridcerf\")\n",
    "\n",
    "# GRIDCERF reference data directory\n",
    "reference_dir = os.path.join(gridcerf_dir, \"reference\")\n",
    "\n",
    "# GRIDCERF common data directory\n",
    "common_dir = os.path.join(gridcerf_dir, \"common\")\n",
    "\n",
    "# GRIDCERF technology_specific data directory\n",
    "technology_specific_dir = os.path.join(gridcerf_dir, \"technology_specific\")\n",
    "\n",
    "# GRIDCERF compiled final suitability data directory\n",
    "compiled_dir = os.path.join(gridcerf_dir, \"compiled\")\n",
    "\n",
    "# template land mask raster\n",
    "template_raster = os.path.join(reference_dir, \"gridcerf_landmask.tif\")\n",
    "\n",
    "# source wind data directory\n",
    "wind_source_dir = os.path.join(gridcerf_dir, \"source\", \"wind\")\n",
    "\n",
    "# Field in wind potential shapefiles that represent the area per polygon that is \n",
    "#  available for supporting wind turbines when considering a gross capacity factor\n",
    "#  of 35%. \n",
    "target_wind_area_field = \"AREA WITH \"\n",
    "\n",
    "# target fields to include when conducting rasterization\n",
    "target_wind_fields = [target_wind_area_field, \"geometry\"]\n",
    "\n",
    "# generate a list of all common exclusion files\n",
    "common_raster_list = glob.glob(os.path.join(common_dir, \"*.tif\"))\n",
    "\n",
    "# list of technology specific files to use as exclusion areas\n",
    "technology_specific_list = [os.path.join(technology_specific_dir, \"gridcerf_srtm_slope_20pct_or_less.tif\")]\n",
    "\n",
    "# list of suitability files to apply to the wind raster\n",
    "suitability_file_list = common_raster_list + technology_specific_list\n"
   ]
  },
  {
   "cell_type": "markdown",
   "id": "b13389bd-68ae-44cb-9e21-74782dc0d8d7",
   "metadata": {},
   "source": [
    "## 4. Generate wind suitability rasters"
   ]
  },
  {
   "cell_type": "markdown",
   "id": "39670a53-f114-4b21-a0f0-255fd707e802",
   "metadata": {},
   "source": [
    "### 4.1 Functions to build suitability"
   ]
  },
  {
   "cell_type": "code",
   "execution_count": 33,
   "id": "d387499b-6619-4cd0-b4e8-829f494c1c1b",
   "metadata": {},
   "outputs": [],
   "source": [
    "def filter_wind_potential_shapefile(hub_height: int, \n",
    "                                    wind_source_dir: str,\n",
    "                                    target_wind_area_field: str,\n",
    "                                    target_wind_fields: list):\n",
    "    \n",
    "    # construct the target wind potential file name\n",
    "    root_name = f\"{hub_height}_Meter_Hub_Height_Current_Technology_\"\n",
    "    target_wind_file = os.path.join(wind_source_dir, root_name, f\"{root_name}.shp\")\n",
    "\n",
    "    # read in wind potential shapefile as a GeoPandas data frame\n",
    "    gdf = gpd.read_file(target_wind_file)[target_wind_fields]\n",
    "    \n",
    "    # only keep polygons having an area capable of supporting 35% GCF of >= 1km\n",
    "    gdf = gdf.loc[gdf[target_wind_area_field] >= 1].copy()\n",
    "    \n",
    "    # set target value for rasterization\n",
    "    gdf[\"value\"] = 0\n",
    "    \n",
    "    # save filtered shapefile\n",
    "    basename = f\"gridcerf_nrel_wind_development_potential_hubheight{hub_height}m_cf35\"\n",
    "    output_shpfile = os.path.join(wind_source_dir, f\"{basename}.shp\")\n",
    "    gdf[[\"value\", \"geometry\"]].to_file(output_shpfile)\n",
    "    \n",
    "    return output_shpfile, basename\n",
    "\n",
    "\n",
    "def rasterize_potential_noexclusions(input_shapefile: str, \n",
    "                                     file_basename: str,\n",
    "                                     output_dir: str):\n",
    "\n",
    "    # construct output raster name and path\n",
    "    output_raster = os.path.join(output_dir, f\"{file_basename}_no-exclusions.tif\")\n",
    "\n",
    "    # construct command to rasterize the shapefile using GDAL\n",
    "    gdal_rasterize_cmd = f\"gdal_rasterize -l {file_basename} -a value -tr 1000.0 1000.0 -init 1.0 -te -2405552.8355 -1389065.2005 2287447.1645 1609934.7995 -ot Int16 -of GTiff {input_shapefile} {output_raster}\"\n",
    "\n",
    "    # execute the GDAL command\n",
    "    print(gdal_rasterize_cmd, '\\n')\n",
    "    os.system(gdal_rasterize_cmd)\n",
    "    \n",
    "    return output_raster\n",
    "\n",
    "\n",
    "def construct_wind_suitability(hub_height: int,\n",
    "                               input_wind_raster: str, \n",
    "                               output_suitability_dir: str,\n",
    "                               suitability_file_list: list):\n",
    "    \n",
    "    # open input wind potential raster\n",
    "    with rasterio.open(input_wind_raster) as wind_potential_raster:\n",
    "\n",
    "        # update metadata datatype to int16\n",
    "        metadata = wind_potential_raster.meta.copy()\n",
    "        metadata.update({'dtype': rasterio.int16})\n",
    "\n",
    "        # get array of potential suitability\n",
    "        wind_suitability_array = wind_potential_raster.read(1)\n",
    "\n",
    "    # apply suitability rasters\n",
    "    for idx, i in enumerate(suitability_file_list):\n",
    "        with rasterio.open(i) as src:\n",
    "            wind_suitability_array += src.read(1)\n",
    "\n",
    "    # reclassify to 0 (suitable), 1 (unsuitable)\n",
    "    wind_suitability_array = np.where(wind_suitability_array == 0, 0, 1)\n",
    "\n",
    "    # write aggregate tech-specific suitability layer to file\n",
    "    final_raster = os.path.join(output_suitability_dir, f'gridcerf_wind_onshore_{hub_height}.tif')\n",
    "    with rasterio.open(final_raster, 'w', **metadata) as dest:\n",
    "        dest.write(wind_suitability_array.astype(rasterio.int16), 1)\n",
    "        \n",
    "    print(f\"Generated wind suitability raster:  {final_raster}\")\n",
    "        \n",
    "    return final_raster\n",
    "\n",
    "    "
   ]
  },
  {
   "cell_type": "markdown",
   "id": "adc3f8ec-5155-44d1-a223-d617042d76c3",
   "metadata": {},
   "source": [
    "### 4.2 Generate wind suitability rasters for all desired hub heights"
   ]
  },
  {
   "cell_type": "code",
   "execution_count": 34,
   "id": "5ab3684e-8bd0-474d-8f0b-92bcf477f2ba",
   "metadata": {},
   "outputs": [
    {
     "name": "stdout",
     "output_type": "stream",
     "text": [
      "gdal_rasterize -l gridcerf_nrel_wind_development_potential_hubheight80m_cf35 -a value -tr 1000.0 1000.0 -init 1.0 -te -2405552.8355 -1389065.2005 2287447.1645 1609934.7995 -ot Int16 -of GTiff /Users/d3y010/repos/metarepos/vernon-etal_2022_scidata/data/gridcerf/source/wind/gridcerf_nrel_wind_development_potential_hubheight80m_cf35.shp /Users/d3y010/repos/metarepos/vernon-etal_2022_scidata/data/gridcerf/source/wind/gridcerf_nrel_wind_development_potential_hubheight80m_cf35_no-exclusions.tif \n",
      "\n",
      "0...10...20...30...40...50...60...70...80...90...100 - done.\n",
      "Generated wind suitability raster:  /Users/d3y010/repos/metarepos/vernon-etal_2022_scidata/data/gridcerf/compiled/gridcerf_wind_onshore_80.tif\n",
      "gdal_rasterize -l gridcerf_nrel_wind_development_potential_hubheight110m_cf35 -a value -tr 1000.0 1000.0 -init 1.0 -te -2405552.8355 -1389065.2005 2287447.1645 1609934.7995 -ot Int16 -of GTiff /Users/d3y010/repos/metarepos/vernon-etal_2022_scidata/data/gridcerf/source/wind/gridcerf_nrel_wind_development_potential_hubheight110m_cf35.shp /Users/d3y010/repos/metarepos/vernon-etal_2022_scidata/data/gridcerf/source/wind/gridcerf_nrel_wind_development_potential_hubheight110m_cf35_no-exclusions.tif \n",
      "\n",
      "0...10...20...30...40...50...60...70...80...90...100 - done.\n",
      "Generated wind suitability raster:  /Users/d3y010/repos/metarepos/vernon-etal_2022_scidata/data/gridcerf/compiled/gridcerf_wind_onshore_110.tif\n",
      "gdal_rasterize -l gridcerf_nrel_wind_development_potential_hubheight140m_cf35 -a value -tr 1000.0 1000.0 -init 1.0 -te -2405552.8355 -1389065.2005 2287447.1645 1609934.7995 -ot Int16 -of GTiff /Users/d3y010/repos/metarepos/vernon-etal_2022_scidata/data/gridcerf/source/wind/gridcerf_nrel_wind_development_potential_hubheight140m_cf35.shp /Users/d3y010/repos/metarepos/vernon-etal_2022_scidata/data/gridcerf/source/wind/gridcerf_nrel_wind_development_potential_hubheight140m_cf35_no-exclusions.tif \n",
      "\n",
      "0...10...20...30...40...50...60...70...80...90...100 - done.\n",
      "Generated wind suitability raster:  /Users/d3y010/repos/metarepos/vernon-etal_2022_scidata/data/gridcerf/compiled/gridcerf_wind_onshore_140.tif\n"
     ]
    }
   ],
   "source": [
    "# list of hub heights to process\n",
    "hub_height_list = [80, 110, 140]\n",
    "\n",
    "for hub_height in hub_height_list:\n",
    "    \n",
    "    print(f\"Processing hub height:  {hub_height}...\")\n",
    "\n",
    "    # create a filtered shapefile containing all wind potential polygons having >= 1km of area able to support a GCF of 35%\n",
    "    filtered_shapefile, basename = filter_wind_potential_shapefile(hub_height=hub_height, \n",
    "                                                                   wind_source_dir=wind_source_dir,\n",
    "                                                                   target_wind_area_field=target_wind_area_field,\n",
    "                                                                   target_wind_fields=target_wind_fields)\n",
    "\n",
    "    # rasterize the shapefile into GRIDCERF's format\n",
    "    raster_noexclusions = rasterize_potential_noexclusions(input_shapefile=filtered_shapefile,\n",
    "                                                           file_basename=basename,\n",
    "                                                           output_dir=wind_source_dir)\n",
    "    \n",
    "    # generate wind suitability output including suitability exclusions\n",
    "    wind_suitability_raster_file = construct_wind_suitability(hub_height=hub_height,\n",
    "                                                              input_wind_raster=raster_noexclusions, \n",
    "                                                              output_suitability_dir=compiled_dir,\n",
    "                                                              suitability_file_list=suitability_file_list)\n"
   ]
  },
  {
   "cell_type": "code",
   "execution_count": null,
   "id": "dbaca577-c92b-4b23-8e2c-a4cf8c09405c",
   "metadata": {},
   "outputs": [],
   "source": []
  },
  {
   "cell_type": "code",
   "execution_count": null,
   "id": "5a825649-6b1a-4915-8334-e450ad862d9b",
   "metadata": {},
   "outputs": [],
   "source": []
  },
  {
   "cell_type": "code",
   "execution_count": null,
   "id": "f8de378f-dd5d-4d9b-a961-f7833b404fa8",
   "metadata": {},
   "outputs": [],
   "source": []
  },
  {
   "cell_type": "code",
   "execution_count": null,
   "id": "26599e5b-3a11-44c5-9155-731b9fe51532",
   "metadata": {},
   "outputs": [],
   "source": []
  },
  {
   "cell_type": "code",
   "execution_count": null,
   "id": "74d75084-1ad6-43bc-b28a-b0f15dad73b6",
   "metadata": {},
   "outputs": [],
   "source": []
  },
  {
   "cell_type": "code",
   "execution_count": null,
   "id": "4521b2bb-3c84-4ff9-8ccc-c8d87e3e3783",
   "metadata": {},
   "outputs": [],
   "source": []
  },
  {
   "cell_type": "code",
   "execution_count": null,
   "id": "5a4a44ad-106e-46b8-b4d6-abf7ff9b965a",
   "metadata": {},
   "outputs": [],
   "source": []
  },
  {
   "cell_type": "code",
   "execution_count": null,
   "id": "78e56e1b-e069-485e-9903-6c606a46655b",
   "metadata": {},
   "outputs": [],
   "source": []
  },
  {
   "cell_type": "code",
   "execution_count": null,
   "id": "7617a128-7556-405a-9866-a2e96bf34eae",
   "metadata": {},
   "outputs": [],
   "source": []
  },
  {
   "cell_type": "code",
   "execution_count": null,
   "id": "2380a1fd-217d-4d33-8074-6f95464d5ca9",
   "metadata": {},
   "outputs": [],
   "source": []
  },
  {
   "cell_type": "code",
   "execution_count": null,
   "id": "3397f3ac-1c7c-48dd-bede-ec5d9356240d",
   "metadata": {},
   "outputs": [],
   "source": []
  },
  {
   "cell_type": "code",
   "execution_count": null,
   "id": "0c4effac-8c15-4123-8da5-4dccd2f65e66",
   "metadata": {},
   "outputs": [],
   "source": []
  },
  {
   "cell_type": "code",
   "execution_count": null,
   "id": "f86df82f-854c-47e9-bd33-c07a8fc7dd51",
   "metadata": {},
   "outputs": [],
   "source": []
  },
  {
   "cell_type": "code",
   "execution_count": null,
   "id": "0dae6cc2-7907-4d07-98d8-de58a6c6417f",
   "metadata": {},
   "outputs": [],
   "source": []
  },
  {
   "cell_type": "code",
   "execution_count": null,
   "id": "2fdb0533-4b79-4c54-be1d-8d4b556d9d12",
   "metadata": {},
   "outputs": [],
   "source": []
  },
  {
   "cell_type": "code",
   "execution_count": 16,
   "id": "70a59f32-2027-41da-8645-6fda60a0d0f5",
   "metadata": {},
   "outputs": [
    {
     "data": {
      "text/plain": [
       "'/Users/d3y010/repos/metarepos/vernon-etal_2022_scidata/data/gridcerf/reference'"
      ]
     },
     "execution_count": 16,
     "metadata": {},
     "output_type": "execute_result"
    }
   ],
   "source": [
    "common_dir = "
   ]
  },
  {
   "cell_type": "code",
   "execution_count": 23,
   "id": "32bbb0a5-68d5-40a5-a56f-bc15f927c836",
   "metadata": {},
   "outputs": [],
   "source": [
    "for x in [i for i in os.listdir(technology_specific_dir) if \".DS_Store\" not in i]:\n",
    "    \n",
    "    s = x.split(\"_\")\n",
    "    \n",
    "    old_name = os.path.join(technology_specific_dir, x)\n",
    "    new_name = os.path.join(technology_specific_dir, f\"gridcerf_{'_'.join(s[1:])}\")\n",
    "    \n",
    "    os.rename(old_name, new_name)\n",
    "                            \n",
    "                            "
   ]
  },
  {
   "cell_type": "code",
   "execution_count": null,
   "id": "1557a543-4f37-4ced-9c06-f94ef659e186",
   "metadata": {},
   "outputs": [],
   "source": []
  },
  {
   "cell_type": "code",
   "execution_count": 3,
   "id": "97f81b23-ced7-40b9-93ce-dd87c9b2e893",
   "metadata": {},
   "outputs": [],
   "source": [
    "import os\n",
    "import glob\n",
    "\n",
    "import rasterio\n",
    "import numpy as np\n",
    "import pandas as pd\n",
    "import geopandas as gpd\n"
   ]
  },
  {
   "cell_type": "code",
   "execution_count": 17,
   "id": "0aa46fc2-ec2e-4134-bb3c-35b0da4bba01",
   "metadata": {},
   "outputs": [],
   "source": [
    "# get the parent directory path to where this notebook is currently stored\n",
    "root_dir = os.path.dirname(os.getcwd())\n",
    "\n",
    "# data directory in repository\n",
    "data_dir = os.path.join(root_dir, \"data\")\n",
    "\n",
    "# GRIDCERF data directory from downloaded archive\n",
    "gridcerf_dir = os.path.join(data_dir, \"gridcerf\")\n",
    "\n",
    "# GRIDCERF reference data directory\n",
    "reference_dir = os.path.join(gridcerf_dir, \"reference\")\n",
    "\n",
    "# GRIDCERF common data directory\n",
    "common_dir = os.path.join(gridcerf_dir, \"common\")\n",
    "\n",
    "# GRIDCERF technology-specific directory\n",
    "technology_specific_dir = os.path.join(gridcerf_dir, \"technology_specific\")\n",
    "\n",
    "# template land mask raster\n",
    "template_raster = os.path.join(reference_dir, \"gridcerf_landmask.tif\")\n",
    "\n",
    "# source wind data directory\n",
    "wind_source_dir = os.path.join(gridcerf_dir, \"source\", \"wind\")\n",
    "\n",
    "# exclusion data for wind dir\n",
    "exclusion_dir = os.path.join(data_dir, 'wind', 'exclusions')\n",
    "\n",
    "# directory where downloaded data was decompressed\n",
    "download_dir = os.path.join(data_dir, 'wind', 'nrel')\n",
    "\n",
    "# processed shapefile directory\n",
    "wind_shp_dir = os.path.join(data_dir, 'wind', 'shp')\n",
    "\n",
    "# directory to write potential capacity rasters to\n",
    "potential_dir = os.path.join(data_dir, 'wind', 'potential_suitability')\n",
    "\n",
    "# where to write the final suitability outputs to\n",
    "output_dir = os.path.join(data_dir, 'wind')\n"
   ]
  },
  {
   "cell_type": "code",
   "execution_count": 3,
   "id": "d91d6511-fe93-443a-b944-e085aa76d487",
   "metadata": {},
   "outputs": [],
   "source": [
    "target = os.path.join(wind_source_dir, \"80_Meter_Hub_Height_Current_Technology_\", \"80_Meter_Hub_Height_Current_Technology_.shp\")\n",
    "\n",
    "area_field = \"AREA WITH \"\n",
    "\n",
    "fields = [area_field, \"AREA (KM^2\", \"geometry\"]\n",
    "\n",
    "gdf = gpd.read_file(target)#[fields]\n"
   ]
  },
  {
   "cell_type": "code",
   "execution_count": 4,
   "id": "23cc9bcc-7d64-4a73-8916-05bbd4bf9679",
   "metadata": {},
   "outputs": [
    {
     "data": {
      "text/html": [
       "<div>\n",
       "<style scoped>\n",
       "    .dataframe tbody tr th:only-of-type {\n",
       "        vertical-align: middle;\n",
       "    }\n",
       "\n",
       "    .dataframe tbody tr th {\n",
       "        vertical-align: top;\n",
       "    }\n",
       "\n",
       "    .dataframe thead th {\n",
       "        text-align: right;\n",
       "    }\n",
       "</style>\n",
       "<table border=\"1\" class=\"dataframe\">\n",
       "  <thead>\n",
       "    <tr style=\"text-align: right;\">\n",
       "      <th></th>\n",
       "      <th>LATITUDE</th>\n",
       "      <th>LONGITUDE</th>\n",
       "      <th>STATE</th>\n",
       "      <th>REGION</th>\n",
       "      <th>AREA WITH</th>\n",
       "      <th>AREA WI_01</th>\n",
       "      <th>AREA WI_02</th>\n",
       "      <th>AREA (KM^2</th>\n",
       "      <th>geometry</th>\n",
       "    </tr>\n",
       "  </thead>\n",
       "  <tbody>\n",
       "    <tr>\n",
       "      <th>0</th>\n",
       "      <td>48.3631</td>\n",
       "      <td>-119.3485</td>\n",
       "      <td>Washington</td>\n",
       "      <td>West</td>\n",
       "      <td>10.60</td>\n",
       "      <td>3.52</td>\n",
       "      <td>2.80</td>\n",
       "      <td>420.252008</td>\n",
       "      <td>POLYGON ((-119.25220 48.47656, -119.17886 48.3...</td>\n",
       "    </tr>\n",
       "    <tr>\n",
       "      <th>1</th>\n",
       "      <td>47.9232</td>\n",
       "      <td>-121.4517</td>\n",
       "      <td>Washington</td>\n",
       "      <td>West</td>\n",
       "      <td>0.03</td>\n",
       "      <td>0.00</td>\n",
       "      <td>0.00</td>\n",
       "      <td>733.111571</td>\n",
       "      <td>POLYGON ((-121.40695 47.83655, -121.53621 47.8...</td>\n",
       "    </tr>\n",
       "    <tr>\n",
       "      <th>2</th>\n",
       "      <td>47.4343</td>\n",
       "      <td>-123.5047</td>\n",
       "      <td>Washington</td>\n",
       "      <td>West</td>\n",
       "      <td>2.95</td>\n",
       "      <td>2.49</td>\n",
       "      <td>1.43</td>\n",
       "      <td>632.391386</td>\n",
       "      <td>POLYGON ((-123.33263 47.38107, -123.58215 47.3...</td>\n",
       "    </tr>\n",
       "    <tr>\n",
       "      <th>3</th>\n",
       "      <td>48.8966</td>\n",
       "      <td>-123.1409</td>\n",
       "      <td>Washington</td>\n",
       "      <td>West</td>\n",
       "      <td>9.16</td>\n",
       "      <td>0.00</td>\n",
       "      <td>0.00</td>\n",
       "      <td>9.936960</td>\n",
       "      <td>POLYGON ((-123.04761 49.00212, -123.03339 48.9...</td>\n",
       "    </tr>\n",
       "    <tr>\n",
       "      <th>4</th>\n",
       "      <td>47.6232</td>\n",
       "      <td>-122.7409</td>\n",
       "      <td>Washington</td>\n",
       "      <td>West</td>\n",
       "      <td>5.57</td>\n",
       "      <td>1.93</td>\n",
       "      <td>1.26</td>\n",
       "      <td>326.908299</td>\n",
       "      <td>MULTIPOLYGON (((-122.65686 47.73984, -122.6564...</td>\n",
       "    </tr>\n",
       "  </tbody>\n",
       "</table>\n",
       "</div>"
      ],
      "text/plain": [
       "   LATITUDE  LONGITUDE       STATE REGION  AREA WITH   AREA WI_01  AREA WI_02  \\\n",
       "0   48.3631  -119.3485  Washington   West       10.60        3.52        2.80   \n",
       "1   47.9232  -121.4517  Washington   West        0.03        0.00        0.00   \n",
       "2   47.4343  -123.5047  Washington   West        2.95        2.49        1.43   \n",
       "3   48.8966  -123.1409  Washington   West        9.16        0.00        0.00   \n",
       "4   47.6232  -122.7409  Washington   West        5.57        1.93        1.26   \n",
       "\n",
       "   AREA (KM^2                                           geometry  \n",
       "0  420.252008  POLYGON ((-119.25220 48.47656, -119.17886 48.3...  \n",
       "1  733.111571  POLYGON ((-121.40695 47.83655, -121.53621 47.8...  \n",
       "2  632.391386  POLYGON ((-123.33263 47.38107, -123.58215 47.3...  \n",
       "3    9.936960  POLYGON ((-123.04761 49.00212, -123.03339 48.9...  \n",
       "4  326.908299  MULTIPOLYGON (((-122.65686 47.73984, -122.6564...  "
      ]
     },
     "execution_count": 4,
     "metadata": {},
     "output_type": "execute_result"
    }
   ],
   "source": [
    "gdf.head()"
   ]
  },
  {
   "cell_type": "code",
   "execution_count": 5,
   "id": "0cf04b16-f1e2-41a5-b507-eb64ba0f25fa",
   "metadata": {},
   "outputs": [],
   "source": [
    "gdf = gdf.loc[gdf[area_field] > 1].copy()"
   ]
  },
  {
   "cell_type": "code",
   "execution_count": 6,
   "id": "83c1a677-0a34-47e6-abaf-f78964e35b5b",
   "metadata": {},
   "outputs": [],
   "source": [
    "gdf['value'] = 0"
   ]
  },
  {
   "cell_type": "code",
   "execution_count": 7,
   "id": "df78b35b-6f3e-40a3-97a8-08781a57cd2b",
   "metadata": {},
   "outputs": [
    {
     "data": {
      "text/plain": [
       "(16901, 10)"
      ]
     },
     "execution_count": 7,
     "metadata": {},
     "output_type": "execute_result"
    }
   ],
   "source": [
    "gdf.shape"
   ]
  },
  {
   "cell_type": "code",
   "execution_count": 8,
   "id": "3cd95be5-f197-4f07-bd0e-8ddec0ebdd51",
   "metadata": {},
   "outputs": [],
   "source": [
    "gdf.to_file(\"/Users/d3y010/Desktop/file0.shp\")"
   ]
  },
  {
   "cell_type": "code",
   "execution_count": 39,
   "id": "9254ce6e-ec49-41bb-94ab-13d27b2e0748",
   "metadata": {},
   "outputs": [
    {
     "data": {
      "text/html": [
       "<div>\n",
       "<style scoped>\n",
       "    .dataframe tbody tr th:only-of-type {\n",
       "        vertical-align: middle;\n",
       "    }\n",
       "\n",
       "    .dataframe tbody tr th {\n",
       "        vertical-align: top;\n",
       "    }\n",
       "\n",
       "    .dataframe thead th {\n",
       "        text-align: right;\n",
       "    }\n",
       "</style>\n",
       "<table border=\"1\" class=\"dataframe\">\n",
       "  <thead>\n",
       "    <tr style=\"text-align: right;\">\n",
       "      <th></th>\n",
       "      <th>AREA WITH</th>\n",
       "      <th>AREA (KM^2</th>\n",
       "      <th>geometry</th>\n",
       "      <th>value</th>\n",
       "    </tr>\n",
       "  </thead>\n",
       "  <tbody>\n",
       "    <tr>\n",
       "      <th>0</th>\n",
       "      <td>10.60</td>\n",
       "      <td>420.252008</td>\n",
       "      <td>POLYGON ((-119.25220 48.47656, -119.17886 48.3...</td>\n",
       "      <td>0</td>\n",
       "    </tr>\n",
       "    <tr>\n",
       "      <th>2</th>\n",
       "      <td>2.95</td>\n",
       "      <td>632.391386</td>\n",
       "      <td>POLYGON ((-123.33263 47.38107, -123.58215 47.3...</td>\n",
       "      <td>0</td>\n",
       "    </tr>\n",
       "    <tr>\n",
       "      <th>3</th>\n",
       "      <td>9.16</td>\n",
       "      <td>9.936960</td>\n",
       "      <td>POLYGON ((-123.04761 49.00212, -123.03339 48.9...</td>\n",
       "      <td>0</td>\n",
       "    </tr>\n",
       "    <tr>\n",
       "      <th>4</th>\n",
       "      <td>5.57</td>\n",
       "      <td>326.908299</td>\n",
       "      <td>MULTIPOLYGON (((-122.65686 47.73984, -122.6564...</td>\n",
       "      <td>0</td>\n",
       "    </tr>\n",
       "    <tr>\n",
       "      <th>6</th>\n",
       "      <td>374.54</td>\n",
       "      <td>414.323646</td>\n",
       "      <td>POLYGON ((-118.79886 47.41812, -118.72818 47.2...</td>\n",
       "      <td>0</td>\n",
       "    </tr>\n",
       "  </tbody>\n",
       "</table>\n",
       "</div>"
      ],
      "text/plain": [
       "   AREA WITH   AREA (KM^2                                           geometry  \\\n",
       "0       10.60  420.252008  POLYGON ((-119.25220 48.47656, -119.17886 48.3...   \n",
       "2        2.95  632.391386  POLYGON ((-123.33263 47.38107, -123.58215 47.3...   \n",
       "3        9.16    9.936960  POLYGON ((-123.04761 49.00212, -123.03339 48.9...   \n",
       "4        5.57  326.908299  MULTIPOLYGON (((-122.65686 47.73984, -122.6564...   \n",
       "6      374.54  414.323646  POLYGON ((-118.79886 47.41812, -118.72818 47.2...   \n",
       "\n",
       "   value  \n",
       "0      0  \n",
       "2      0  \n",
       "3      0  \n",
       "4      0  \n",
       "6      0  "
      ]
     },
     "execution_count": 39,
     "metadata": {},
     "output_type": "execute_result"
    }
   ],
   "source": [
    "gdf.head()"
   ]
  },
  {
   "cell_type": "code",
   "execution_count": 34,
   "id": "ffb771e4-f59d-47bc-8eb1-af989923950d",
   "metadata": {},
   "outputs": [],
   "source": [
    "file_name = f'cerf_nrel_wind_development_potential_hubheight80m_cf30.shp'\n",
    "output_file = os.path.join(\"/Users/d3y010/Desktop\", file_name)\n",
    "\n",
    "# write output\n",
    "gdf[['value', 'geometry']].to_file(output_file)\n"
   ]
  },
  {
   "cell_type": "code",
   "execution_count": 36,
   "id": "41329def-7be5-4908-98a4-69d38e0987a8",
   "metadata": {},
   "outputs": [
    {
     "name": "stdout",
     "output_type": "stream",
     "text": [
      "gdal_rasterize -l cerf_nrel_wind_development_potential_hubheight80m_cf30 -a value -tr 1000.0 1000.0 -init 1.0 -te -2405552.8355 -1389065.2005 2287447.1645 1609934.7995 -ot Int16 -of GTiff /Users/d3y010/Desktop/cerf_nrel_wind_development_potential_hubheight80m_cf30.shp /Users/d3y010/Desktop/cerf_nrel_wind_development_potential_hubheight80m_cf30.tif \n",
      "\n",
      "0...10...20...30...40...50...60...70...80...90...100 - done.\n"
     ]
    },
    {
     "data": {
      "text/plain": [
       "0"
      ]
     },
     "execution_count": 36,
     "metadata": {},
     "output_type": "execute_result"
    }
   ],
   "source": [
    "basename = os.path.basename(output_file)\n",
    "base_noext = os.path.splitext(basename)[0]\n",
    "\n",
    "output_raster = os.path.join(\"/Users/d3y010/Desktop\", f\"{base_noext}.tif\")\n",
    "\n",
    "gdal_rasterize_cmd = f\"gdal_rasterize -l {base_noext} -a value -tr 1000.0 1000.0 -init 1.0 -te -2405552.8355 -1389065.2005 2287447.1645 1609934.7995 -ot Int16 -of GTiff {output_file} {output_raster}\"\n",
    "\n",
    "print(gdal_rasterize_cmd, '\\n')\n",
    "\n",
    "os.system(gdal_rasterize_cmd)\n",
    "    "
   ]
  },
  {
   "cell_type": "code",
   "execution_count": null,
   "id": "e0a3b9a9-33f3-43ae-81cc-f03ad66d4314",
   "metadata": {},
   "outputs": [],
   "source": []
  },
  {
   "cell_type": "code",
   "execution_count": null,
   "id": "8ec772b0-3674-44c8-8500-f999c91a17b5",
   "metadata": {},
   "outputs": [],
   "source": []
  },
  {
   "cell_type": "code",
   "execution_count": 7,
   "id": "d5dc50c0-cc1d-40c9-8f3a-1b6ba827472f",
   "metadata": {},
   "outputs": [],
   "source": [
    "# get cerf CRS from template raster\n",
    "with rasterio.open(template_raster) as src:\n",
    "    target_crs = src.crs\n"
   ]
  },
  {
   "cell_type": "markdown",
   "id": "17d069ba-b40d-4718-bb10-e9d5fa54f9f8",
   "metadata": {},
   "source": [
    "### Extract desired data from downloaded shapefiles and save to new files"
   ]
  },
  {
   "cell_type": "code",
   "execution_count": 8,
   "id": "99da50ed-345d-4043-9525-617335b23beb",
   "metadata": {},
   "outputs": [
    {
     "name": "stdout",
     "output_type": "stream",
     "text": [
      "CPU times: user 27.8 s, sys: 615 ms, total: 28.4 s\n",
      "Wall time: 28.7 s\n"
     ]
    }
   ],
   "source": [
    "%%time\n",
    "\n",
    "# list of hub heights to process\n",
    "hub_height_list = ['080', '110', '140']\n",
    "\n",
    "for hub_height in hub_height_list:\n",
    "\n",
    "    # input shapefile\n",
    "    f = os.path.join(download_dir, f'pot_wind_cap_{hub_height}_current', f'pot_wind_cap_{hub_height}_current.shp')\n",
    "\n",
    "    # only keep necessary fields\n",
    "    gdf = gpd.read_file(f)[['area_km2', 'a30', 'geometry']].to_crs(target_crs)\n",
    "\n",
    "    # get polygons with at least 1 km2 of available development area at 30% capacity\n",
    "    gdx = gdf.loc[gdf['a30'] > 1].copy()\n",
    "\n",
    "    # assign suitability value\n",
    "    gdx['value'] = 0\n",
    "    \n",
    "    file_name = f'cerf_nrel_wind_development_potential_hubheight{hub_height}m_cf30.shp'\n",
    "    output_file = os.path.join(wind_shp_dir, file_name)\n",
    "    \n",
    "    # write output\n",
    "    gdx[['value', 'geometry']].to_file(output_file)\n"
   ]
  },
  {
   "cell_type": "markdown",
   "id": "f1052fe7-6e6c-4f65-8990-b900bf2d3f77",
   "metadata": {},
   "source": [
    "### Rasterize shapefiles for potential"
   ]
  },
  {
   "cell_type": "code",
   "execution_count": 10,
   "id": "82b5ea6e-55d3-45fa-a826-0188a42ca7f2",
   "metadata": {},
   "outputs": [
    {
     "name": "stdout",
     "output_type": "stream",
     "text": [
      "gdal_rasterize -l cerf_nrel_wind_development_potential_hubheight140m_cf30 -a value -tr 1000.0 1000.0 -init 1.0 -te -2405552.8355 -1389065.2005 2287447.1645 1609934.7995 -ot Int16 -of GTiff /Users/d3y010/projects/cerf/suitability/data/wind/shp/cerf_nrel_wind_development_potential_hubheight140m_cf30.shp /Users/d3y010/projects/cerf/suitability/data/wind/potential_suitability/cerf_nrel_wind_development_potential_hubheight140m_cf30.tif \n",
      "\n",
      "gdal_rasterize -l cerf_nrel_wind_development_potential_hubheight080m_cf30 -a value -tr 1000.0 1000.0 -init 1.0 -te -2405552.8355 -1389065.2005 2287447.1645 1609934.7995 -ot Int16 -of GTiff /Users/d3y010/projects/cerf/suitability/data/wind/shp/cerf_nrel_wind_development_potential_hubheight080m_cf30.shp /Users/d3y010/projects/cerf/suitability/data/wind/potential_suitability/cerf_nrel_wind_development_potential_hubheight080m_cf30.tif \n",
      "\n",
      "gdal_rasterize -l cerf_nrel_wind_development_potential_hubheight110m_cf30 -a value -tr 1000.0 1000.0 -init 1.0 -te -2405552.8355 -1389065.2005 2287447.1645 1609934.7995 -ot Int16 -of GTiff /Users/d3y010/projects/cerf/suitability/data/wind/shp/cerf_nrel_wind_development_potential_hubheight110m_cf30.shp /Users/d3y010/projects/cerf/suitability/data/wind/potential_suitability/cerf_nrel_wind_development_potential_hubheight110m_cf30.tif \n",
      "\n",
      "CPU times: user 3.53 ms, sys: 2.79 ms, total: 6.32 ms\n",
      "Wall time: 1.23 s\n"
     ]
    }
   ],
   "source": [
    "%%time \n",
    "\n",
    "shp_list = glob.glob(os.path.join(wind_shp_dir, 'cerf_nrel_wind_development_potential_hubheight*m_cf30.shp'))\n",
    "\n",
    "for i in shp_list:\n",
    "        \n",
    "    basename = os.path.basename(i)\n",
    "    base_noext = os.path.splitext(basename)[0]\n",
    "    \n",
    "    output_raster = os.path.join(potential_dir, f\"{base_noext}.tif\")\n",
    "\n",
    "    gdal_rasterize_cmd = f\"gdal_rasterize -l {base_noext} -a value -tr 1000.0 1000.0 -init 1.0 -te -2405552.8355 -1389065.2005 2287447.1645 1609934.7995 -ot Int16 -of GTiff {i} {output_raster}\"\n",
    "\n",
    "    print(gdal_rasterize_cmd, '\\n')\n",
    "    \n",
    "    os.system(gdal_rasterize_cmd)\n"
   ]
  },
  {
   "cell_type": "markdown",
   "id": "92394fe2-baaa-4d8e-b2eb-6b84408caeb0",
   "metadata": {},
   "source": [
    "### Apply exclusions"
   ]
  },
  {
   "cell_type": "code",
   "execution_count": 13,
   "id": "d8978bf1-7b78-4c14-9ab4-0d167c226c5b",
   "metadata": {},
   "outputs": [
    {
     "name": "stdout",
     "output_type": "stream",
     "text": [
      "CPU times: user 347 ms, sys: 49.9 ms, total: 397 ms\n",
      "Wall time: 766 ms\n"
     ]
    }
   ],
   "source": [
    "%%time \n",
    "\n",
    "# non-potential suitability data that applies to wind\n",
    "exclusion_files = [os.path.join(exclusion_dir, i) for i in os.listdir(exclusion_dir) if os.path.splitext(i)[-1] in ('.tif', '.img')]\n",
    "\n",
    "# combine exclusion layers into a single array\n",
    "for idx, i in enumerate(exclusion_files):\n",
    "    \n",
    "    with rasterio.open(i) as src:\n",
    "        \n",
    "        if idx == 0:\n",
    "            arr = src.read(1)\n",
    "            \n",
    "        else:\n",
    "            arr += src.read(1)\n"
   ]
  },
  {
   "cell_type": "code",
   "execution_count": 14,
   "id": "3f414cba-ecb3-401d-9d11-028ec9a561f5",
   "metadata": {},
   "outputs": [],
   "source": [
    "# apply to each potential layer\n",
    "potential_rasters = glob.glob(os.path.join(potential_dir, 'cerf_nrel_wind_development_potential_hubheight*m_cf30.tif'))\n",
    "\n",
    "for i in potential_rasters:\n",
    "\n",
    "    with rasterio.open(i) as src:\n",
    "\n",
    "        # update metadata datatype to int16\n",
    "        metadata = src.meta.copy()\n",
    "        metadata.update({'dtype': rasterio.int16})\n",
    "        \n",
    "        # get array of potential suitability\n",
    "        arx = src.read(1)\n",
    "        \n",
    "        # apply exclusions\n",
    "        arx += arr\n",
    "        \n",
    "        # reclassify to 0 (suitable), 1 (unsuitable)\n",
    "        arx = np.where(arx == 0, 0, 1)\n",
    "        \n",
    "        # write aggregate tech-specific suitability layer to file\n",
    "        hub_height_str = i.split('_')[-2]\n",
    "        final_raster = os.path.join(output_dir, f'cerf_wind_onshore_{hub_height_str}.tif')\n",
    "        \n",
    "        with rasterio.open(final_raster, 'w', **metadata) as dest:\n",
    "            dest.write(arx.astype(rasterio.int16), 1)\n"
   ]
  },
  {
   "cell_type": "code",
   "execution_count": null,
   "id": "45bbc0d2-92d4-4e7a-92ee-f4f431edeb9d",
   "metadata": {},
   "outputs": [],
   "source": []
  }
 ],
 "metadata": {
  "kernelspec": {
   "display_name": "py3.9.4_ml",
   "language": "python",
   "name": "py3.9.4_ml"
  },
  "language_info": {
   "codemirror_mode": {
    "name": "ipython",
    "version": 3
   },
   "file_extension": ".py",
   "mimetype": "text/x-python",
   "name": "python",
   "nbconvert_exporter": "python",
   "pygments_lexer": "ipython3",
   "version": "3.9.4"
  }
 },
 "nbformat": 4,
 "nbformat_minor": 5
}
