{
 "cells": [
  {
   "cell_type": "markdown",
   "id": "9a6a42da-2bd0-4553-84a7-23968b051bb6",
   "metadata": {},
   "source": [
    "# Building wind suitablity layers for GRIDCERF"
   ]
  },
  {
   "cell_type": "markdown",
   "id": "6191293f-6539-44c4-8eeb-38bd61c7bcd2",
   "metadata": {},
   "source": [
    "The following code was used to build the wind suitability layers for GRIDCERF. GRIDCERF does not provide the source data directly due to some license restrictions related for direct redistribution of the unaltered source data.  However, the following details the provenance associated with each source dataset and how they were processed.\n"
   ]
  },
  {
   "cell_type": "markdown",
   "id": "5f98f900-a29c-476b-97a9-52d6c105e2a4",
   "metadata": {},
   "source": [
    "## 1. Downloading the data"
   ]
  },
  {
   "cell_type": "markdown",
   "id": "3c3f8fea-93e6-4b84-83c4-5868f236fee4",
   "metadata": {},
   "source": [
    "### 1.1 Download GRIDCERF\n",
    "\n",
    "Download the GRIDCERF package if you have not yet done so from here:  https://doi.org/10.5281/zenodo.6601789.  Please extract GRIDCERF inside the `data` directory of this repository as the paths in this notebook are set to that expectation.\n"
   ]
  },
  {
   "cell_type": "markdown",
   "id": "3a52b4bd-d335-4894-bae6-0d3724777de8",
   "metadata": {},
   "source": [
    "### 1.2 Download the wind potential data\n"
   ]
  },
  {
   "cell_type": "markdown",
   "id": "2efe9da0-ffa5-4253-bfde-d97aa350ea56",
   "metadata": {},
   "source": [
    "- **Title**:   The Wind Integration National Dataset (WIND) Toolkit  \n",
    "- **Description from Source**:   Provides wind resource and NREL model data for analysis of the potential for wind energy.\n",
    "- **Source URL**:  https://gds-files.nrelcloud.org/archive/wind-prospector.zip\n",
    "- **Date Accessed**:  10/14/22\n",
    "- **Citation**\n",
    "> Draxl, C., Clifton, A., Hodge, B.-M. & McCaa, J. The Wind Integration National Dataset (WIND) Toolkit. Applied Energy 151, 355–366 (2015).\n"
   ]
  },
  {
   "cell_type": "markdown",
   "id": "ea70c1e0-ea87-4494-9996-b7367c2707e8",
   "metadata": {},
   "source": [
    "## 2. Setup environment"
   ]
  },
  {
   "cell_type": "markdown",
   "id": "f7e013bc-a9df-4a20-80ed-cb1e93ca6f44",
   "metadata": {},
   "source": [
    "### 2.1 Install GDAL\n",
    "\n",
    "This application requires GDAL to be installed.  We will call GDAL directly from your command prompt or terminal, so please ensure that you can do so before running the following cells.  More information on how to install GDAL can be found here:  https://gdal.org/download.html\n"
   ]
  },
  {
   "cell_type": "markdown",
   "id": "a221e84b-9735-4916-993a-b9e33afabf39",
   "metadata": {},
   "source": [
    "### 2.2 Import necessary Python packages"
   ]
  },
  {
   "cell_type": "code",
   "execution_count": 7,
   "id": "51656ba6-795a-4b2f-9af4-3cf5c3596c52",
   "metadata": {},
   "outputs": [],
   "source": [
    "import os\n",
    "import glob\n",
    "\n",
    "import rasterio\n",
    "import numpy as np\n",
    "import pandas as pd\n",
    "import geopandas as gpd\n"
   ]
  },
  {
   "cell_type": "markdown",
   "id": "c3badafe-0b63-4351-9779-2ef32ede1332",
   "metadata": {},
   "source": [
    "## 3. Configuration"
   ]
  },
  {
   "cell_type": "code",
   "execution_count": 27,
   "id": "38b18baf-0107-4ae4-9dcf-437455cadfda",
   "metadata": {},
   "outputs": [],
   "source": [
    "# get the parent directory path to where this notebook is currently stored\n",
    "root_dir = os.path.dirname(os.getcwd())\n",
    "\n",
    "# data directory in repository\n",
    "data_dir = os.path.join(root_dir, \"data\")\n",
    "\n",
    "# GRIDCERF data directory from downloaded archive\n",
    "gridcerf_dir = os.path.join(data_dir, \"gridcerf\")\n",
    "\n",
    "# GRIDCERF reference data directory\n",
    "reference_dir = os.path.join(gridcerf_dir, \"reference\")\n",
    "\n",
    "# GRIDCERF common data directory\n",
    "common_dir = os.path.join(gridcerf_dir, \"common\")\n",
    "\n",
    "# GRIDCERF technology_specific data directory\n",
    "technology_specific_dir = os.path.join(gridcerf_dir, \"technology_specific\")\n",
    "\n",
    "# GRIDCERF compiled final suitability data directory\n",
    "compiled_dir = os.path.join(gridcerf_dir, \"compiled\")\n",
    "\n",
    "# template land mask raster\n",
    "template_raster = os.path.join(reference_dir, \"gridcerf_landmask.tif\")\n",
    "\n",
    "# source wind data directory\n",
    "wind_source_dir = os.path.join(gridcerf_dir, \"source\", \"technology_specific\", \"nrel_wind\")\n",
    "\n",
    "# Field in wind potential shapefiles that represent the area per polygon that is \n",
    "#  available for supporting wind turbines when considering a gross capacity factor\n",
    "#  of 35%. \n",
    "target_wind_area_field = \"AREA WITH \"\n",
    "\n",
    "# target fields to include when conducting rasterization\n",
    "target_wind_fields = [target_wind_area_field, \"geometry\"]\n",
    "\n",
    "# generate a list of all common exclusion files\n",
    "common_raster_list = glob.glob(os.path.join(common_dir, \"*.tif\"))\n",
    "\n",
    "# list of technology specific files to use as exclusion areas\n",
    "technology_specific_list = [os.path.join(technology_specific_dir, \"gridcerf_srtm_slope_20pct_or_less.tif\")]\n",
    "\n",
    "# list of suitability files to apply to the wind raster\n",
    "suitability_file_list = common_raster_list + technology_specific_list\n"
   ]
  },
  {
   "cell_type": "markdown",
   "id": "b13389bd-68ae-44cb-9e21-74782dc0d8d7",
   "metadata": {},
   "source": [
    "## 4. Generate wind suitability rasters"
   ]
  },
  {
   "cell_type": "markdown",
   "id": "39670a53-f114-4b21-a0f0-255fd707e802",
   "metadata": {},
   "source": [
    "### 4.1 Functions to build suitability"
   ]
  },
  {
   "cell_type": "code",
   "execution_count": 49,
   "id": "d387499b-6619-4cd0-b4e8-829f494c1c1b",
   "metadata": {},
   "outputs": [],
   "source": [
    "def get_crs(template_raster: str):\n",
    "    \n",
    "    with rasterio.open(template_raster) as src:\n",
    "        return src.crs\n",
    "\n",
    "\n",
    "def filter_wind_potential_shapefile(hub_height: int, \n",
    "                                    wind_source_dir: str,\n",
    "                                    target_wind_area_field: str,\n",
    "                                    target_wind_fields: list,\n",
    "                                    target_crs: str):\n",
    "    \n",
    "    # construct the target wind potential file name\n",
    "    root_name = f\"{hub_height}_Meter_Hub_Height_Current_Technology_\"\n",
    "    target_wind_file = os.path.join(wind_source_dir, root_name, f\"{root_name}.shp\")\n",
    "\n",
    "    # read in wind potential shapefile as a GeoPandas data frame\n",
    "    gdf = gpd.read_file(target_wind_file)[target_wind_fields]\n",
    "    \n",
    "    # only keep polygons having an area capable of supporting 35% GCF of >= 1km\n",
    "    gdf = gdf.loc[gdf[target_wind_area_field] >= 1].copy()\n",
    "    \n",
    "    # set target value for rasterization\n",
    "    gdf[\"value\"] = 0\n",
    "    \n",
    "    # reproject to the default GRIDCERF coordinate reference system\n",
    "    gdf.to_crs(crs=target_crs, inplace=True)\n",
    "    \n",
    "    # save filtered shapefile\n",
    "    basename = f\"gridcerf_nrel_wind_development_potential_hubheight{hub_height}m_cf35\"\n",
    "    output_shpfile = os.path.join(wind_source_dir, f\"{basename}.shp\")\n",
    "    gdf[[\"value\", \"geometry\"]].to_file(output_shpfile)\n",
    "    \n",
    "    return output_shpfile, basename\n",
    "\n",
    "\n",
    "def rasterize_potential_noexclusions(input_shapefile: str, \n",
    "                                     file_basename: str,\n",
    "                                     output_dir: str):\n",
    "\n",
    "    # construct output raster name and path\n",
    "    output_raster = os.path.join(output_dir, f\"{file_basename}_no-exclusions.tif\")\n",
    "\n",
    "    # construct command to rasterize the shapefile using GDAL\n",
    "    gdal_rasterize_cmd = f\"gdal_rasterize -l {file_basename} -a value -tr 1000.0 1000.0 -init 1.0 -te -2405552.8355 -1389065.2005 2287447.1645 1609934.7995 -ot Int16 -of GTiff {input_shapefile} {output_raster}\"\n",
    "\n",
    "    # execute the GDAL command\n",
    "    print(gdal_rasterize_cmd, '\\n')\n",
    "    os.system(gdal_rasterize_cmd)\n",
    "    \n",
    "    return output_raster\n",
    "\n",
    "\n",
    "def construct_wind_suitability(hub_height: int,\n",
    "                               input_wind_raster: str, \n",
    "                               output_suitability_dir: str,\n",
    "                               suitability_file_list: list):\n",
    "    \n",
    "    # open input wind potential raster\n",
    "    with rasterio.open(input_wind_raster) as wind_potential_raster:\n",
    "\n",
    "        # update metadata datatype to int16\n",
    "        metadata = wind_potential_raster.meta.copy()\n",
    "        metadata.update({'dtype': rasterio.int16})\n",
    "\n",
    "        # get array of potential suitability\n",
    "        wind_suitability_array = wind_potential_raster.read(1)\n",
    "\n",
    "    # apply suitability rasters\n",
    "    for idx, i in enumerate(suitability_file_list):\n",
    "        with rasterio.open(i) as src:\n",
    "            wind_suitability_array += src.read(1)\n",
    "\n",
    "    # reclassify to 0 (suitable), 1 (unsuitable)\n",
    "    wind_suitability_array = np.where(wind_suitability_array == 0, 0, 1)\n",
    "\n",
    "    # write aggregate tech-specific suitability layer to file\n",
    "    final_raster = os.path.join(output_suitability_dir, f'gridcerf_wind_onshore_{hub_height}.tif')\n",
    "    with rasterio.open(final_raster, 'w', **metadata) as dest:\n",
    "        dest.write(wind_suitability_array.astype(rasterio.int16), 1)\n",
    "        \n",
    "    print(f\"Generated wind suitability raster:  {final_raster}\")\n",
    "        \n",
    "    return final_raster\n",
    "\n",
    "    "
   ]
  },
  {
   "cell_type": "markdown",
   "id": "adc3f8ec-5155-44d1-a223-d617042d76c3",
   "metadata": {},
   "source": [
    "### 4.2 Generate wind suitability rasters for all desired hub heights"
   ]
  },
  {
   "cell_type": "code",
   "execution_count": 52,
   "id": "5ab3684e-8bd0-474d-8f0b-92bcf477f2ba",
   "metadata": {},
   "outputs": [
    {
     "name": "stdout",
     "output_type": "stream",
     "text": [
      "Processing hub height:  80...\n",
      "gdal_rasterize -l gridcerf_nrel_wind_development_potential_hubheight80m_cf35 -a value -tr 1000.0 1000.0 -init 1.0 -te -2405552.8355 -1389065.2005 2287447.1645 1609934.7995 -ot Int16 -of GTiff /Users/d3y010/repos/metarepos/vernon-etal_2022_scidata/data/gridcerf/source/wind/gridcerf_nrel_wind_development_potential_hubheight80m_cf35.shp /Users/d3y010/repos/metarepos/vernon-etal_2022_scidata/data/gridcerf/source/wind/gridcerf_nrel_wind_development_potential_hubheight80m_cf35_no-exclusions.tif \n",
      "\n",
      "0...10...20...30...40...50...60...70...80...90...100 - done.\n",
      "Generated wind suitability raster:  /Users/d3y010/repos/metarepos/vernon-etal_2022_scidata/data/gridcerf/compiled/gridcerf_wind_onshore_80.tif\n",
      "Processing hub height:  110...\n",
      "gdal_rasterize -l gridcerf_nrel_wind_development_potential_hubheight110m_cf35 -a value -tr 1000.0 1000.0 -init 1.0 -te -2405552.8355 -1389065.2005 2287447.1645 1609934.7995 -ot Int16 -of GTiff /Users/d3y010/repos/metarepos/vernon-etal_2022_scidata/data/gridcerf/source/wind/gridcerf_nrel_wind_development_potential_hubheight110m_cf35.shp /Users/d3y010/repos/metarepos/vernon-etal_2022_scidata/data/gridcerf/source/wind/gridcerf_nrel_wind_development_potential_hubheight110m_cf35_no-exclusions.tif \n",
      "\n",
      "0...10...20...30...40...50...60...70...80...90...100 - done.\n",
      "Generated wind suitability raster:  /Users/d3y010/repos/metarepos/vernon-etal_2022_scidata/data/gridcerf/compiled/gridcerf_wind_onshore_110.tif\n",
      "Processing hub height:  140...\n",
      "gdal_rasterize -l gridcerf_nrel_wind_development_potential_hubheight140m_cf35 -a value -tr 1000.0 1000.0 -init 1.0 -te -2405552.8355 -1389065.2005 2287447.1645 1609934.7995 -ot Int16 -of GTiff /Users/d3y010/repos/metarepos/vernon-etal_2022_scidata/data/gridcerf/source/wind/gridcerf_nrel_wind_development_potential_hubheight140m_cf35.shp /Users/d3y010/repos/metarepos/vernon-etal_2022_scidata/data/gridcerf/source/wind/gridcerf_nrel_wind_development_potential_hubheight140m_cf35_no-exclusions.tif \n",
      "\n",
      "0...10...20...30...40...50...60...70...80...90...100 - done.\n",
      "Generated wind suitability raster:  /Users/d3y010/repos/metarepos/vernon-etal_2022_scidata/data/gridcerf/compiled/gridcerf_wind_onshore_140.tif\n"
     ]
    }
   ],
   "source": [
    "# list of hub heights to process\n",
    "hub_height_list = [80, 110, 140]\n",
    "\n",
    "# get coordinate reference system from template GRIDCERF raster\n",
    "target_crs = get_crs(template_raster)\n",
    "\n",
    "# process each hub height\n",
    "for hub_height in hub_height_list:\n",
    "    \n",
    "    print(f\"\\nProcessing hub height:  {hub_height}...\")\n",
    "\n",
    "    # create a filtered shapefile containing all wind potential polygons having >= 1km of area able to support a GCF of 35%\n",
    "    filtered_shapefile, basename = filter_wind_potential_shapefile(hub_height=hub_height, \n",
    "                                                                   wind_source_dir=wind_source_dir,\n",
    "                                                                   target_wind_area_field=target_wind_area_field,\n",
    "                                                                   target_wind_fields=target_wind_fields,\n",
    "                                                                   target_crs=target_crs)\n",
    "\n",
    "    # rasterize the shapefile into GRIDCERF's format\n",
    "    wind_potential_raster = rasterize_potential_noexclusions(input_shapefile=filtered_shapefile,\n",
    "                                                             file_basename=basename,\n",
    "                                                             output_dir=technology_specific_dir)\n",
    "    \n",
    "    # generate wind suitability output including suitability exclusions\n",
    "    wind_suitability_raster_file = construct_wind_suitability(hub_height=hub_height,\n",
    "                                                              input_wind_raster=wind_potential_raster, \n",
    "                                                              output_suitability_dir=compiled_dir,\n",
    "                                                              suitability_file_list=suitability_file_list)\n"
   ]
  },
  {
   "cell_type": "code",
   "execution_count": null,
   "id": "5a825649-6b1a-4915-8334-e450ad862d9b",
   "metadata": {},
   "outputs": [],
   "source": []
  }
 ],
 "metadata": {
  "kernelspec": {
   "display_name": "py3.9.4_ml",
   "language": "python",
   "name": "py3.9.4_ml"
  },
  "language_info": {
   "codemirror_mode": {
    "name": "ipython",
    "version": 3
   },
   "file_extension": ".py",
   "mimetype": "text/x-python",
   "name": "python",
   "nbconvert_exporter": "python",
   "pygments_lexer": "ipython3",
   "version": "3.9.4"
  }
 },
 "nbformat": 4,
 "nbformat_minor": 5
}
