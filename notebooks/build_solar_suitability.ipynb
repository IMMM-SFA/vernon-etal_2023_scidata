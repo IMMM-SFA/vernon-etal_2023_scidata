{
 "cells": [
  {
   "cell_type": "markdown",
   "id": "9a6a42da-2bd0-4553-84a7-23968b051bb6",
   "metadata": {},
   "source": [
    "# Building solar suitablity layers for GRIDCERF"
   ]
  },
  {
   "cell_type": "markdown",
   "id": "5f98f900-a29c-476b-97a9-52d6c105e2a4",
   "metadata": {},
   "source": [
    "## 1. Downloading the data"
   ]
  },
  {
   "cell_type": "markdown",
   "id": "3c3f8fea-93e6-4b84-83c4-5868f236fee4",
   "metadata": {},
   "source": [
    "### 1.1 Download GRIDCERF\n",
    "\n",
    "Download the GRIDCERF package if you have not yet done so from here:  https://doi.org/10.5281/zenodo.6601789.  Please extract GRIDCERF inside the `data` directory of this repository as the paths in this notebook are set to that expectation.\n"
   ]
  },
  {
   "cell_type": "markdown",
   "id": "7f31f4e4-ed34-4305-88b0-6fd225380a1d",
   "metadata": {},
   "source": [
    "### 1.2 Download the solar potential data\n",
    "\n",
    "Please extract these data to the `data/gridcerf/source/solar` directory as this is where the current paths in this notebook point to.\n",
    "\n",
    "The following files are available for download from the Geospatial Energy Mapper (GEM; https://gem.anl.gov/; previously EZMT) application or via the following links:\n",
    "\n",
    "Download the solar energy potential data for photovoltaic direct normal irradiance from here: https://ezmt.anl.gov/mapexport/energy_potential_solar_pv_v2.zip\n",
    "\n",
    "Download the solar energy potential data for concentrating direct normal irradiance from here: https://ezmt.anl.gov/mapexport/energy_potential_solar_conc_v2.zip\n",
    "\n",
    "Metadata for these files are contained in the zipped download.\n"
   ]
  },
  {
   "cell_type": "markdown",
   "id": "ea70c1e0-ea87-4494-9996-b7367c2707e8",
   "metadata": {},
   "source": [
    "## 2. Setup environment"
   ]
  },
  {
   "cell_type": "markdown",
   "id": "f7e013bc-a9df-4a20-80ed-cb1e93ca6f44",
   "metadata": {},
   "source": [
    "### 2.1 Install GDAL\n",
    "\n",
    "This application requires GDAL to be installed.  We will call GDAL directly from your command prompt or terminal, so please ensure that you can do so before running the following cells.  More information on how to install GDAL can be found here:  https://gdal.org/download.html\n"
   ]
  },
  {
   "cell_type": "markdown",
   "id": "80f2e8a6-be36-4b51-a242-3d66c4328e20",
   "metadata": {},
   "source": [
    "### 2.2 Install Python third-party dependencies\n",
    "\n",
    "The following Python packages can be installed directly from the following kernel if they are not already in your kernel's environment.  If you are using conda, please use conda specific install protocol.\n",
    "\n",
    "**NOTE**: Executing the following cell will install these Python packages over your existing versions!  \n"
   ]
  },
  {
   "cell_type": "code",
   "execution_count": null,
   "id": "23e93b9d-11d3-4a3a-9e01-309d384fec94",
   "metadata": {},
   "outputs": [],
   "source": [
    "!pip install -Iv numpy>=1.23.1\n",
    "!pip install -Iv pandas>=1.4.3\n",
    "!pip install -Iv rasterio>=1.3.4\n",
    "!pip install -Iv geopandas>=0.12.2\n"
   ]
  },
  {
   "cell_type": "markdown",
   "id": "a221e84b-9735-4916-993a-b9e33afabf39",
   "metadata": {},
   "source": [
    "### 2.3 Import necessary Python packages"
   ]
  },
  {
   "cell_type": "code",
   "execution_count": 1,
   "id": "51656ba6-795a-4b2f-9af4-3cf5c3596c52",
   "metadata": {},
   "outputs": [],
   "source": [
    "import os\n",
    "import glob\n",
    "\n",
    "import rasterio\n",
    "import numpy as np\n",
    "import pandas as pd\n",
    "import geopandas as gpd\n",
    "from rasterio import features\n"
   ]
  },
  {
   "cell_type": "markdown",
   "id": "c3badafe-0b63-4351-9779-2ef32ede1332",
   "metadata": {},
   "source": [
    "## 3. Configuration"
   ]
  },
  {
   "cell_type": "raw",
   "id": "6959a1fd-fd7b-452f-9f2c-e75a5de095d6",
   "metadata": {},
   "source": [
    "# get the parent directory path to where this notebook is currently stored\n",
    "root_dir = os.path.dirname(os.getcwd())\n",
    "\n",
    "# data directory in repository\n",
    "data_dir = os.path.join(root_dir, \"data\")\n",
    "\n",
    "# GRIDCERF data directory from downloaded archive\n",
    "gridcerf_dir = os.path.join(data_dir, \"gridcerf\")\n",
    "\n",
    "# GRIDCERF reference data directory\n",
    "reference_dir = os.path.join(gridcerf_dir, \"reference\")\n",
    "\n",
    "# GRIDCERF common data directory\n",
    "common_dir = os.path.join(gridcerf_dir, \"common\")\n",
    "\n",
    "# GRIDCERF compiled data directory\n",
    "compiled_dir = os.path.join(gridcerf_dir, \"compiled\")\n",
    "\n",
    "# GRIDCERF technology_specific data directory\n",
    "technology_specific_dir = os.path.join(gridcerf_dir, \"technology_specific\")\n",
    "\n",
    "# template land mask raster\n",
    "template_raster = os.path.join(reference_dir, \"gridcerf_landmask.tif\")\n",
    "\n",
    "# source solar data directory\n",
    "solar_source_dir = os.path.join(gridcerf_dir, \"source\", \"technology_specific\", \"nrel_solar\")\n",
    "\n",
    "# temporary output raster for processing\n",
    "temp_output_raster = os.path.join(solar_source_dir, \"temporary_raster.tif\")\n",
    "\n",
    "# generate a list of all common exclusion files\n",
    "common_raster_list = glob.glob(os.path.join(common_dir, \"*.tif\"))\n",
    "\n",
    "# data specific to each technology \n",
    "technology_data = {\"csp\": {\"slope_percent\": 5,\n",
    "                           \"unit_size_dc\": 100000,\n",
    "                           \"capacity_factor_ac\": 0.25,\n",
    "                           \"area_percentage\": 0.75,\n",
    "                           \"input_shapefile\": os.path.join(solar_source_dir, \"energy_potential_solar_conc_v2\", \"ez_gis.energy_potential_solar_conc_v2.shp\"),\n",
    "                           \"shapefile_field\": \"ann_dni\"},\n",
    "                   \"pv\":  {\"slope_percent\": 10,\n",
    "                           \"unit_size_dc\": 75000,\n",
    "                           \"capacity_factor_ac\": 0.23,\n",
    "                           \"area_percentage\": 0.75,\n",
    "                           \"input_shapefile\": os.path.join(solar_source_dir, \"energy_potential_solar_pv_v2\", \"ez_gis.energy_potential_solar_pv_v2.shp\"),\n",
    "                           \"shapefile_field\": \"ann_ghi\"}}\n"
   ]
  },
  {
   "cell_type": "markdown",
   "id": "ffd8461f-d925-42ec-a627-5743ebf64df9",
   "metadata": {},
   "source": [
    "## 4. Generate solar suitability rasters"
   ]
  },
  {
   "cell_type": "markdown",
   "id": "39670a53-f114-4b21-a0f0-255fd707e802",
   "metadata": {},
   "source": [
    "### 4.1 Functions to build suitability"
   ]
  },
  {
   "cell_type": "code",
   "execution_count": 4,
   "id": "d387499b-6619-4cd0-b4e8-829f494c1c1b",
   "metadata": {},
   "outputs": [],
   "source": [
    "def calc_irradiance_threshold(unit_size_dc: int, \n",
    "                              capacity_factor_ac: float, \n",
    "                              area_percentage: float) -> float:\n",
    "    \"\"\"Calculates the irradiance necessary to produce the AC energy output expected from the given \n",
    "    unit size (kW) and AC capacity factor (%)\n",
    "    \n",
    "    :param unit_size:             unit size (installed DC capacity) of the solar array in kilowatts\n",
    "    :type unit_size:              int\n",
    "    \n",
    "    :param capacity_factor_ac:    capacity factor (AC) of the solar array\n",
    "    :type capacity_factor_ac:     float\n",
    "    \n",
    "    :param area_percentage:       assumed percentage of square site area used for solar panels\n",
    "    :type area_percentage:        float\n",
    "    \n",
    "    \n",
    "    :return:                      irradiance required in kWh_m2_day\n",
    "    \n",
    "    \"\"\"\n",
    "    \n",
    "    DC_AC_RATIO = 1.3\n",
    "    HOURS_PER_DAY = 24\n",
    "    ACRES_PER_MW_AC = 5.8\n",
    "    ACRES_PER_KM2 = 247.105\n",
    "    \n",
    "    kwh_day_ac_max = (unit_size_dc * HOURS_PER_DAY) / DC_AC_RATIO\n",
    "    kwh_output_actual = kwh_day_ac_max * capacity_factor_ac\n",
    "\n",
    "    irradiance = kwh_output_actual / unit_size_dc\n",
    "    irradiance = round(irradiance, 3)\n",
    "    \n",
    "    land = ((((unit_size_dc/1000) / DC_AC_RATIO) * ACRES_PER_MW_AC) / ACRES_PER_KM2) / area_percentage\n",
    "    land = round(land, 2)\n",
    "    \n",
    "    print(f\"Required irradiance level is: {irradiance} kWh/m2/day\")\n",
    "    print(f\"Required land area is: {land} km2\")\n",
    "    \n",
    "    return irradiance\n",
    "\n",
    "\n",
    "def build_potential_layer(shapefile_path: str, \n",
    "                          template_raster: str, \n",
    "                          output_temp: str, \n",
    "                          output_file: str, \n",
    "                          irradiance: float, \n",
    "                          value_field: str = \"ann_latilt\"):\n",
    "    \n",
    "    # read shapefile into a geodataframe\n",
    "    gdf = gpd.read_file(shapefile_path)\n",
    "    \n",
    "    # open the template raster and extract metadata and land mask\n",
    "    with rasterio.open(template_raster) as template:\n",
    "\n",
    "        metadata = template.meta.copy()\n",
    "\n",
    "        # update raster data type\n",
    "        metadata.update(dtype=np.float64)\n",
    "\n",
    "        # extract land mask\n",
    "        land_mask = template.read(1)\n",
    "        land_mask = np.where(land_mask == 0, np.nan, 1)\n",
    "\n",
    "        # reproject solar data to GRIDCERF standard\n",
    "        gdf = gdf.to_crs(template.crs)\n",
    "\n",
    "        # write output raster\n",
    "        with rasterio.open(output_temp, 'w+', **metadata) as out:\n",
    "\n",
    "            out_arr = out.read(1)\n",
    "\n",
    "            # build shapes to rasterize from target geometry and field\n",
    "            shapes = ((geom,value) for geom, value in zip(gdf.geometry, gdf[value_field]))\n",
    "\n",
    "            # burn features\n",
    "            burned = features.rasterize(shapes=shapes, fill=0, out=out_arr, transform=out.transform)\n",
    "\n",
    "            out.write_band(1, burned)\n",
    "\n",
    "    # open burned raster\n",
    "    with rasterio.open(output_temp) as src:\n",
    "\n",
    "        metadata = src.meta.copy()\n",
    "\n",
    "        arr = src.read(1)\n",
    "\n",
    "        # calculate binary suitability\n",
    "        arr = np.where(arr >= irradiance, 0, 1).astype(np.float64)\n",
    "\n",
    "        # apply land mask\n",
    "        arr *= land_mask\n",
    "\n",
    "        with rasterio.open(output_file, 'w', **metadata) as dest:\n",
    "            dest.write(arr, 1)\n",
    "\n",
    "            \n",
    "def construct_solar_suitability(input_potential_raster: str, \n",
    "                                output_suitability_dir: str,\n",
    "                                suitability_file_list: list,\n",
    "                                technology: str):\n",
    "    \n",
    "    # open input wind potential raster\n",
    "    with rasterio.open(input_potential_raster) as solar_potential_raster:\n",
    "\n",
    "        # update metadata datatype to int16\n",
    "        metadata = solar_potential_raster.meta.copy()\n",
    "        metadata.update({'dtype': rasterio.int16})\n",
    "\n",
    "        # get array of potential suitability\n",
    "        solar_suitability_array = solar_potential_raster.read(1)\n",
    "\n",
    "    # apply suitability rasters\n",
    "    for idx, i in enumerate(suitability_file_list):\n",
    "        with rasterio.open(i) as src:\n",
    "            solar_suitability_array += src.read(1)\n",
    "\n",
    "    # reclassify to 0 (suitable), 1 (unsuitable)\n",
    "    solar_suitability_array = np.where(solar_suitability_array == 0, 0, 1)\n",
    "\n",
    "    # write aggregate tech-specific suitability layer to file\n",
    "    final_raster = os.path.join(output_suitability_dir, f'gridcerf_solar_{technology}_centralized.tif')\n",
    "    with rasterio.open(final_raster, 'w', **metadata) as dest:\n",
    "        dest.write(solar_suitability_array.astype(rasterio.int16), 1)\n",
    "        \n",
    "    print(f\"Generated solar suitability raster:  {final_raster}\")\n",
    "        \n",
    "    return final_raster\n"
   ]
  },
  {
   "cell_type": "markdown",
   "id": "adc3f8ec-5155-44d1-a223-d617042d76c3",
   "metadata": {},
   "source": [
    "### 4.2 Generate solar suitability rasters"
   ]
  },
  {
   "cell_type": "code",
   "execution_count": 5,
   "id": "5a825649-6b1a-4915-8334-e450ad862d9b",
   "metadata": {},
   "outputs": [
    {
     "name": "stdout",
     "output_type": "stream",
     "text": [
      "Processing: pv\n",
      "Required irradiance level is: 4.246 kWh/m2/day\n",
      "Required land area is: 1.81 km2\n",
      "Generated solar suitability raster:  /Users/d3y010/repos/metarepos/vernon-etal_2022_scidata/data/gridcerf/compiled/gridcerf_solar_pv_centralized.tif\n",
      "Processing: csp\n",
      "Required irradiance level is: 4.615 kWh/m2/day\n",
      "Required land area is: 2.41 km2\n",
      "Generated solar suitability raster:  /Users/d3y010/repos/metarepos/vernon-etal_2022_scidata/data/gridcerf/compiled/gridcerf_solar_csp_centralized.tif\n"
     ]
    }
   ],
   "source": [
    "# process each technology\n",
    "for technology in (\"pv\", \"csp\"):\n",
    "    \n",
    "    print(f\"Processing: {technology}\")\n",
    "\n",
    "    # unpack technology specific data\n",
    "    slope_percent = technology_data[technology][\"slope_percent\"]\n",
    "    unit_size_dc = technology_data[technology][\"unit_size_dc\"]    \n",
    "    capacity_factor_ac = technology_data[technology][\"capacity_factor_ac\"]    \n",
    "    area_percentage = technology_data[technology][\"area_percentage\"] \n",
    "    input_shapefile = technology_data[technology][\"input_shapefile\"] \n",
    "    shapefile_field = technology_data[technology][\"shapefile_field\"] \n",
    "\n",
    "    # construct technology-specific output file name\n",
    "    output_file = os.path.join(technology_specific_dir, f\"gridcerf_solar_{technology}_centralized_potential.tif\")\n",
    "    \n",
    "    # calculate the irradiance threshold\n",
    "    irradiance_threshold = calc_irradiance_threshold(unit_size_dc=unit_size_dc, \n",
    "                                                     capacity_factor_ac=capacity_factor_ac, \n",
    "                                                     area_percentage=area_percentage)\n",
    "\n",
    "    # construct technical potential suitability raster\n",
    "    build_potential_layer(shapefile_path=input_shapefile, \n",
    "                          template_raster=template_raster, \n",
    "                          output_temp=temp_output_raster, \n",
    "                          output_file=output_file, \n",
    "                          irradiance=irradiance_threshold, \n",
    "                          value_field=shapefile_field)\n",
    "    \n",
    "    # list of technology specific files to use as exclusion areas\n",
    "    technology_specific_list = [os.path.join(technology_specific_dir, f\"gridcerf_srtm_slope_{slope_percent}pct_or_less.tif\")]\n",
    "\n",
    "    # list of suitability files to apply to the slope raster\n",
    "    suitability_file_list = common_raster_list + technology_specific_list\n",
    "\n",
    "    # create combined suitability raster\n",
    "    f = construct_solar_suitability(input_potential_raster=output_file, \n",
    "                                    output_suitability_dir=compiled_dir,\n",
    "                                    suitability_file_list=suitability_file_list,\n",
    "                                    technology=technology)\n"
   ]
  },
  {
   "cell_type": "code",
   "execution_count": null,
   "id": "d42e66f8-f582-4a8c-bbbe-d369790bcbfc",
   "metadata": {},
   "outputs": [],
   "source": []
  }
 ],
 "metadata": {
  "kernelspec": {
   "display_name": "py3.9.4_ml",
   "language": "python",
   "name": "py3.9.4_ml"
  },
  "language_info": {
   "codemirror_mode": {
    "name": "ipython",
    "version": 3
   },
   "file_extension": ".py",
   "mimetype": "text/x-python",
   "name": "python",
   "nbconvert_exporter": "python",
   "pygments_lexer": "ipython3",
   "version": "3.9.4"
  }
 },
 "nbformat": 4,
 "nbformat_minor": 5
}
