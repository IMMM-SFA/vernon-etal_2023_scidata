{
 "cells": [
  {
   "cell_type": "markdown",
   "id": "25aaefb8-d484-4e0c-881e-b9b08d42054d",
   "metadata": {},
   "source": [
    "# Rail nodes and navigable water layer must be combined by their most premissive attributes"
   ]
  },
  {
   "cell_type": "markdown",
   "id": "3436d8fb-a33f-4405-8478-e2567832f2bb",
   "metadata": {},
   "source": [
    "## North American Rail Nodes\n",
    "\n",
    "The rail nodes dataset supports the topology of the North American Rail Network (NARN) and attributes information for use in network analysis applications.\n",
    "\n",
    "Retrieved from https://data-usdot.opendata.arcgis.com/datasets/north-american-rail-nodes/explore?location=37.316236%2C-108.315150%2C4.21 \n",
    "\n",
    "Retrieved on:  Jan 6, 2022\n",
    "\n",
    "NTAD datasets are intended for public usage and are not for sale/resale.\n",
    "\n",
    "See full metadata:  https://data-usdot.opendata.arcgis.com/datasets/usdot::north-american-rail-nodes/about\n"
   ]
  },
  {
   "cell_type": "code",
   "execution_count": 1,
   "id": "bc2631a4-92c8-41f5-8deb-e71771b5dacc",
   "metadata": {},
   "outputs": [],
   "source": [
    "import os\n",
    "\n",
    "import rasterio\n",
    "import numpy as np\n"
   ]
  },
  {
   "cell_type": "code",
   "execution_count": 13,
   "id": "1cc1ede4-f50c-4f39-b832-eff2bcadbf84",
   "metadata": {},
   "outputs": [],
   "source": [
    "data_dir = '/Users/d3y010/projects/cerf/suitability/data'\n",
    "\n",
    "nodes_shp = os.path.join(data_dir, 'raw', 'North_American_Rail_Nodes', 'North_American_Rail_Nodes.shp')\n",
    "\n",
    "buffered_shp = os.path.join(data_dir, 'raw', 'North_American_Rail_Nodes', 'North_American_Rail_Nodes_albers_buff5km.shp')\n",
    "\n",
    "template_raster = os.path.join(data_dir, 'reference', 'cerf_landmask_0-land.tif')\n",
    "\n",
    "output_temp_raster = os.path.join(data_dir, 'raw', 'North_American_Rail_Nodes','cerf_ntad_railnodes_greaterthan5km_prep.tif')\n",
    "\n",
    "output_final_raster = os.path.join(data_dir, 'raw', 'North_American_Rail_Nodes','cerf_ntad_railnodes_greaterthan5km.tif')\n"
   ]
  },
  {
   "cell_type": "markdown",
   "id": "685919e5-9fac-47a6-8f62-2f1adf6dccbf",
   "metadata": {},
   "source": [
    "### In QGIS\n",
    "\n",
    "1. Reproject to Albers\n",
    "2. buffer by 5km and dissolve\n",
    "3. rasterize using the following"
   ]
  },
  {
   "cell_type": "code",
   "execution_count": 14,
   "id": "306f9994-ac37-4728-aae4-6daa9a221fcf",
   "metadata": {},
   "outputs": [
    {
     "data": {
      "text/plain": [
       "0"
      ]
     },
     "execution_count": 14,
     "metadata": {},
     "output_type": "execute_result"
    }
   ],
   "source": [
    "# then run this command\n",
    "gdal_cmd = f'gdal_rasterize -l North_American_Rail_Nodes_albers_buff5km -a BNDRY -tr 1000.0 1000.0 -init 1.0 -te -2405552.8355 -1389065.2005 2287447.1645 1609934.7995 -ot Int16 -of GTiff {buffered_shp} {output_temp_raster}'\n",
    "\n",
    "os.system(gdal_cmd)\n"
   ]
  },
  {
   "cell_type": "code",
   "execution_count": 15,
   "id": "12050992-aae3-48ad-8a50-e32cc37f86cf",
   "metadata": {},
   "outputs": [],
   "source": [
    "with rasterio.open(template_raster) as template:\n",
    "  \n",
    "    metadata = template.meta\n",
    "    \n",
    "    arr_template = template.read(1)\n",
    "    \n",
    "    with rasterio.open(output_temp_raster) as opt:\n",
    "        \n",
    "        arr = opt.read(1)\n",
    "        \n",
    "        arr += arr_template\n",
    "        \n",
    "        arr = np.where(arr > 1, 1, arr)\n",
    "\n",
    "        with rasterio.open(output_final_raster, 'w', **metadata) as dest:\n",
    "            dest.write(arr, 1)\n"
   ]
  },
  {
   "cell_type": "markdown",
   "id": "7248b350-ba0e-4afd-ba56-826052036eaa",
   "metadata": {},
   "source": [
    "## Navigable waterway lines\n",
    "\n",
    "The National Waterway Network is a geographic database of navigable waterways in and around the United States, for analytical studies of waterway performance, for compiling commodity flow statistics, and for mapping purposes.\n",
    "\n",
    "Retrieved from https://data-usdot.opendata.arcgis.com/datasets/navigable-waterway-lines/explore?location=5.861777%2C-0.334100%2C4.00\n",
    "\n",
    "Retrieved on:  Jan 6, 2022\n",
    "\n",
    "NTAD datasets are intended for public usage and are not for sale/resale.\n",
    "\n",
    "See full metadata:  https://data-usdot.opendata.arcgis.com/datasets/usdot::navigable-waterway-lines/about\n"
   ]
  },
  {
   "cell_type": "code",
   "execution_count": 3,
   "id": "946ade01-6a7f-4873-93d1-78df2712f828",
   "metadata": {},
   "outputs": [
    {
     "name": "stderr",
     "output_type": "stream",
     "text": [
      "/Users/d3y010/.pyenv/versions/py3.9.4_cerf/lib/python3.9/site-packages/geopandas/_compat.py:106: UserWarning: The Shapely GEOS version (3.8.0-CAPI-1.13.1 ) is incompatible with the GEOS version PyGEOS was compiled with (3.10.1-CAPI-1.16.0). Conversions between both will be slow.\n",
      "  warnings.warn(\n"
     ]
    }
   ],
   "source": [
    "import os\n",
    "\n",
    "import rasterio\n",
    "import numpy as np\n",
    "import geopandas as gpd\n"
   ]
  },
  {
   "cell_type": "code",
   "execution_count": 5,
   "id": "6ce75b21-2eba-416c-8a46-98d4826679e4",
   "metadata": {},
   "outputs": [],
   "source": [
    "data_dir = '/Users/d3y010/projects/cerf/suitability/data'\n",
    "\n",
    "nodes_shp = os.path.join(data_dir, 'raw', 'Navigable_Waterway_Lines', 'Navigable_Waterway_Lines.shp')\n",
    "\n",
    "buffered_shp = os.path.join(data_dir, 'raw', 'Navigable_Waterway_Lines', 'Navigable_Waterway_Lines_albers_buff5km.shp')\n",
    "\n",
    "template_raster = os.path.join(data_dir, 'reference', 'cerf_landmask_0-land.tif')\n",
    "\n",
    "output_temp_raster = os.path.join(data_dir, 'raw', 'Navigable_Waterway_Lines','cerf_ntad_navwater_greaterthan5km_prep.tif')\n",
    "\n",
    "output_final_raster = os.path.join(data_dir, 'raw', 'Navigable_Waterway_Lines','cerf_ntad_navwater_greaterthan5km.tif')\n"
   ]
  },
  {
   "cell_type": "markdown",
   "id": "7f525ac0-3673-4c9f-8602-7c1547b1121a",
   "metadata": {},
   "source": [
    "### In QGIS\n",
    "\n",
    "1. Reproject to Albers\n",
    "2. buffer by 5km and dissolve\n",
    "3. rasterize using the following"
   ]
  },
  {
   "cell_type": "code",
   "execution_count": 6,
   "id": "f4240261-7346-424b-a743-b55194fa154b",
   "metadata": {},
   "outputs": [
    {
     "data": {
      "text/plain": [
       "0"
      ]
     },
     "execution_count": 6,
     "metadata": {},
     "output_type": "execute_result"
    }
   ],
   "source": [
    "# then run this command\n",
    "gdal_cmd = f'gdal_rasterize -l Navigable_Waterway_Lines_albers_buff5km -a DIR -tr 1000.0 1000.0 -init 1.0 -te -2405552.8355 -1389065.2005 2287447.1645 1609934.7995 -ot Int16 -of GTiff {buffered_shp} {output_temp_raster}'\n",
    "\n",
    "os.system(gdal_cmd)\n"
   ]
  },
  {
   "cell_type": "code",
   "execution_count": 7,
   "id": "d059b129-e598-49a1-b4f3-4190ea2e1478",
   "metadata": {},
   "outputs": [],
   "source": [
    "with rasterio.open(template_raster) as template:\n",
    "  \n",
    "    metadata = template.meta\n",
    "    \n",
    "    arr_template = template.read(1)\n",
    "    \n",
    "    with rasterio.open(output_temp_raster) as opt:\n",
    "        \n",
    "        arr = opt.read(1)\n",
    "        \n",
    "        arr += arr_template\n",
    "        \n",
    "        arr = np.where(arr > 1, 1, arr)\n",
    "\n",
    "        with rasterio.open(output_final_raster, 'w', **metadata) as dest:\n",
    "            dest.write(arr, 1)\n"
   ]
  },
  {
   "cell_type": "markdown",
   "id": "93b55e53-f2a8-46d9-aad5-5a8cd8c08a3e",
   "metadata": {},
   "source": [
    "## Combine"
   ]
  },
  {
   "cell_type": "code",
   "execution_count": 19,
   "id": "611e4aff-6abf-4e3b-8c9e-567226dab218",
   "metadata": {},
   "outputs": [],
   "source": [
    "rail_final_raster = os.path.join(data_dir, 'raw', 'North_American_Rail_Nodes','cerf_ntad_railnodes_greaterthan5km.tif')\n",
    "nav_final_raster = os.path.join(data_dir, 'raw', 'Navigable_Waterway_Lines','cerf_ntad_navwater_greaterthan5km.tif')\n",
    "\n",
    "combined_raster = '/Users/d3y010/projects/cerf/suitability/data/technology_specific/cerf_ntad_railnodes_navwaters_greaterthan5km.tif'\n"
   ]
  },
  {
   "cell_type": "code",
   "execution_count": 20,
   "id": "1f15c203-e91f-4c47-bbc0-0dbfb094f508",
   "metadata": {},
   "outputs": [],
   "source": [
    "with rasterio.open(rail_final_raster) as rail:\n",
    "    \n",
    "    metadata = rail.meta\n",
    "    \n",
    "    arr_rail = rail.read(1)\n",
    "    \n",
    "    with rasterio.open(nav_final_raster) as nav:\n",
    "        \n",
    "        arr_nav = nav.read(1)\n",
    "        \n",
    "        arr_comb = np.minimum(arr_rail, arr_nav)\n",
    "        \n",
    "        with rasterio.open(combined_raster, 'w', **metadata) as out:\n",
    "            out.write(arr_comb, 1)\n"
   ]
  },
  {
   "cell_type": "code",
   "execution_count": 18,
   "id": "82f02b4a-89e6-410a-8bd8-3893c7a52458",
   "metadata": {},
   "outputs": [
    {
     "data": {
      "text/plain": [
       "'/Users/d3y010/projects/cerf/suitability/data/common/cerf_ntad_railnodes_navwaters_greaterthan5km.tif'"
      ]
     },
     "execution_count": 18,
     "metadata": {},
     "output_type": "execute_result"
    }
   ],
   "source": [
    "combined_raster"
   ]
  },
  {
   "cell_type": "code",
   "execution_count": null,
   "id": "57bd398f-36c3-44f5-a8e2-5ab16f3f471a",
   "metadata": {},
   "outputs": [],
   "source": []
  }
 ],
 "metadata": {
  "kernelspec": {
   "display_name": "py3.9.2_cerf",
   "language": "python",
   "name": "py3.9.2_cerf"
  },
  "language_info": {
   "codemirror_mode": {
    "name": "ipython",
    "version": 3
   },
   "file_extension": ".py",
   "mimetype": "text/x-python",
   "name": "python",
   "nbconvert_exporter": "python",
   "pygments_lexer": "ipython3",
   "version": "3.9.2"
  }
 },
 "nbformat": 4,
 "nbformat_minor": 5
}
