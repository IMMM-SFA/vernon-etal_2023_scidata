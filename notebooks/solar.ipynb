{
 "cells": [
  {
   "cell_type": "code",
   "execution_count": 1,
   "id": "757c5d16-ab5d-4503-b020-b0d2e2e50520",
   "metadata": {},
   "outputs": [],
   "source": [
    "import os\n",
    "\n",
    "import rasterio\n",
    "import numpy as np\n",
    "import pandas as pd\n",
    "import geopandas as gpd\n",
    "\n",
    "from rasterio.plot import show\n",
    "from rasterio import features\n"
   ]
  },
  {
   "cell_type": "markdown",
   "id": "4db85ac1-1682-49a3-ab64-2fcb7960a28c",
   "metadata": {},
   "source": [
    "### Download the data\n",
    "\n",
    "Download the solar energy potential data for photovoltaic direct normal irradiation from here: https://ezmt.anl.gov/mapexport/energy_potential_solar_pv_v2.zip\n",
    "\n",
    "Download the solar energy potential data for concentrating direct normal irradiation from here: https://ezmt.anl.gov/mapexport/energy_potential_solar_conc_v2.zip\n"
   ]
  },
  {
   "cell_type": "code",
   "execution_count": null,
   "id": "73f8a27b-104d-48bb-9242-67d2fda70da3",
   "metadata": {},
   "outputs": [],
   "source": []
  },
  {
   "cell_type": "code",
   "execution_count": null,
   "id": "029670a3-9c17-4a1e-aa9d-652c4e03b8da",
   "metadata": {},
   "outputs": [],
   "source": []
  },
  {
   "cell_type": "code",
   "execution_count": null,
   "id": "2836575a-0133-48a0-97c3-b1aa85d6f1ac",
   "metadata": {},
   "outputs": [],
   "source": []
  },
  {
   "cell_type": "code",
   "execution_count": null,
   "id": "bbb1fca8-a2a6-4dbe-8944-5f5ca776041e",
   "metadata": {},
   "outputs": [],
   "source": []
  },
  {
   "cell_type": "code",
   "execution_count": 3,
   "id": "c92e98ee-1671-4d89-86f2-2536b4bd3423",
   "metadata": {},
   "outputs": [],
   "source": [
    "root_dir = \"/Users/d3y010/projects/cerf/suitability\"\n",
    "\n",
    "data_dir_pv = os.path.join(root_dir, \"data\", \"raw\", \"ezmt_solar\", \"energy_potential_solar_pvtilt_v2\")\n",
    "data_dir_csp = os.path.join(root_dir, \"data\", \"raw\", \"ezmt_solar\", \"energy_potential_solar_conc_v2\")\n",
    "\n",
    "pv_shp = os.path.join(data_dir_pv, \"ez_gis.energy_potential_solar_pvtilt_v2.shp\")\n",
    "csp_shp = os.path.join(data_dir_csp, \"ez_gis.energy_potential_solar_conc_v2.shp\")\n",
    "\n",
    "template_raster = os.path.join(root_dir, \"data\", \"reference\", \"cerf_landmask.tif\")\n",
    "\n",
    "temp_dir = os.path.join(root_dir, \"validation\", \"temp\")\n",
    "tech_dir = os.path.join(root_dir, \"data\", \"technology_specific\")\n",
    "\n",
    "output_pv_temp = os.path.join(temp_dir, \"pv_temp.tif\")\n",
    "output_pv = os.path.join(tech_dir, \"cerf_solar_pv_centralized_potential.tif\")\n",
    "\n",
    "output_csp_temp = os.path.join(temp_dir, \"csp_temp.tif\")\n",
    "output_csp = os.path.join(tech_dir, \"cerf_solar_csp_centralized_potential.tif\")\n"
   ]
  },
  {
   "cell_type": "markdown",
   "id": "c723a92f-020c-41c7-97a1-f1c77316d0a1",
   "metadata": {},
   "source": [
    "### Determine irradiance thresholds for suitability"
   ]
  },
  {
   "cell_type": "code",
   "execution_count": 4,
   "id": "a237fb55-b81f-4d9d-8c06-849c350bd0a8",
   "metadata": {},
   "outputs": [],
   "source": [
    "def calc_solar(unit_size_dc, capacity_factor_ac, area_percentage):\n",
    "    \"\"\"Calculates the irradiance necessary to produce the AC energy output expected from the given \n",
    "    unit size (kW) and AC capacity factor (%)\n",
    "    \n",
    "    :param unit_size:             unit size (installed DC capacity) of the solar array in kilowatts\n",
    "    :type unit_size:              int\n",
    "    \n",
    "    :param capacity_factor_ac:    capacity factor (AC) of the solar array\n",
    "    :type capacity_factor_ac:     float\n",
    "    \n",
    "    :param area_percentage:       assumed percentage of square site area used for solar panels\n",
    "    :type area_percentage:        float\n",
    "    \n",
    "    \n",
    "    :return:                      irradiance required in kWh_m2_day\n",
    "    \n",
    "    \"\"\"\n",
    "    \n",
    "    DC_AC_RATIO = 1.3\n",
    "    HOURS_PER_DAY = 24\n",
    "    ACRES_PER_MW_AC = 5.8\n",
    "    ACRES_PER_KM2 = 247.105\n",
    "    \n",
    "    kwh_day_ac_max = (unit_size_dc * HOURS_PER_DAY) / DC_AC_RATIO\n",
    "    kwh_output_actual = kwh_day_ac_max * capacity_factor_ac\n",
    "\n",
    "    irradiance = kwh_output_actual / unit_size_dc\n",
    "    irradiance = round(irradiance, 3)\n",
    "    \n",
    "    land = ((((unit_size_dc/1000) / DC_AC_RATIO) * ACRES_PER_MW_AC) / ACRES_PER_KM2) / area_percentage\n",
    "    land = round(land, 2)\n",
    "    \n",
    "    print(f'required irradiance level is: {irradiance} kWh/m2/day')\n",
    "    print(f'required land area is: {land} km-squared')\n",
    "    \n",
    "    return irradiance\n",
    "    \n"
   ]
  },
  {
   "cell_type": "code",
   "execution_count": 23,
   "id": "246cf3be-9e5b-473c-ad85-c062b6ea5c7d",
   "metadata": {},
   "outputs": [
    {
     "name": "stdout",
     "output_type": "stream",
     "text": [
      "required irradiance level is: 5.169 kWh/m2/day\n",
      "required land area is: 1.81 km-squared\n",
      "required irradiance level is: 4.615 kWh/m2/day\n",
      "required land area is: 2.41 km-squared\n"
     ]
    }
   ],
   "source": [
    "pv_irradiance = calc_solar(unit_size_dc=75000, capacity_factor_ac=0.28, area_percentage=0.75)\n",
    "csp_irradiance = calc_solar(unit_size_dc=100000, capacity_factor_ac=0.25, area_percentage=0.75)\n"
   ]
  },
  {
   "cell_type": "code",
   "execution_count": 18,
   "id": "005b2686-b6fb-4512-bca5-33ed55b5d977",
   "metadata": {},
   "outputs": [],
   "source": [
    "pv = gpd.read_file(pv_shp)\n",
    "\n",
    "csp = gpd.read_file()\n"
   ]
  },
  {
   "cell_type": "markdown",
   "id": "ced40eb2-a068-4a90-aa7c-5ed460313ac9",
   "metadata": {},
   "source": [
    "### Create solar potential exclusion layers based on irradiance "
   ]
  },
  {
   "cell_type": "code",
   "execution_count": 19,
   "id": "37ac8588-653a-4332-9c07-80aff7ad64a0",
   "metadata": {},
   "outputs": [],
   "source": [
    "def build_potential_layer(df, template_raster, output_temp, output_file, irradiance, value_field=\"ann_latilt\"):\n",
    "\n",
    "    with rasterio.open(template_raster) as template:\n",
    "\n",
    "        metadata = template.meta.copy()\n",
    "\n",
    "        metadata.update(dtype=np.float64)\n",
    "\n",
    "        # extract land mask\n",
    "        land_mask = template.read(1)\n",
    "        land_mask = np.where(land_mask == 0, np.nan, 1)\n",
    "\n",
    "        # reproject solar data to GRIDCERF standard\n",
    "        df = df.to_crs(template.crs)\n",
    "\n",
    "        with rasterio.open(output_temp, 'w+', **metadata) as out:\n",
    "\n",
    "            out_arr = out.read(1)\n",
    "\n",
    "            shapes = ((geom,value) for geom, value in zip(df.geometry, df[value_field]))\n",
    "\n",
    "            burned = features.rasterize(shapes=shapes, fill=0, out=out_arr, transform=out.transform)\n",
    "\n",
    "            out.write_band(1, burned)\n",
    "\n",
    "\n",
    "    with rasterio.open(output_temp) as src:\n",
    "\n",
    "        metadata = src.meta.copy()\n",
    "\n",
    "        arr = src.read(1)\n",
    "\n",
    "        # calculate suitability\n",
    "        arr = np.where(arr >= irradiance, 0, 1).astype(np.float64)\n",
    "\n",
    "        # apply land mask\n",
    "        arr *= land_mask\n",
    "\n",
    "        with rasterio.open(output_file, 'w', **metadata) as dest:\n",
    "\n",
    "            dest.write(arr, 1)\n"
   ]
  },
  {
   "cell_type": "code",
   "execution_count": 20,
   "id": "649c79ee-8aa6-4acd-a656-718b4d1ba1a5",
   "metadata": {},
   "outputs": [],
   "source": [
    "build_potential_layer(pv, template_raster, output_pv_temp, output_pv, pv_irradiance, value_field=\"ann_latilt\")\n",
    "\n"
   ]
  },
  {
   "cell_type": "code",
   "execution_count": 21,
   "id": "a0a5c38f-9286-4fc7-9a38-b108f4e30211",
   "metadata": {},
   "outputs": [],
   "source": [
    "build_potential_layer(csp, template_raster, output_csp_temp, output_csp, csp_irradiance, value_field=\"ann_dni\")\n",
    "\n"
   ]
  },
  {
   "cell_type": "code",
   "execution_count": null,
   "id": "95ae1759-a90c-4667-bea0-41dbfae7107d",
   "metadata": {},
   "outputs": [],
   "source": []
  }
 ],
 "metadata": {
  "kernelspec": {
   "display_name": "py3.9.2_cerf",
   "language": "python",
   "name": "py3.9.2_cerf"
  },
  "language_info": {
   "codemirror_mode": {
    "name": "ipython",
    "version": 3
   },
   "file_extension": ".py",
   "mimetype": "text/x-python",
   "name": "python",
   "nbconvert_exporter": "python",
   "pygments_lexer": "ipython3",
   "version": "3.9.2"
  }
 },
 "nbformat": 4,
 "nbformat_minor": 5
}
