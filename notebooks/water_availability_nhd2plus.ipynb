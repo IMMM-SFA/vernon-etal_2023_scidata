{
 "cells": [
  {
   "cell_type": "markdown",
   "id": "d38c5baf-a4ba-46a5-90bb-be920ffa3c0a",
   "metadata": {},
   "source": [
    "### Convert NHDv2 Plus surface water data to available water per technology rasters"
   ]
  },
  {
   "cell_type": "code",
   "execution_count": null,
   "id": "2c41054c-d574-4b35-b17e-1c5ca916577c",
   "metadata": {},
   "outputs": [],
   "source": [
    "import os\n",
    "import glob\n",
    "\n",
    "import rasterio\n",
    "import numpy as np\n",
    "import pandas as pd\n",
    "import geopandas as gpd\n"
   ]
  },
  {
   "cell_type": "markdown",
   "id": "1716a619-e512-40f7-81a1-140a408deffc",
   "metadata": {},
   "source": [
    "### Download supporting data\n",
    "\n",
    "**NHDv2 Plus** data for surface water flow downloaded from datafrom https://ezmt.anl.gov/.  These data include flow rates in gallons per minute (gpm) for each flowline segment.\n",
    "\n",
    "**GRIDCERF pacakge** data can be downloaded from https://doi.org/10.5281/zenodo.6601790\n",
    "\n",
    "Vernon, C. R., Nelson, K., Mongird, K., & Rice, J. S. (2022). GRIDCERF: Geospatial Raster Input Data for Capacity Expansion Regional Feasibility (v1.0.0) [Data set]. Zenodo. https://doi.org/10.5281/zenodo.6601790\n"
   ]
  },
  {
   "cell_type": "markdown",
   "id": "cf828b98-3e37-40dd-8dbd-cf5fd27910a0",
   "metadata": {},
   "source": [
    "### Set file paths"
   ]
  },
  {
   "cell_type": "code",
   "execution_count": null,
   "id": "5d541b84-f53a-477d-9868-5376170e186b",
   "metadata": {},
   "outputs": [],
   "source": [
    "# directory containing the downloaded shapefile from EZMT\n",
    "nhd_data_directory = '<your directory>'\n",
    "\n",
    "# path to the NHDv2 Plus shapefile\n",
    "nhd_shp_file = os.path.join(nhd_data_directory, 'ez_gis.surface_water_flow_nhdplus_v2_erom_eispc_v2.shp')\n",
    "\n",
    "# path to the GRIDCERF technology specific layer directory\n",
    "output_dir = '<your directory>/GRIDCERF/Tech_Specific_Layers'\n",
    "\n",
    "# path to a raster to use as a template from the GRIDCERF package\n",
    "template_raster = os.path.join(output_dir, 'cerf_railnodes5km_navwaters5km_conus.tif')\n",
    "\n",
    "# temporary directory to hold buffered surface flow shapefiles that will be rasterized\n",
    "water_shp_dir = '<your directory>'\n"
   ]
  },
  {
   "cell_type": "markdown",
   "id": "58eb4df9-fe0c-4e15-a9cc-edb2bd8f99b5",
   "metadata": {},
   "source": [
    "### Process data"
   ]
  },
  {
   "cell_type": "code",
   "execution_count": null,
   "id": "f54f684e-67da-466b-b5f7-2ba22626c2e4",
   "metadata": {},
   "outputs": [],
   "source": [
    "# get target coordinate reference system from template raster\n",
    "with rasterio.open(template_raster) as src:\n",
    "    target_crs = src.crs\n"
   ]
  },
  {
   "cell_type": "markdown",
   "id": "855fc228-1b06-4a5a-a09a-9c4b01760e48",
   "metadata": {},
   "source": [
    "#### Preprocess surface flow shapefile"
   ]
  },
  {
   "cell_type": "code",
   "execution_count": null,
   "id": "a3bdc87e-d0d2-489d-8bde-9ea2990a360f",
   "metadata": {},
   "outputs": [],
   "source": [
    "%%time \n",
    "\n",
    "# only keep gallons per minute flow and geometry and reproject\n",
    "gdf = gpd.read_file(nhd_shp_file)[['q_gpm', 'geometry']].to_crs(target_crs)\n",
    "\n",
    "# convert to millions gallons per day\n",
    "gdf['mgd'] = (gdf['q_gpm'] / 1000000) * 60 * 24\n",
    "\n",
    "# drop gpm field\n",
    "gdf.drop(columns=['q_gpm'], inplace=True)\n",
    "\n",
    "# set raster value\n",
    "gdf['value'] = 0\n",
    "\n",
    "gdf.mgd.describe()\n"
   ]
  },
  {
   "cell_type": "markdown",
   "id": "8a75139d-9719-4619-88a3-39bfb1f2d8fb",
   "metadata": {},
   "source": [
    "#### Bins for minimum mean annual flow requirements where the key is the target file name and the value is the threshold in MGD\n"
   ]
  },
  {
   "cell_type": "code",
   "execution_count": null,
   "id": "ca6e471d-c95d-4cbe-8364-d5de6ff85e81",
   "metadata": {},
   "outputs": [],
   "source": [
    "bins = {'cerf_nhd2plus_surfaceflow_greaterthan145mgd_buffer20km': 145,\n",
    "        'cerf_nhd2plus_surfaceflow_greaterthan120mgd_buffer20km': 120,\n",
    "        'cerf_nhd2plus_surfaceflow_greaterthan110mgd_buffer20km': 110,\n",
    "        'cerf_nhd2plus_surfaceflow_greaterthan95mgd_buffer20km': 95,\n",
    "        'cerf_nhd2plus_surfaceflow_greaterthan75mgd_buffer20km': 75,\n",
    "        'cerf_nhd2plus_surfaceflow_greaterthan70mgd_buffer20km': 70,\n",
    "        'cerf_nhd2plus_surfaceflow_greaterthan55mgd_buffer20km': 55,\n",
    "        'cerf_nhd2plus_surfaceflow_greaterthan40mgd_buffer20km': 40,\n",
    "        'cerf_nhd2plus_surfaceflow_greaterthan35mgd_buffer20km': 35,\n",
    "        'cerf_nhd2plus_surfaceflow_greaterthan25mgd_buffer20km': 25,\n",
    "        'cerf_nhd2plus_surfaceflow_greaterthan10mgd_buffer20km': 10,\n",
    "        'cerf_nhd2plus_surfaceflow_greaterthan2mgd_buffer20km': 2}\n"
   ]
  },
  {
   "cell_type": "markdown",
   "id": "59d5e48d-28a7-44c6-841d-8b2b5f899a5a",
   "metadata": {},
   "source": [
    "#### Create a buffered shapefile of flowlines matching the flow requirement"
   ]
  },
  {
   "cell_type": "code",
   "execution_count": null,
   "id": "5c06be41-df19-489e-aeb1-f00c67472296",
   "metadata": {},
   "outputs": [],
   "source": [
    "%%time\n",
    "\n",
    "for i in bins.keys():\n",
    "    \n",
    "    print(f\"Processing:  {i}\")\n",
    "    \n",
    "    # extract the flowlines that support the minimum flow requirement\n",
    "    gdx = gdf.loc[gdf['mgd'] > bins[i]].copy()\n",
    "\n",
    "    # buffer by 20 km (20000 meters)\n",
    "    gdx['geometry'] = gdx.buffer(20000)\n",
    "    \n",
    "    # construct output file path\n",
    "    output_shp = os.path.join(water_shp_dir, f\"{i}.shp\")\n",
    "    \n",
    "    # write output shapefile\n",
    "    gdx[['value', 'geometry']].to_file(output_shp)\n",
    "\n"
   ]
  },
  {
   "cell_type": "markdown",
   "id": "42f47018-4263-48f3-a719-e73311d2e694",
   "metadata": {},
   "source": [
    "#### Rasterize each buffered shapefile into GRIDCERF's spatial requirements"
   ]
  },
  {
   "cell_type": "code",
   "execution_count": null,
   "id": "57d176c7-70e1-44a3-a17c-ca39986487ca",
   "metadata": {},
   "outputs": [],
   "source": [
    "%%time \n",
    "\n",
    "# build a list of buffered shapefiles in the temporary directory\n",
    "shp_list = glob.glob(os.path.join(water_shp_dir, 'cerf_nhd2plus_surfaceflow_greaterthan*mgd_buffer20km.shp'))\n",
    "\n",
    "for i in shp_list:\n",
    "    \n",
    "    # extract the basename\n",
    "    basename = os.path.basename(i)\n",
    "    base_noext = os.path.splitext(basename)[0]\n",
    "    \n",
    "    # construct the output raster name\n",
    "    output_raster = os.path.join(output_dir, f\"{base_noext}.tif\")\n",
    "\n",
    "    # construct the GDAL raster command\n",
    "    gdal_rasterize_cmd = f\"gdal_rasterize -l {base_noext} -a value -tr 1000.0 1000.0 -init 1.0 -te -2405552.8355 -1389065.2005 2287447.1645 1609934.7995 -ot Int16 -of GTiff {i} {output_raster}\"\n",
    "    \n",
    "    # execute the GDAL command via the system terminal\n",
    "    os.system(gdal_rasterize_cmd)\n"
   ]
  },
  {
   "cell_type": "code",
   "execution_count": null,
   "id": "c1358114-f7b8-467e-bcdd-6f9f8973dc70",
   "metadata": {},
   "outputs": [],
   "source": []
  }
 ],
 "metadata": {
  "kernelspec": {
   "display_name": "py3.9.4_cerf",
   "language": "python",
   "name": "py3.9.4_cerf"
  },
  "language_info": {
   "codemirror_mode": {
    "name": "ipython",
    "version": 3
   },
   "file_extension": ".py",
   "mimetype": "text/x-python",
   "name": "python",
   "nbconvert_exporter": "python",
   "pygments_lexer": "ipython3",
   "version": "3.9.4"
  }
 },
 "nbformat": 4,
 "nbformat_minor": 5
}
