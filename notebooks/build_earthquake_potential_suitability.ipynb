{
 "cells": [
  {
   "cell_type": "markdown",
   "id": "b8436d78-dda4-432b-aa0e-e5d7c80d083e",
   "metadata": {},
   "source": [
    "# Building earthquake potential suitablity layers for GRIDCERF\n"
   ]
  },
  {
   "cell_type": "markdown",
   "id": "428bd4f2-de2d-49c3-b720-a9faed62f991",
   "metadata": {},
   "source": [
    "The following code was used to build the earhquake potential suitability layer for GRIDCERF. GRIDCERF does not provide the source data directly due to some license restrictions related for direct redistribution of the unaltered source data.  However, the following details the provenance associated with each source dataset and how they were processed.\n"
   ]
  },
  {
   "cell_type": "markdown",
   "id": "5fec6b55-d166-4ec8-a2ea-0e89b79a3657",
   "metadata": {},
   "source": [
    "## 1. Setup environment"
   ]
  },
  {
   "cell_type": "markdown",
   "id": "e30c1b9a-9d95-4c0d-8f2d-2e1fca7385d7",
   "metadata": {},
   "source": [
    "### 1.1 Download GRIDCERF\n"
   ]
  },
  {
   "cell_type": "markdown",
   "id": "17809ff9-49d0-438d-ab07-0c580d834364",
   "metadata": {},
   "source": [
    "Download the GRIDCERF package if you have not yet done so from here: https://doi.org/10.5281/zenodo.6601789. Please extract GRIDCERF inside the data directory of this repository as the paths in this notebook are set to that expectation.\n"
   ]
  },
  {
   "cell_type": "markdown",
   "id": "4b319c9f-ad30-430c-9f39-f06b584319e7",
   "metadata": {},
   "source": [
    "### 1.2 Import necessary Python packages"
   ]
  },
  {
   "cell_type": "code",
   "execution_count": 2,
   "id": "b68a3b16-c1a3-494e-b85b-6f5c8ed618aa",
   "metadata": {},
   "outputs": [],
   "source": [
    "import os\n",
    "import glob\n",
    "import shutil\n",
    "import tempfile\n",
    "\n",
    "import numpy as np\n",
    "import pandas as pd\n",
    "import geopandas as gpd\n",
    "import rasterio\n",
    "import rasterio.mask\n",
    "from rasterio import features\n",
    "import shapely.speedups\n"
   ]
  },
  {
   "cell_type": "markdown",
   "id": "79fdd9a3-ce01-4406-b994-8a33d49ec4b5",
   "metadata": {},
   "source": [
    "## 2. Configuration\n"
   ]
  },
  {
   "cell_type": "code",
   "execution_count": 3,
   "id": "f42e2d68-ca91-4cd1-8a71-d9ac7e93e4e8",
   "metadata": {},
   "outputs": [],
   "source": [
    "# get the parent directory path to where this notebook is currently stored\n",
    "root_dir = os.path.dirname(os.getcwd())\n",
    "\n",
    "# data directory in repository\n",
    "data_dir = os.path.join(root_dir, \"data\")\n",
    "\n",
    "# GRIDCERF data directory from downloaded archive\n",
    "gridcerf_dir = os.path.join(data_dir, \"gridcerf\")\n",
    "\n",
    "# GRIDCERF reference data directory\n",
    "reference_dir = os.path.join(gridcerf_dir, \"reference\")\n",
    "\n",
    "# GRIDCERF technology specific data directory\n",
    "output_dir = os.path.join(gridcerf_dir, \"technology_specific\")\n",
    "\n",
    "# GRIDCERF source data directory\n",
    "source_dir = os.path.join(gridcerf_dir, \"source\", \"technology_specific\")\n",
    "\n",
    "# template land mask raster\n",
    "template_raster = os.path.join(reference_dir, \"gridcerf_landmask.tif\")\n",
    "\n",
    "# earthquake potential data\n",
    "input_file = os.path.join(source_dir, \"usgs_earthquake-potential\", \"uspga250poly.shp\")\n"
   ]
  },
  {
   "cell_type": "markdown",
   "id": "91178c60-6df9-4f01-8c3f-71256948f26b",
   "metadata": {},
   "source": [
    "## 3. Generate suitability raster"
   ]
  },
  {
   "cell_type": "markdown",
   "id": "95206f87-3cbb-4d92-b26a-471f744a963a",
   "metadata": {},
   "source": [
    "### 3.1 Functions to build suitability"
   ]
  },
  {
   "cell_type": "code",
   "execution_count": 5,
   "id": "94566465-46ff-4e84-8f47-060dd0a8a1f7",
   "metadata": {},
   "outputs": [],
   "source": [
    "def vector_to_raster(template_raster: str, \n",
    "                     gdf: gpd.GeoDataFrame, \n",
    "                     value_field: str, \n",
    "                     output_raster: str,\n",
    "                     all_touched: bool = True):\n",
    "    \"\"\"Convert a vector layer to a raster in the GRIDCERF format.\n",
    "    \n",
    "    :param template_raster:         Full path with file name and extension to the input template \n",
    "                                    raster using the GRIDCERF format.\n",
    "    :type template_raster:          str \n",
    "    \n",
    "    :param gdf:                     Geodataframe for the vector data.\n",
    "    :type gdf:                      gpd.GeoDataFrame\n",
    "    \n",
    "    :param value_field:             Field to use to burn raster value in.\n",
    "    :type value_field:              str\n",
    "    \n",
    "    :param output_raster:           Full path with output name and extension for the output raster.\n",
    "    :type output_raster:            str\n",
    "    \n",
    "    :param all_touched:             If True, all pixels touched by geometries will be burned in. \n",
    "                                    If false, only pixels whose center is within the polygon or that \n",
    "                                    are selected by Bresenham’s line algorithm will be burned in.\n",
    "    :type all_touched:              bool\n",
    "    \"\"\"\n",
    "                     \n",
    "    # open the template raster and extract metadata and land mask\n",
    "    with rasterio.open(template_raster) as template:\n",
    "\n",
    "        metadata = template.meta.copy()\n",
    "\n",
    "        # update raster data type\n",
    "        metadata.update(dtype=np.int16)\n",
    "\n",
    "        # extract land mask\n",
    "        land_mask = template.read(1)\n",
    "        land_mask = np.where(land_mask == 0, np.nan, 1)\n",
    "\n",
    "        # write output raster\n",
    "        with rasterio.open(output_raster, 'w+', **metadata) as out:\n",
    "\n",
    "            out_arr = out.read(1)\n",
    "\n",
    "            # build shapes to rasterize from target geometry and field\n",
    "            shapes = ((geom, value) for geom, value in zip(gdf.geometry, gdf[value_field]))\n",
    "\n",
    "            # burn features\n",
    "            burned = features.rasterize(shapes=shapes, \n",
    "                                        fill=0, \n",
    "                                        out=out_arr, \n",
    "                                        transform=out.transform,\n",
    "                                        all_touched=all_touched)\n",
    "            \n",
    "            burned = np.where(burned == 1, 1, 0).astype(np.float64)\n",
    "            \n",
    "            # apply land mask\n",
    "            burned *= land_mask\n",
    "            \n",
    "            # make nan excluded\n",
    "            burned = np.where(np.isnan(burned), 1, burned)\n",
    "\n",
    "            out.write_band(1, burned.astype(np.int16))\n"
   ]
  },
  {
   "cell_type": "markdown",
   "id": "c6cc5c14-a19d-4b13-aa2e-6b651b958835",
   "metadata": {},
   "source": [
    "### 3.2 Set standard raster template"
   ]
  },
  {
   "cell_type": "code",
   "execution_count": 7,
   "id": "bda04f00-f86b-46c7-91b2-ccb220a82197",
   "metadata": {},
   "outputs": [],
   "source": [
    "# open the template raster and extract metadata and land mask\n",
    "with rasterio.open(template_raster) as template:\n",
    "\n",
    "    metadata = template.meta.copy()\n",
    "\n",
    "    # update raster data type\n",
    "    metadata.update(dtype=np.float64)\n",
    "\n",
    "    # extract land mask\n",
    "    land_mask = template.read(1)\n",
    "    land_mask = np.where(land_mask == 0, np.nan, 1)\n",
    "\n",
    "    # get the template CRS\n",
    "    template_crs = template.crs\n",
    "        "
   ]
  },
  {
   "cell_type": "markdown",
   "id": "af99e51c-460b-4c1a-9f30-121d0914d93f",
   "metadata": {},
   "source": [
    "### 3.3 Process suitability layer"
   ]
  },
  {
   "cell_type": "markdown",
   "id": "e155aacb-af2d-4169-9bbf-c2a7ac47cd4a",
   "metadata": {},
   "source": [
    "#### gridcerf_usgs_earthquake_pga_0.3_at_2pct_in_50yrs_conus.tif"
   ]
  },
  {
   "cell_type": "markdown",
   "id": "8cc1214b-6ed1-4f48-8865-3de70362e15c",
   "metadata": {},
   "source": [
    "- **Title**:  National Seismic Hazard Model\n",
    "- **Description from Source**:  Seismicity catalogs, GIS shapefiles, gridded seismic hazard curve data, gridded ground motion data, and mapped gridded ground motion values are available for the 2014 National Seismic Hazard Model for the Conterminous U.S. Probabilistic seismic hazard data and maps of the conterminous U.S. for peak ground acceleration (PGA) and 0.2 and 1.0 second spectral acceleration at probability levels of 2 percent in 50 years (annual probability of 0.000404) and 10 percent in 50 years (annual probability of 0.0021), assuming firm rock soil conditions at 760 m/s, are available. Hazard was calculated on a 0.05 degree by 0.05 degree grid, defined by a bounding box encompassing the conterminous U.S. (-125 to -65 degrees longitude west, 24.6 to 50 degrees latitude north). Development of the 2014 National Seismic Hazard Model for the Conterminous U.S. is documented in the USGS Open-File Report 2014-1091 (https://pubs.usgs.gov/of/2014/1091/). This dataset is considered a legacy dataset. The original dataset was uploaded to the USGS website at the time of publication of the seismic hazard model (2014) but was later moved over the the USGS ScienceBase Catalog (2019). The original dataset was assumed to be complete and accurate, but may contain inconsistencies when compared to more recent, actively maintained datasets. NOTE: In 2018, additional period and site class maps were calculated for the 2014 NSHM. For additional period and site class maps and data, please see https://doi.org/10.5066/P9I6BPX5, documented in USGS Open-File Report 2018-1111 (https://doi.org/10.3133/ofr20181111).\n",
    "- **Source URL**:  https://www.sciencebase.gov/catalog/item/5db9be62e4b06957974eb5ca\n",
    "- **Date Accessed**:  8/3/23\n",
    "- **Citation**\n",
    "> Shumway, A.M., 2019, Data Release for the 2014 National Seismic Hazard Model for the Conterminous U.S.: U.S. Geological Survey data release, https://doi.org/10.5066/P9P77LGZ\n"
   ]
  },
  {
   "cell_type": "code",
   "execution_count": 8,
   "id": "08b45925-6e36-4daa-94ef-0376565005c5",
   "metadata": {},
   "outputs": [],
   "source": [
    "# read in shapefile\n",
    "gdf = gpd.read_file(input_file)\n",
    "\n",
    "# reproject to GRIDCERF \n",
    "gdf = gdf.to_crs(template_crs)\n",
    "\n",
    "# select only >= 0.3 peak ground accelleration (pga)\n",
    "gdf = gdf.loc[gdf[\"ACC_VAL\"] >= 30].copy()\n",
    "\n",
    "# assign raster value field\n",
    "gdf[\"rval\"] = 1\n",
    "\n",
    "# output raster name\n",
    "output_raster = os.path.join(output_dir, \"gridcerf_usgs_earthquake_pga_0.3_at_2pct_in_50yrs_conus.tif\")\n",
    "\n",
    "# rasterize \n",
    "vector_to_raster(template_raster, \n",
    "                 gdf, \n",
    "                 value_field=\"rval\", \n",
    "                 output_raster=output_raster,\n",
    "                 all_touched=True)\n"
   ]
  }
 ],
 "metadata": {
  "kernelspec": {
   "display_name": "py3.9.2_cerf",
   "language": "python",
   "name": "py3.9.2_cerf"
  },
  "language_info": {
   "codemirror_mode": {
    "name": "ipython",
    "version": 3
   },
   "file_extension": ".py",
   "mimetype": "text/x-python",
   "name": "python",
   "nbconvert_exporter": "python",
   "pygments_lexer": "ipython3",
   "version": "3.9.2"
  }
 },
 "nbformat": 4,
 "nbformat_minor": 5
}
