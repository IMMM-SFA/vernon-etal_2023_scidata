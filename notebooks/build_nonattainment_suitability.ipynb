{
 "cells": [
  {
   "cell_type": "markdown",
   "id": "c8868ddf-f088-41c7-9d9e-86e074a605ad",
   "metadata": {},
   "source": [
    "# Build air quality non-attainment suitablity layers for GRIDCERF\n"
   ]
  },
  {
   "cell_type": "markdown",
   "id": "d422ab6d-ddbf-4eba-b7c8-6fea72e92fc8",
   "metadata": {},
   "source": [
    "The following code was used to build the air quality non-attainment suitability layers for GRIDCERF. GRIDCERF does not provide the source data directly due to some license restrictions related for direct redistribution of the unaltered source data.  However, the following details the provenance associated with each source dataset and how they were processed.\n"
   ]
  },
  {
   "cell_type": "markdown",
   "id": "7a09cd03-e2bf-41d9-a115-d0c75d4bbdb7",
   "metadata": {},
   "source": [
    "### 1.1 Download GRIDCERF\n",
    "\n",
    "Download the GRIDCERF package if you have not yet done so from here:  https://doi.org/10.5281/zenodo.6601789.  Please extract GRIDCERF inside the `data` directory of this repository as the paths in this notebook are set to that expectation.\n"
   ]
  },
  {
   "cell_type": "markdown",
   "id": "82305f59-25d6-4a00-a6ba-ab53fedf8d86",
   "metadata": {},
   "source": [
    "### 1.3 Import Python modules\n"
   ]
  },
  {
   "cell_type": "code",
   "execution_count": 5,
   "id": "01cb4a6d-b064-4119-8264-7c446c7c1c07",
   "metadata": {},
   "outputs": [],
   "source": [
    "import os\n",
    "import glob\n",
    "import shutil\n",
    "import tempfile\n",
    "\n",
    "import numpy as np\n",
    "import pandas as pd\n",
    "import geopandas as gpd\n",
    "import rasterio\n",
    "import rasterio.mask\n",
    "from rasterio import features\n",
    "import shapely.speedups\n",
    "\n"
   ]
  },
  {
   "cell_type": "markdown",
   "id": "6e4b76b1-3cb5-47c8-9495-0ae4ada885bd",
   "metadata": {},
   "source": [
    "## 2. Configuration\n"
   ]
  },
  {
   "cell_type": "code",
   "execution_count": 6,
   "id": "83e38ff0-b14c-4080-a147-ef53314d8891",
   "metadata": {},
   "outputs": [],
   "source": [
    "# get the parent directory path to where this notebook is currently stored\n",
    "root_dir = os.path.dirname(os.getcwd())\n",
    "\n",
    "# data directory in repository\n",
    "data_dir = os.path.join(root_dir, \"data\")\n",
    "\n",
    "# GRIDCERF data directory from downloaded archive\n",
    "gridcerf_dir = os.path.join(data_dir, \"gridcerf\")\n",
    "\n",
    "# GRIDCERF reference data directory\n",
    "reference_dir = os.path.join(gridcerf_dir, \"reference\")\n",
    "\n",
    "# GRIDCERF source data directory for the downloaded airport data\n",
    "source_dir = os.path.join(gridcerf_dir, \"source\", \"technology_specific\", \"epa_non-attainment\")\n",
    "\n",
    "# GRIDCERF technology_specific data directory\n",
    "technology_specific_dir = os.path.join(gridcerf_dir, \"technology_specific\")\n",
    "\n",
    "# GRIDCERF compiled final suitability data directory\n",
    "compiled_dir = os.path.join(gridcerf_dir, \"compiled\")\n",
    "\n",
    "# template land mask raster\n",
    "template_raster = os.path.join(reference_dir, \"gridcerf_landmask.tif\")\n",
    "\n",
    "# CONUS boundary shapefile\n",
    "conus_shpfile = os.path.join(reference_dir, \"gridcerf_conus_boundary.shp\")\n",
    "\n",
    "# input shapefiles\n",
    "co_file = os.path.join(source_dir, \"CO_1971std_naa.shp\")\n",
    "no2_file = os.path.join(source_dir, \"NO2_1971std_naa.shp\")\n",
    "ozone_file = os.path.join(source_dir, \"ozone_8hr_2015std_naa.shp\")\n",
    "lead_file = os.path.join(source_dir, \"Pb_NAA_2008.shp\")\n",
    "pm10_file = os.path.join(source_dir, \"PM10_1987std_naa.shp\")\n",
    "pm25_file = os.path.join(source_dir, \"PM25_2012Std_NAA.shp\")\n",
    "so2_file = os.path.join(source_dir, \"so2_2010std_naa.shp\")\n",
    "\n",
    "# output rasters\n",
    "output_co_file = os.path.join(technology_specific_dir, \"gridcerf_epa_nonattainment_co_conus.tif\")\n",
    "output_no2_file = os.path.join(technology_specific_dir, \"gridcerf_epa_nonattainment_no2_conus.tif\")\n",
    "output_ozone_file = os.path.join(technology_specific_dir, \"gridcerf_epa_nonattainment_ozone_conus.tif\")\n",
    "output_lead_file = os.path.join(technology_specific_dir, \"gridcerf_epa_nonattainment_lead_conus.tif\")\n",
    "output_pm10_file = os.path.join(technology_specific_dir, \"gridcerf_epa_nonattainment_pm10_conus.tif\")\n",
    "output_pm25_file = os.path.join(technology_specific_dir, \"gridcerf_epa_nonattainment_pm2p5_conus.tif\")\n",
    "output_so2_file = os.path.join(technology_specific_dir, \"gridcerf_epa_nonattainment_so2_conus.tif\")\n"
   ]
  },
  {
   "cell_type": "markdown",
   "id": "50a8435c-003d-4082-b1d8-51ac4eca8a4a",
   "metadata": {},
   "source": [
    "## 3. Generate non-attainment suitability rasters\n"
   ]
  },
  {
   "cell_type": "markdown",
   "id": "ac4a7df3-f953-41c0-8188-9d9e295088df",
   "metadata": {},
   "source": [
    "### 3.1 Functions to build suitability"
   ]
  },
  {
   "cell_type": "code",
   "execution_count": 10,
   "id": "6c10e3b6-b844-496b-9058-fe68fac478e7",
   "metadata": {},
   "outputs": [],
   "source": [
    "def vector_to_raster(template_raster: str, \n",
    "                     gdf: gpd.GeoDataFrame, \n",
    "                     value_field: str, \n",
    "                     output_raster: str,\n",
    "                     all_touched: bool = True):\n",
    "    \"\"\"Convert a vector layer to a raster in the GRIDCERF format.\n",
    "    \n",
    "    :param template_raster:         Full path with file name and extension to the input template \n",
    "                                    raster using the GRIDCERF format.\n",
    "    :type template_raster:          str \n",
    "    \n",
    "    :param gdf:                     Geodataframe for the vector data.\n",
    "    :type gdf:                      gpd.GeoDataFrame\n",
    "    \n",
    "    :param value_field:             Field to use to burn raster value in.\n",
    "    :type value_field:              str\n",
    "    \n",
    "    :param output_raster:           Full path with output name and extension for the output raster.\n",
    "    :type output_raster:            str\n",
    "    \n",
    "    :param all_touched:             If True, all pixels touched by geometries will be burned in. \n",
    "                                    If false, only pixels whose center is within the polygon or that \n",
    "                                    are selected by Bresenham’s line algorithm will be burned in.\n",
    "    :type all_touched:              bool\n",
    "    \"\"\"\n",
    "                     \n",
    "    # open the template raster and extract metadata and land mask\n",
    "    with rasterio.open(template_raster) as template:\n",
    "\n",
    "        metadata = template.meta.copy()\n",
    "\n",
    "        # update raster data type\n",
    "        metadata.update(dtype=np.int16)\n",
    "\n",
    "        # extract land mask\n",
    "        land_mask = template.read(1)\n",
    "        land_mask = np.where(land_mask == 0, np.nan, 1)\n",
    "\n",
    "        # write output raster\n",
    "        with rasterio.open(output_raster, 'w+', **metadata) as out:\n",
    "\n",
    "            out_arr = out.read(1)\n",
    "\n",
    "            # build shapes to rasterize from target geometry and field\n",
    "            shapes = ((geom, value) for geom, value in zip(gdf.geometry, gdf[value_field]))\n",
    "\n",
    "            # burn features\n",
    "            burned = features.rasterize(shapes=shapes, \n",
    "                                        fill=0, \n",
    "                                        out=out_arr, \n",
    "                                        transform=out.transform,\n",
    "                                        all_touched=all_touched)\n",
    "            \n",
    "            burned = np.where(burned == 1, 1, 0).astype(np.float64)\n",
    "            \n",
    "            # apply land mask\n",
    "            burned *= land_mask\n",
    "            \n",
    "            # make nan excluded\n",
    "            burned = np.where(np.isnan(burned), 1, burned)\n",
    "\n",
    "            out.write_band(1, burned.astype(np.int16))\n"
   ]
  },
  {
   "cell_type": "markdown",
   "id": "0b76d054-cdc1-45c0-8bec-034e19ec3dc9",
   "metadata": {},
   "source": [
    "### 3.2 Set standard raster template\n"
   ]
  },
  {
   "cell_type": "code",
   "execution_count": 11,
   "id": "b44dfab7-bedd-48c5-8ba6-d50036dac8ec",
   "metadata": {},
   "outputs": [],
   "source": [
    "# open the template raster and extract metadata and land mask\n",
    "with rasterio.open(template_raster) as template:\n",
    "\n",
    "    metadata = template.meta.copy()\n",
    "\n",
    "    # update raster data type\n",
    "    metadata.update(dtype=np.float64)\n",
    "\n",
    "    # extract land mask\n",
    "    land_mask = template.read(1)\n",
    "    land_mask = np.where(land_mask == 0, np.nan, 1)\n",
    "\n",
    "    # get the template CRS\n",
    "    template_crs = template.crs\n"
   ]
  },
  {
   "cell_type": "markdown",
   "id": "4db005a6-d19a-41da-b221-01e4dd081fbf",
   "metadata": {},
   "source": [
    "### 3.3 Process suitability layers"
   ]
  },
  {
   "cell_type": "markdown",
   "id": "e878a6e3-cd8a-45ce-91fd-89989edb8c36",
   "metadata": {},
   "source": [
    "#### gridcerf_epa_nonattainment_co_conus.tif\n"
   ]
  },
  {
   "cell_type": "markdown",
   "id": "7631f2aa-46ca-449a-abe4-fd94f73defe0",
   "metadata": {},
   "source": [
    "- **Title**:  U.S. Environmental Protection Agency (EPA) Carbon Monoxide (1971 Standard)\n",
    "- **Description from Source**: Boundary shapes for all of the areas that were designated nonattainment for a standard revision\n",
    "- **Source URL**:  https://www.sciencebase.gov/catalog/item/5748a4cbe4b07e28b664dd79\n",
    "- **Date Accessed**:  8/1/23\n",
    "- **Citation**\n",
    "> Environmental Protection Agency. Green Book GIS Download. https://www.epa.gov/green-book/green-book-gis-download (2023).\n"
   ]
  },
  {
   "cell_type": "code",
   "execution_count": 12,
   "id": "e7d3816d-efdf-45f2-9e09-6dff7e8301a8",
   "metadata": {},
   "outputs": [],
   "source": [
    "# read in shapefile\n",
    "gdf = gpd.read_file(co_file)\n",
    "\n",
    "# reproject to GRIDCERF \n",
    "gdf = gdf.to_crs(template_crs)\n",
    "\n",
    "# assign raster value field\n",
    "gdf[\"rval\"] = 1\n",
    "\n",
    "# rasterize \n",
    "vector_to_raster(template_raster, \n",
    "                 gdf, \n",
    "                 value_field=\"rval\", \n",
    "                 output_raster=output_co_file,\n",
    "                 all_touched=True)\n"
   ]
  },
  {
   "cell_type": "markdown",
   "id": "185ddc8b-6546-4032-9bff-37a50090850e",
   "metadata": {},
   "source": [
    "#### gridcerf_epa_nonattainment_no2_conus.tif"
   ]
  },
  {
   "cell_type": "markdown",
   "id": "34729b72-d56c-471a-9b8a-6acd575291b6",
   "metadata": {},
   "source": [
    "- **Title**:  EPA Nitrogen Dioxide (1971 Standard)\n",
    "- **Description from Source**: Boundary shapes for all of the areas that were designated nonattainment for a standard revision\n",
    "- **Source URL**:  https://www.sciencebase.gov/catalog/item/5748a4cbe4b07e28b664dd80\n",
    "- **Date Accessed**:  8/1/23\n",
    "- **Citation**\n",
    "> Environmental Protection Agency. Green Book GIS Download. https://www.epa.gov/green-book/green-book-gis-download (2023).\n"
   ]
  },
  {
   "cell_type": "code",
   "execution_count": 13,
   "id": "588f3ac0-cd09-4f25-a3ad-d5dcef5b2891",
   "metadata": {},
   "outputs": [],
   "source": [
    "# read in shapefile\n",
    "gdf = gpd.read_file(no2_file)\n",
    "\n",
    "# reproject to GRIDCERF \n",
    "gdf = gdf.to_crs(template_crs)\n",
    "\n",
    "# assign raster value field\n",
    "gdf[\"rval\"] = 1\n",
    "\n",
    "# rasterize \n",
    "vector_to_raster(template_raster, \n",
    "                 gdf, \n",
    "                 value_field=\"rval\", \n",
    "                 output_raster=output_no2_file,\n",
    "                 all_touched=True)\n"
   ]
  },
  {
   "cell_type": "markdown",
   "id": "c05d4f98-fc5a-4d48-b90a-c24104b4f2ae",
   "metadata": {},
   "source": [
    "#### gridcerf_epa_nonattainment_ozone_conus.tif"
   ]
  },
  {
   "cell_type": "markdown",
   "id": "1e515805-26e2-4304-ae91-77634b3f15c7",
   "metadata": {},
   "source": [
    "- **Title**:  EPA 8-Hour Ozone (2015 Standard)\n",
    "- **Description from Source**: Boundary shapes for all of the areas that were designated nonattainment for a standard revision\n",
    "- **Source URL**:  hhttps://www.sciencebase.gov/catalog/item/5748a4cbe4b07e28b664dd81\n",
    "- **Date Accessed**:  8/1/23\n",
    "- **Citation**\n",
    "> Environmental Protection Agency. Green Book GIS Download. https://www.epa.gov/green-book/green-book-gis-download (2023).\n"
   ]
  },
  {
   "cell_type": "code",
   "execution_count": 14,
   "id": "0a9807bd-3127-48ff-865b-7238b66b845c",
   "metadata": {},
   "outputs": [],
   "source": [
    "# read in shapefile\n",
    "gdf = gpd.read_file(ozone_file)\n",
    "\n",
    "# reproject to GRIDCERF \n",
    "gdf = gdf.to_crs(template_crs)\n",
    "\n",
    "# assign raster value field\n",
    "gdf[\"rval\"] = 1\n",
    "\n",
    "# rasterize \n",
    "vector_to_raster(template_raster, \n",
    "                 gdf, \n",
    "                 value_field=\"rval\", \n",
    "                 output_raster=output_ozone_file,\n",
    "                 all_touched=True)\n"
   ]
  },
  {
   "cell_type": "markdown",
   "id": "585a49b3-590e-476d-9842-3678f88faab0",
   "metadata": {},
   "source": [
    "#### gridcerf_epa_nonattainment_lead_conus.tif"
   ]
  },
  {
   "cell_type": "markdown",
   "id": "b2a57d9d-54ef-467c-b7fb-a71fd14ce32c",
   "metadata": {},
   "source": [
    "- **Title**:  EPA Lead (2008 Standard)\n",
    "- **Description from Source**: Boundary shapes for all of the areas that were designated nonattainment for a standard revision\n",
    "- **Source URL**:  https://www.sciencebase.gov/catalog/item/5748a4cbe4b07e28b664dd82\n",
    "- **Date Accessed**:  8/1/23\n",
    "- **Citation**\n",
    "> Environmental Protection Agency. Green Book GIS Download. https://www.epa.gov/green-book/green-book-gis-download (2023).\n"
   ]
  },
  {
   "cell_type": "code",
   "execution_count": 15,
   "id": "d7f356fa-30a9-4eeb-853b-9cf8e3e17db5",
   "metadata": {},
   "outputs": [],
   "source": [
    "# read in shapefile\n",
    "gdf = gpd.read_file(lead_file)\n",
    "\n",
    "# reproject to GRIDCERF \n",
    "gdf = gdf.to_crs(template_crs)\n",
    "\n",
    "# assign raster value field\n",
    "gdf[\"rval\"] = 1\n",
    "\n",
    "# rasterize \n",
    "vector_to_raster(template_raster, \n",
    "                 gdf, \n",
    "                 value_field=\"rval\", \n",
    "                 output_raster=output_lead_file,\n",
    "                 all_touched=True)\n"
   ]
  },
  {
   "cell_type": "markdown",
   "id": "5196de4d-93ee-4719-8b07-cee7c3b1411d",
   "metadata": {},
   "source": [
    "#### gridcerf_epa_nonattainment_pm10_conus.tif"
   ]
  },
  {
   "cell_type": "markdown",
   "id": "44179a1e-9be1-44ab-80ed-5a23831a5af2",
   "metadata": {},
   "source": [
    "- **Title**:  EPA PM-10 (1987 Standard)\n",
    "- **Description from Source**: Boundary shapes for all of the areas that were designated nonattainment for a standard revision\n",
    "- **Source URL**:  https://www.sciencebase.gov/catalog/item/5748a4cbe4b07e28b664dd83\n",
    "- **Date Accessed**:  8/1/23\n",
    "- **Citation**\n",
    "> Environmental Protection Agency. Green Book GIS Download. https://www.epa.gov/green-book/green-book-gis-download (2023).\n"
   ]
  },
  {
   "cell_type": "code",
   "execution_count": 16,
   "id": "23de1b70-0d52-4578-9588-c641354685dd",
   "metadata": {},
   "outputs": [],
   "source": [
    "# read in shapefile\n",
    "gdf = gpd.read_file(pm10_file)\n",
    "\n",
    "# reproject to GRIDCERF \n",
    "gdf = gdf.to_crs(template_crs)\n",
    "\n",
    "# assign raster value field\n",
    "gdf[\"rval\"] = 1\n",
    "\n",
    "# rasterize \n",
    "vector_to_raster(template_raster, \n",
    "                 gdf, \n",
    "                 value_field=\"rval\", \n",
    "                 output_raster=output_pm10_file,\n",
    "                 all_touched=True)\n"
   ]
  },
  {
   "cell_type": "markdown",
   "id": "dd5f1555-5c01-4866-8d33-25bd6f6549bf",
   "metadata": {},
   "source": [
    "#### gridcerf_epa_nonattainment_pm2p5_conus.tif"
   ]
  },
  {
   "cell_type": "markdown",
   "id": "ee0b0d5d-98fd-4454-a18a-5c07df3a913f",
   "metadata": {},
   "source": [
    "- **Title**:  EPA PM-2.5 (2012 Standard)\n",
    "- **Description from Source**: Boundary shapes for all of the areas that were designated nonattainment for a standard revision\n",
    "- **Source URL**:  https://www.sciencebase.gov/catalog/item/5748a4cbe4b07e28b664dd84\n",
    "- **Date Accessed**:  8/1/23\n",
    "- **Citation**\n",
    "> Environmental Protection Agency. Green Book GIS Download. https://www.epa.gov/green-book/green-book-gis-download (2023).\n"
   ]
  },
  {
   "cell_type": "code",
   "execution_count": 17,
   "id": "3b09ea6e-a782-4458-b4ed-f0ebaac00b3b",
   "metadata": {},
   "outputs": [],
   "source": [
    "# read in shapefile\n",
    "gdf = gpd.read_file(pm25_file)\n",
    "\n",
    "# reproject to GRIDCERF \n",
    "gdf = gdf.to_crs(template_crs)\n",
    "\n",
    "# assign raster value field\n",
    "gdf[\"rval\"] = 1\n",
    "\n",
    "# rasterize \n",
    "vector_to_raster(template_raster, \n",
    "                 gdf, \n",
    "                 value_field=\"rval\", \n",
    "                 output_raster=output_pm25_file,\n",
    "                 all_touched=True)\n"
   ]
  },
  {
   "cell_type": "markdown",
   "id": "e6837b5e-e8b7-441f-a201-4de1cdc48a68",
   "metadata": {},
   "source": [
    "#### gridcerf_epa_nonattainment_so2_conus.tif\n"
   ]
  },
  {
   "cell_type": "markdown",
   "id": "23c6ce78-4a21-40c4-bd0a-e6b238cd0b36",
   "metadata": {},
   "source": [
    "- **Title**:  EPA Sulfur Dioxide (2010 Standard)\n",
    "- **Description from Source**: Boundary shapes for all of the areas that were designated nonattainment for a standard revision\n",
    "- **Source URL**:  https://www.sciencebase.gov/catalog/item/5748a4cbe4b07e28b664dd85\n",
    "- **Date Accessed**:  8/1/23\n",
    "- **Citation**\n",
    "> Environmental Protection Agency. Green Book GIS Download. https://www.epa.gov/green-book/green-book-gis-download (2023).\n"
   ]
  },
  {
   "cell_type": "code",
   "execution_count": 18,
   "id": "3b972007-ef81-4b59-bae0-226a7436585e",
   "metadata": {},
   "outputs": [],
   "source": [
    "# read in shapefile\n",
    "gdf = gpd.read_file(so2_file)\n",
    "\n",
    "# reproject to GRIDCERF \n",
    "gdf = gdf.to_crs(template_crs)\n",
    "\n",
    "# assign raster value field\n",
    "gdf[\"rval\"] = 1\n",
    "\n",
    "# rasterize \n",
    "vector_to_raster(template_raster, \n",
    "                 gdf, \n",
    "                 value_field=\"rval\", \n",
    "                 output_raster=output_so2_file,\n",
    "                 all_touched=True)\n"
   ]
  }
 ],
 "metadata": {
  "kernelspec": {
   "display_name": "py3.9.2_cerf",
   "language": "python",
   "name": "py3.9.2_cerf"
  },
  "language_info": {
   "codemirror_mode": {
    "name": "ipython",
    "version": 3
   },
   "file_extension": ".py",
   "mimetype": "text/x-python",
   "name": "python",
   "nbconvert_exporter": "python",
   "pygments_lexer": "ipython3",
   "version": "3.9.2"
  }
 },
 "nbformat": 4,
 "nbformat_minor": 5
}
