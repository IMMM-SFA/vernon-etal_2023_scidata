{
 "cells": [
  {
   "cell_type": "code",
   "execution_count": 7,
   "id": "6423efac-7f6e-4365-bb8d-bffdb97ceecb",
   "metadata": {},
   "outputs": [
    {
     "name": "stderr",
     "output_type": "stream",
     "text": [
      "/Users/d3y010/.pyenv/versions/py3.9.4_cerf/lib/python3.9/site-packages/geopandas/_compat.py:106: UserWarning: The Shapely GEOS version (3.8.0-CAPI-1.13.1 ) is incompatible with the GEOS version PyGEOS was compiled with (3.10.1-CAPI-1.16.0). Conversions between both will be slow.\n",
      "  warnings.warn(\n"
     ]
    }
   ],
   "source": [
    "import os\n",
    "\n",
    "import rasterio\n",
    "import geopandas as gpd\n",
    "import numpy as np\n"
   ]
  },
  {
   "cell_type": "code",
   "execution_count": 44,
   "id": "b2b712ac-7b99-4595-a041-5ca45a58c233",
   "metadata": {},
   "outputs": [],
   "source": [
    "root_dir = \"/Users/d3y010/projects/cerf/suitability/data\"\n",
    "\n",
    "template_raster = os.path.join(root_dir, \"reference\", \"cerf_landmask_0-land.tif\")\n",
    "conus_boundary_file = os.path.join(root_dir, \"reference\", \"cerf_conus_boundary.shp\")\n",
    "\n",
    "raw_dir = os.path.join(root_dir, \"raw\")\n",
    "\n",
    "in_shp = os.path.join(raw_dir, \"BIA_National_LAR_shp\", \"BIA_National_LAR.shp\")\n",
    "\n",
    "out_shp = os.path.join(raw_dir, \"bia_national_lar_conus.shp\")\n",
    "\n",
    "# create output raster name\n",
    "output_raster_temp = os.path.join(raw_dir, \"cerf_bia_tribal_lands_temp.tif\")\n",
    "\n",
    "output_raster = os.path.join(root_dir, \"technology-specific\", \"cerf_bia_tribal_lands_2019.tif\")\n"
   ]
  },
  {
   "cell_type": "code",
   "execution_count": 45,
   "id": "bf97a415-3d05-4d4c-ba22-1a8105fc15d9",
   "metadata": {},
   "outputs": [],
   "source": [
    "with rasterio.open(template_raster) as src:\n",
    "    \n",
    "    metadata = src.meta.copy()\n",
    "    \n",
    "    target_crs = src.crs\n",
    "    \n",
    "    arr_template = src.read()\n"
   ]
  },
  {
   "cell_type": "code",
   "execution_count": 32,
   "id": "91d8ee40-bfed-4c44-8be6-e088846442df",
   "metadata": {},
   "outputs": [],
   "source": [
    "gdf = gpd.read_file(in_shp).to_crs(target_crs)\n"
   ]
  },
  {
   "cell_type": "code",
   "execution_count": 33,
   "id": "4d1040d2-4fc4-489f-b5ed-3025693fe228",
   "metadata": {},
   "outputs": [],
   "source": [
    "# add suitability field to rasterize\n",
    "gdf['suitable'] = 1\n"
   ]
  },
  {
   "cell_type": "code",
   "execution_count": 34,
   "id": "3ecae81e-77c8-42ad-9643-07653757767d",
   "metadata": {},
   "outputs": [],
   "source": [
    "conus_gdf = gpd.read_file(conus_boundary_file).to_crs(target_crs)\n"
   ]
  },
  {
   "cell_type": "code",
   "execution_count": 35,
   "id": "8e5f28bc-a9ae-45b2-8c5a-609e923fda9f",
   "metadata": {},
   "outputs": [],
   "source": [
    "gdf_conus = gpd.clip(gdf, conus_gdf)\n"
   ]
  },
  {
   "cell_type": "code",
   "execution_count": 36,
   "id": "1ccd8764-86f4-49e0-b96c-e530f6f7a81e",
   "metadata": {},
   "outputs": [
    {
     "data": {
      "text/html": [
       "<div>\n",
       "<style scoped>\n",
       "    .dataframe tbody tr th:only-of-type {\n",
       "        vertical-align: middle;\n",
       "    }\n",
       "\n",
       "    .dataframe tbody tr th {\n",
       "        vertical-align: top;\n",
       "    }\n",
       "\n",
       "    .dataframe thead th {\n",
       "        text-align: right;\n",
       "    }\n",
       "</style>\n",
       "<table border=\"1\" class=\"dataframe\">\n",
       "  <thead>\n",
       "    <tr style=\"text-align: right;\">\n",
       "      <th></th>\n",
       "      <th>LARID</th>\n",
       "      <th>LARName</th>\n",
       "      <th>GISAcres</th>\n",
       "      <th>Classifica</th>\n",
       "      <th>Shape_STAr</th>\n",
       "      <th>Shape_STLe</th>\n",
       "      <th>geometry</th>\n",
       "      <th>suitable</th>\n",
       "    </tr>\n",
       "  </thead>\n",
       "  <tbody>\n",
       "    <tr>\n",
       "      <th>0</th>\n",
       "      <td>LAR0001</td>\n",
       "      <td>Cheyenne River LAR</td>\n",
       "      <td>5.697394e+06</td>\n",
       "      <td>1</td>\n",
       "      <td>1.313910</td>\n",
       "      <td>8.262795</td>\n",
       "      <td>MULTIPOLYGON (((-351679.503 899671.175, -35152...</td>\n",
       "      <td>1</td>\n",
       "    </tr>\n",
       "    <tr>\n",
       "      <th>1</th>\n",
       "      <td>LAR0002</td>\n",
       "      <td>Crow Creek LAR</td>\n",
       "      <td>5.751046e+05</td>\n",
       "      <td>1</td>\n",
       "      <td>0.134807</td>\n",
       "      <td>2.597780</td>\n",
       "      <td>POLYGON ((-272263.394 762950.226, -272278.577 ...</td>\n",
       "      <td>1</td>\n",
       "    </tr>\n",
       "    <tr>\n",
       "      <th>2</th>\n",
       "      <td>LAR0003</td>\n",
       "      <td>Flandreau LAR</td>\n",
       "      <td>4.564290e+03</td>\n",
       "      <td>1</td>\n",
       "      <td>0.001071</td>\n",
       "      <td>0.355752</td>\n",
       "      <td>MULTIPOLYGON (((-45624.475 737464.668, -46031....</td>\n",
       "      <td>1</td>\n",
       "    </tr>\n",
       "    <tr>\n",
       "      <th>3</th>\n",
       "      <td>LAR0004</td>\n",
       "      <td>Fort Berthold LAR</td>\n",
       "      <td>2.241221e+06</td>\n",
       "      <td>1</td>\n",
       "      <td>0.492177</td>\n",
       "      <td>3.306533</td>\n",
       "      <td>POLYGON ((-509880.357 1189467.082, -509707.251...</td>\n",
       "      <td>1</td>\n",
       "    </tr>\n",
       "    <tr>\n",
       "      <th>4</th>\n",
       "      <td>LAR0005</td>\n",
       "      <td>Lake Traverse (Sisseton) LAR</td>\n",
       "      <td>2.323396e+05</td>\n",
       "      <td>1</td>\n",
       "      <td>0.053071</td>\n",
       "      <td>23.092728</td>\n",
       "      <td>MULTIPOLYGON (((-100386.721 924612.471, -10038...</td>\n",
       "      <td>1</td>\n",
       "    </tr>\n",
       "  </tbody>\n",
       "</table>\n",
       "</div>"
      ],
      "text/plain": [
       "     LARID                       LARName      GISAcres Classifica  Shape_STAr  \\\n",
       "0  LAR0001            Cheyenne River LAR  5.697394e+06          1    1.313910   \n",
       "1  LAR0002                Crow Creek LAR  5.751046e+05          1    0.134807   \n",
       "2  LAR0003                 Flandreau LAR  4.564290e+03          1    0.001071   \n",
       "3  LAR0004             Fort Berthold LAR  2.241221e+06          1    0.492177   \n",
       "4  LAR0005  Lake Traverse (Sisseton) LAR  2.323396e+05          1    0.053071   \n",
       "\n",
       "   Shape_STLe                                           geometry  suitable  \n",
       "0    8.262795  MULTIPOLYGON (((-351679.503 899671.175, -35152...         1  \n",
       "1    2.597780  POLYGON ((-272263.394 762950.226, -272278.577 ...         1  \n",
       "2    0.355752  MULTIPOLYGON (((-45624.475 737464.668, -46031....         1  \n",
       "3    3.306533  POLYGON ((-509880.357 1189467.082, -509707.251...         1  \n",
       "4   23.092728  MULTIPOLYGON (((-100386.721 924612.471, -10038...         1  "
      ]
     },
     "execution_count": 36,
     "metadata": {},
     "output_type": "execute_result"
    }
   ],
   "source": [
    "gdf_conus.head()"
   ]
  },
  {
   "cell_type": "code",
   "execution_count": 37,
   "id": "890a2ea9-50ad-4ef9-8f25-2740f7bbc960",
   "metadata": {},
   "outputs": [],
   "source": [
    "gdf_conus[[\"suitable\", \"geometry\"]].to_file(out_shp)\n",
    "\n"
   ]
  },
  {
   "cell_type": "code",
   "execution_count": 47,
   "id": "dc3dac12-6c9f-4bb5-bc42-c4edcef33a3f",
   "metadata": {},
   "outputs": [
    {
     "name": "stdout",
     "output_type": "stream",
     "text": [
      "gdal_rasterize -l bia_national_lar_conus -a suitable -tr 1000.0 1000.0 -te -2405552.8355 -1389065.2005 2287447.1645 1609934.7995 -ot Int16 -of GTiff /Users/d3y010/projects/cerf/suitability/data/raw/bia_national_lar_conus.shp /Users/d3y010/projects/cerf/suitability/data/raw/cerf_bia_tribal_lands_temp.tif \n",
      "\n"
     ]
    },
    {
     "data": {
      "text/plain": [
       "0"
      ]
     },
     "execution_count": 47,
     "metadata": {},
     "output_type": "execute_result"
    }
   ],
   "source": [
    "\n",
    "# get basename from files\n",
    "base_noext = os.path.splitext(os.path.basename(out_shp))[0]\n",
    "\n",
    "gdal_rasterize_cmd = f\"gdal_rasterize -l {base_noext} -a suitable -tr 1000.0 1000.0 -te -2405552.8355 -1389065.2005 2287447.1645 1609934.7995 -ot Int16 -of GTiff {out_shp} {output_raster_temp}\"\n",
    "\n",
    "print(gdal_rasterize_cmd, '\\n')\n",
    "\n",
    "os.system(gdal_rasterize_cmd)\n"
   ]
  },
  {
   "cell_type": "code",
   "execution_count": 49,
   "id": "4576c8a7-2943-48eb-af9f-1bc803df3ac7",
   "metadata": {},
   "outputs": [],
   "source": [
    "with rasterio.open(output_raster, 'w', **metadata) as dest:\n",
    "    \n",
    "    with rasterio.open(output_raster_temp) as src:\n",
    "        \n",
    "        arr = src.read()\n",
    "        \n",
    "        arr += arr_template\n",
    "        \n",
    "        dest.write(arr)\n",
    "        \n",
    "        \n",
    "        \n",
    "        "
   ]
  },
  {
   "cell_type": "code",
   "execution_count": null,
   "id": "03c5e565-b1ec-4c38-9b4a-6e3144a629ed",
   "metadata": {},
   "outputs": [],
   "source": []
  },
  {
   "cell_type": "code",
   "execution_count": null,
   "id": "43cee2de-ff24-44aa-88ca-998df87f398c",
   "metadata": {},
   "outputs": [],
   "source": []
  }
 ],
 "metadata": {
  "kernelspec": {
   "display_name": "py3.9.2_cerf",
   "language": "python",
   "name": "py3.9.2_cerf"
  },
  "language_info": {
   "codemirror_mode": {
    "name": "ipython",
    "version": 3
   },
   "file_extension": ".py",
   "mimetype": "text/x-python",
   "name": "python",
   "nbconvert_exporter": "python",
   "pygments_lexer": "ipython3",
   "version": "3.9.2"
  }
 },
 "nbformat": 4,
 "nbformat_minor": 5
}
