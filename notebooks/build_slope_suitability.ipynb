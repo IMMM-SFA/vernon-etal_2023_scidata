{
 "cells": [
  {
   "cell_type": "markdown",
   "id": "2de39ffe-442c-4a58-b6b6-7c54ed6042e7",
   "metadata": {},
   "source": [
    "# Building slope suitablity layers for GRIDCERF\n"
   ]
  },
  {
   "cell_type": "markdown",
   "id": "eea079a1-01da-4af9-a3b3-48eae8d9fe05",
   "metadata": {},
   "source": [
    "The following code was used to build the slope suitability layers for GRIDCERF. GRIDCERF does not provide the source data directly due to some license restrictions related for direct redistribution of the unaltered source data.  However, the following details the provenance associated with each source dataset and how they were processed.\n"
   ]
  },
  {
   "cell_type": "markdown",
   "id": "591cc170-74d0-45f0-a5ba-d45b049d6214",
   "metadata": {},
   "source": [
    "## 1. Setup environment"
   ]
  },
  {
   "cell_type": "markdown",
   "id": "8a73e7dc-c3cf-48fe-a40b-83de9c8142cd",
   "metadata": {},
   "source": [
    "### 1.1 Download GRIDCERF\n"
   ]
  },
  {
   "cell_type": "markdown",
   "id": "1d63f2c0-3f77-4257-b2e6-3640270c550f",
   "metadata": {},
   "source": [
    "Download the GRIDCERF package if you have not yet done so from here: https://doi.org/10.5281/zenodo.6601789. Please extract GRIDCERF inside the data directory of this repository as the paths in this notebook are set to that expectation."
   ]
  },
  {
   "cell_type": "markdown",
   "id": "8b3d1608-a8ef-437c-9043-d5046ece0db8",
   "metadata": {},
   "source": [
    "### 1.2 Install GDAL\n"
   ]
  },
  {
   "cell_type": "markdown",
   "id": "6de34928-83a8-4d9c-8bcc-3fc8c45f1906",
   "metadata": {},
   "source": [
    "\n",
    "This application requires GDAL to be installed.  We will call GDAL directly from your command prompt or terminal, so please ensure that you can do so before running the following cells.  More information on how to install GDAL can be found here:  https://gdal.org/download.html\n"
   ]
  },
  {
   "cell_type": "markdown",
   "id": "1fa8bdec-2e2e-43c7-a695-f533e2ca8509",
   "metadata": {},
   "source": [
    "### 1.3 Import necessary Python packages"
   ]
  },
  {
   "cell_type": "code",
   "execution_count": 1,
   "id": "b936066b-9010-439d-874e-6e027c42967b",
   "metadata": {},
   "outputs": [],
   "source": [
    "import os\n",
    "\n",
    "import numpy as np\n",
    "import rasterio\n"
   ]
  },
  {
   "cell_type": "markdown",
   "id": "2815281a-098e-43d4-977f-4ab1a9dd3165",
   "metadata": {},
   "source": [
    "## 2. Configuration\n"
   ]
  },
  {
   "cell_type": "code",
   "execution_count": null,
   "id": "c2345e2a-bd81-4afe-bf49-77319e08e858",
   "metadata": {},
   "outputs": [],
   "source": [
    "# get the parent directory path to where this notebook is currently stored\n",
    "root_dir = os.path.dirname(os.getcwd())\n",
    "\n",
    "# data directory in repository\n",
    "data_dir = os.path.join(root_dir, \"data\")\n",
    "\n",
    "# GRIDCERF data directory from downloaded archive\n",
    "gridcerf_dir = os.path.join(data_dir, \"gridcerf\")\n",
    "\n",
    "# GRIDCERF reference data directory\n",
    "reference_dir = os.path.join(gridcerf_dir, \"reference\")\n",
    "\n",
    "# GRIDCERF technology specific data directory\n",
    "output_dir = os.path.join(gridcerf_dir, \"technology_specific\")\n",
    "\n",
    "# GRIDCERF source data directory\n",
    "source_dir = os.path.join(gridcerf_dir, \"source\", \"technology_specific\")\n",
    "\n",
    "# template land mask raster\n",
    "template_raster = os.path.join(reference_dir, \"gridcerf_landmask.tif\")\n",
    "\n",
    "# downloaded file\n",
    "srtm_epsg6380 = os.path.join(source_dir, 'SRTM90_V4_slope_percent_1km_epsg6350.tiff')\n",
    "\n",
    "# reprojected and masked file to CERF's CRS and extent\n",
    "srtm_albers = os.path.join(source_dir, 'SRTM90_V4_slope_percent_1km_albers.tif')\n",
    "\n",
    "# exclusion layer for wind where <= 20 percent slope is unsuitable\n",
    "slope_20per = os.path.join(tech_dir, 'gridcerf_srtm_slope_20pct_or_less.tif')\n",
    "\n",
    "# exclusion layer for common where <= 12 percent slope is unsuitable\n",
    "slope_12per = os.path.join(tech_dir, 'gridcerf_srtm_slope_12pct_or_less.tif')\n",
    "\n",
    "# exclusion layer for common where <= 10 percent slope is unsuitable\n",
    "slope_10per = os.path.join(tech_dir, 'gridcerf_srtm_slope_10pct_or_less.tif')\n",
    "\n",
    "# exclusion layer for common where <= 5 percent slope is unsuitable\n",
    "slope_5per = os.path.join(tech_dir, 'gridcerf_srtm_slope_5pct_or_less.tif')\n"
   ]
  },
  {
   "cell_type": "markdown",
   "id": "117da1cb-7dfb-402c-a5b8-5fc8bcf454d4",
   "metadata": {},
   "source": [
    "## 3. Generate slope suitability rasters"
   ]
  },
  {
   "cell_type": "markdown",
   "id": "e0c11405-98e5-42a0-ab76-0f824bc0fd4b",
   "metadata": {},
   "source": [
    "- **Title**:  SRTM Digital Elevation Data Version 4\n",
    "- **Description from Source**: The Shuttle Radar Topography Mission (SRTM) digital elevation dataset was originally produced to provide consistent, high-quality elevation data at near global scope. This version of the SRTM digital elevation data has been processed to fill data voids, and to facilitate its ease of use.\n",
    "- **Source URL**:  https://developers.google.com/earth-engine/datasets/catalog/CGIAR_SRTM90_V4#description\n",
    "- **Date Accessed**:  12/31/21\n",
    "- **Citation**\n",
    "> Jarvis, A., Reuter, H. I., Nelson, A. & Guevara, E. Hole-filled SRTM for the globe Version 4. CGIAR Consortium for Spatial Information https://research.utwente.nl/en/publications/hole-filled-srtm-for-the-globe-version-4-data-grid (2008).\n"
   ]
  },
  {
   "cell_type": "markdown",
   "id": "d8b46c20-ccb7-4846-be90-52bfc3ff9782",
   "metadata": {},
   "source": [
    "### 3.1 Generate the following slope raster from SRTM 90m data via Google Earth Engine"
   ]
  },
  {
   "cell_type": "markdown",
   "id": "eaec033e-0fbd-4fe3-bfbf-07bce6e9c3fd",
   "metadata": {},
   "source": [
    "```javascript\n",
    "\n",
    "// get sample area to extract|\n",
    "var geometry = \n",
    "    ee.Geometry.Polygon(\n",
    "        [[[-128.59843750000002, 50.17140850495461],\n",
    "          [-128.59843750000002, 23.55613021145419],\n",
    "          [-64.78984375000002, 23.55613021145419],\n",
    "          [-64.78984375000002, 50.17140850495461]]], null, false);\n",
    "\n",
    "// DEM\n",
    "var dataset = ee.Image('CGIAR/SRTM90_V4').clip(geometry);\n",
    "\n",
    "// extract elevation data\n",
    "var elevation = dataset.select('elevation');\n",
    "\n",
    "// calculate slope in degrees\n",
    "var slope = ee.Terrain.slope(elevation);\n",
    "\n",
    "// convert to percent slope\n",
    "var slope_percent = slope.divide(100).multiply(Math.PI).tan().multiply(100).rename('Percent');\n",
    "\n",
    "// reproject into NAD83 Albers in meters; CERF's standard ESRI:102003 is not available\n",
    "var percent_albers = slope_percent.reproject({\n",
    "  crs: 'EPSG:6350',\n",
    "  scale: 1000\n",
    "});\n",
    "\n",
    "// export the result to my drive\n",
    "Export.image.toDrive({\n",
    "  image: percent_albers,\n",
    "  description: 'SRTM90_V4_slope_percent_1km_epsg6350',\n",
    "  folder: 'earth_engine',\n",
    "  region: geometry,\n",
    "  scale: 1000,\n",
    "  crs: 'EPSG:6350'\n",
    "});\n",
    "```"
   ]
  },
  {
   "cell_type": "markdown",
   "id": "a8502d24-370f-4000-9655-1e376d4bbe4f",
   "metadata": {},
   "source": [
    "### 3.2 Reproject to GRIDCERF's CRS and extent"
   ]
  },
  {
   "cell_type": "code",
   "execution_count": 3,
   "id": "ecd58921-bf8d-4df1-a730-ecee96c229df",
   "metadata": {},
   "outputs": [
    {
     "data": {
      "text/plain": [
       "0"
      ]
     },
     "execution_count": 3,
     "metadata": {},
     "output_type": "execute_result"
    }
   ],
   "source": [
    "# gdal warp command\n",
    "gdal_cmd = f'gdalwarp -s_srs EPSG:6350 -t_srs ESRI:102003 -tr 1000.0 1000.0 -r bilinear -te -2405552.8355 -1389065.2005 2287447.1645 1609934.7995 -te_srs ESRI:102003 -multi -of GTiff {srtm_epsg6380} {srtm_albers}'\n",
    "\n",
    "os.system(gdal_cmd)\n"
   ]
  },
  {
   "cell_type": "markdown",
   "id": "b69c3a4b-a85a-4453-b1d7-9f90bb96f08c",
   "metadata": {},
   "source": [
    "### 3.3 Reclassify to less than or equal to target percent slope as 0 (suitable) and above 1 (unsuitable) "
   ]
  },
  {
   "cell_type": "code",
   "execution_count": 4,
   "id": "c52fdbb1-3713-45b2-b13f-287d6b5fefbb",
   "metadata": {},
   "outputs": [],
   "source": [
    "with rasterio.open(land_mask) as msk:\n",
    "    mask_arr = msk.read(1)\n",
    "    mask_arr = np.where(mask_arr == 0, np.nan, mask_arr)\n"
   ]
  },
  {
   "cell_type": "code",
   "execution_count": 23,
   "id": "34ba9b5f-9909-4a78-8adc-c56195826028",
   "metadata": {},
   "outputs": [],
   "source": [
    "\n",
    "# create 20 percent suitable raster\n",
    "with rasterio.open(srtm_albers) as src:\n",
    "    \n",
    "    # update metadata datatype to int16\n",
    "    metadata = src.meta.copy()\n",
    "    metadata.update({'dtype': rasterio.int16})\n",
    "    \n",
    "    arr = src.read(1)\n",
    "    \n",
    "    # make all greater than 20 percent unsuitable\n",
    "    arr = np.where(arr > 20, 1.0, 0.0)\n",
    "    \n",
    "    # apply land mask\n",
    "    arr *= mask_arr\n",
    "    \n",
    "    # convert nan to unsuitable\n",
    "    arr = np.where(np.isnan(arr), 1, arr)\n",
    "    \n",
    "    with rasterio.open(slope_20per, 'w', **metadata) as dest:\n",
    "        dest.write(arr.astype(rasterio.int16), 1)\n"
   ]
  },
  {
   "cell_type": "code",
   "execution_count": null,
   "id": "56d72980-ecc8-459c-985c-db9a9d701d31",
   "metadata": {},
   "outputs": [],
   "source": [
    "# create 12 percent suitable raster\n",
    "with rasterio.open(srtm_albers) as src:\n",
    "    \n",
    "    # update metadata datatype to int16\n",
    "    metadata = src.meta.copy()\n",
    "    metadata.update({'dtype': rasterio.int16})\n",
    "    \n",
    "    arr = src.read(1)\n",
    "    \n",
    "    # make all greater than 20 percent unsuitable\n",
    "    arr = np.where(arr > 12, 1.0, 0.0)\n",
    "    \n",
    "    # apply land mask\n",
    "    arr *= mask_arr\n",
    "    \n",
    "    # convert nan to unsuitable\n",
    "    arr = np.where(np.isnan(arr), 1, arr)\n",
    "    \n",
    "    with rasterio.open(slope_12per, 'w', **metadata) as dest:\n",
    "        dest.write(arr.astype(rasterio.int16), 1)\n"
   ]
  },
  {
   "cell_type": "code",
   "execution_count": 5,
   "id": "613fd4ba-744d-4aab-b3e1-52c0d916c6bf",
   "metadata": {},
   "outputs": [],
   "source": [
    "# create 10 percent suitable raster\n",
    "with rasterio.open(srtm_albers) as src:\n",
    "    \n",
    "    # update metadata datatype to int16\n",
    "    metadata = src.meta.copy()\n",
    "    metadata.update({'dtype': rasterio.int16})\n",
    "    \n",
    "    arr = src.read(1)\n",
    "    \n",
    "    # make all greater than 10 percent unsuitable\n",
    "    arr = np.where(arr > 10, 1.0, 0.0)\n",
    "    \n",
    "    # apply land mask\n",
    "    arr *= mask_arr\n",
    "    \n",
    "    # convert nan to unsuitable\n",
    "    arr = np.where(np.isnan(arr), 1, arr)\n",
    "    \n",
    "    with rasterio.open(slope_10per, 'w', **metadata) as dest:\n",
    "        dest.write(arr.astype(rasterio.int16), 1)\n"
   ]
  },
  {
   "cell_type": "code",
   "execution_count": 6,
   "id": "40556f10-ada5-4d80-baac-4b28a4ee7763",
   "metadata": {},
   "outputs": [],
   "source": [
    "# create 5 percent suitable raster\n",
    "with rasterio.open(srtm_albers) as src:\n",
    "    \n",
    "    # update metadata datatype to int16\n",
    "    metadata = src.meta.copy()\n",
    "    metadata.update({'dtype': rasterio.int16})\n",
    "    \n",
    "    arr = src.read(1)\n",
    "    \n",
    "    # make all greater than 5 percent unsuitable\n",
    "    arr = np.where(arr > 5, 1.0, 0.0)\n",
    "    \n",
    "    # apply land mask\n",
    "    arr *= mask_arr\n",
    "    \n",
    "    # convert nan to unsuitable\n",
    "    arr = np.where(np.isnan(arr), 1, arr)\n",
    "    \n",
    "    with rasterio.open(slope_5per, 'w', **metadata) as dest:\n",
    "        dest.write(arr.astype(rasterio.int16), 1)\n",
    "        "
   ]
  }
 ],
 "metadata": {
  "kernelspec": {
   "display_name": "py3.9.2_cerf",
   "language": "python",
   "name": "py3.9.2_cerf"
  },
  "language_info": {
   "codemirror_mode": {
    "name": "ipython",
    "version": 3
   },
   "file_extension": ".py",
   "mimetype": "text/x-python",
   "name": "python",
   "nbconvert_exporter": "python",
   "pygments_lexer": "ipython3",
   "version": "3.9.2"
  }
 },
 "nbformat": 4,
 "nbformat_minor": 5
}
