{
 "cells": [
  {
   "cell_type": "markdown",
   "id": "807318d3-11da-48e1-96fd-ad924c18c59f",
   "metadata": {},
   "source": [
    "# Build Coal Supply suitability for GRIDCERF\n"
   ]
  },
  {
   "cell_type": "markdown",
   "id": "1d3a450e-da42-47ee-95e2-71e5fadcadf4",
   "metadata": {},
   "source": [
    "The following code was used to build the coal supply suitability layers for GRIDCERF. GRIDCERF does not provide the source data directly due to some license restrictions related for direct redistribution of the unaltered source data.  However, the following details the provenance associated with each source dataset and how they were processed.\n"
   ]
  },
  {
   "cell_type": "markdown",
   "id": "8c69a17a-cbce-471b-81ea-61c927b00b30",
   "metadata": {},
   "source": [
    "## 1. Setup environment"
   ]
  },
  {
   "cell_type": "markdown",
   "id": "46177736-9737-4f52-98d7-b9c7265c6fe6",
   "metadata": {},
   "source": [
    "### 1.1 Download GRIDCERF\n",
    "\n",
    "Download the GRIDCERF package if you have not yet done so from here:  https://doi.org/10.5281/zenodo.6601789.  Please extract GRIDCERF inside the `data` directory of this repository as the paths in this notebook are set to that expectation.\n"
   ]
  },
  {
   "cell_type": "markdown",
   "id": "812d63c3-a917-41e9-b06b-3ae53cf75c8e",
   "metadata": {},
   "source": [
    "### 1.2 Data description\n"
   ]
  },
  {
   "cell_type": "markdown",
   "id": "e0a791da-0638-494f-9db5-62f2c080a943",
   "metadata": {},
   "source": [
    "**Title**:  Energy Information Association (EIA) U.S. Coal Mining Locations\n",
    "- **Description from Source**:  The U.S. Energy Information Administration (EIA) provides impartial and independent data on the nation’s energy infrastructure, its sources, flows, and end uses, as well as forecasts and outlooks. Location information for specific extraction activities, as well as power plants and other supply chain components, can help reveal the regional nature of specific impacts and the often large distances between those effects and end-use drivers. This is a point dataset representing operating surface and underground coal mines in the United States in 2012. These data originate from the U.S. Energy Information Administration, Form EIA-7A “Coal Production and Preparation Report” and the U.S. Department of Labor, Mine Safety and Health Administration Form 7000-2, “Quarterly Mine Employment and Coal Production Report.”\n",
    "- **Source URL**:  https://www.sciencebase.gov/catalog/item/5748a4cbe4b07e28b664dd78\n",
    "- **Date Accessed**:  8/1/23\n",
    "- **Citation**\n",
    "> Energy Information Association (EIA). Energy Information Association U.S. Coal Mining Locations. ScienceBase-Catalog https://www.sciencebase.gov/catalog/item/5748a4cbe4b07e28b664dd78 (2017).\n",
    "\n",
    "\n",
    "**Title**:  U.S. Department of Transportation (USDOT) Bureau of Transportation Statistics (BTS)  North American Rail Network Nodes\n",
    "- **Description from Source**:  The rail nodes dataset supports the topology of the North American Rail Network (NARN) and attributes information for use in network analysis applications. The North American Rail Network (NARN) Rail Nodes dataset was created in 2016 and was updated on July 14, 2023 from the Federal Railroad Administration (FRA) and is part of the U.S. Department of Transportation (USDOT)/Bureau of Transportation Statistics (BTS) National Transportation Atlas Database (NTAD). The NARN Rail Nodes dataset is a database of North America's railway system at 1:24,000 or better within the United States. The data set covers all 50 States, the District of Columbia, Mexico, and Canada. The dataset holds topology of the network and provides geographic location information.\n",
    "- **Source URL**:  https://data-usdot.opendata.arcgis.com/datasets/usdot::north-american-rail-network-nodes/about\n",
    "- **Date Accessed**:  8/1/23\n",
    "- **Citation**\n",
    "> U.S. Department of Transportation. North American Rail Network Nodes. U.S. Department of Transportation https://data-usdot.opendata.arcgis.com/datasets/usdot::north-american-rail-network-nodes/explore?location=34.085743%2C-108.310932%2C3.96 (2023).\n",
    "\n",
    "\n",
    "**Title**:  U.S. Department of Transportation (USDOT) Bureau of Transportation Statistics (BTS) Navigable Waterway Network Lines\n",
    "- **Description from Source**:  The Navigable Waterway Network Lines dataset is periodically updated by the United States Army Corp of Engineers (USACE) and is part of the U.S. Department of Transportation (USDOT)/Bureau of Transportation Statistics (BTS) National Transportation Atlas Database (NTAD). The National Waterway Network (Lines) is a comprehensive network database of the Nation's navigable waterways. The dataset covers the 48 contiguous states plus the District of Columbia, Hawaii, Alaska, Puerto Rico and water links between. It consists of a line feature class of the National Waterway Network (NWN), which is based on a route feature class for the NWN update regions (“1” through “7”, as well as the open ocean region “0”) and route event table with linear referencing system measures for NWN links. This dataset is a feature class with associated measures (in miles) that are used for finding distances, locating features, and displaying route event layers. It was exported from this route event layer. The nominal scale of the dataset varies with the source material. The majority of the information is at 1:100,000 with larger scales used in harbor/bay/port areas and smaller scales used in open waters. These data could be used for analytical studies of waterway performance, for compiling commodity flow statistics, and for mapping purposes.\n",
    "- **Source URL**:  https://geodata.bts.gov/datasets/usdot::navigable-waterway-network-lines/about\n",
    "- **Date Accessed**:  8/1/23\n",
    "- **Citation**\n",
    "> U.S. Department of Transportation. Navigable Waterway Network Lines. Bureau of Transportation Statistics https://geodata.bts.gov/datasets/usdot::navigable-waterway-network-lines/about (2023).\n"
   ]
  },
  {
   "cell_type": "markdown",
   "id": "a40a1979-64b4-44f9-bbaf-a8997f993e1a",
   "metadata": {},
   "source": [
    "### 1.3 Import modules\n"
   ]
  },
  {
   "cell_type": "code",
   "execution_count": 14,
   "id": "9d70d433-5de6-443f-8eaa-f009f132a5be",
   "metadata": {},
   "outputs": [],
   "source": [
    "import os\n",
    "\n",
    "import geopandas as gpd\n",
    "import numpy as np\n",
    "import pandas as pd\n",
    "import rasterio\n",
    "from rasterio import features\n"
   ]
  },
  {
   "cell_type": "markdown",
   "id": "810053b4-a24b-4ccc-95d9-324c21cc21f0",
   "metadata": {},
   "source": [
    "## 2. Configuration\n"
   ]
  },
  {
   "cell_type": "code",
   "execution_count": 18,
   "id": "113a4f20-c12c-4b87-9717-6541d22cb903",
   "metadata": {},
   "outputs": [],
   "source": [
    "# get the parent directory path to where this notebook is currently stored\n",
    "root_dir = os.path.dirname(os.getcwd())\n",
    "\n",
    "# data directory in repository\n",
    "data_dir = os.path.join(root_dir, \"data\")\n",
    "\n",
    "# GRIDCERF data directory from downloaded archive\n",
    "gridcerf_dir = os.path.join(data_dir, \"gridcerf\")\n",
    "\n",
    "# GRIDCERF reference data directory\n",
    "reference_dir = os.path.join(gridcerf_dir, \"reference\")\n",
    "\n",
    "# GRIDCERF source data directory\n",
    "source_dir = os.path.join(gridcerf_dir, \"source\", \"technology_specific\")\n",
    "\n",
    "# GRIDCERF technology_specific data directory\n",
    "technology_specific_dir = os.path.join(gridcerf_dir, \"technology_specific\")\n",
    "\n",
    "# template land mask raster\n",
    "template_raster = os.path.join(reference_dir, \"gridcerf_landmask.tif\")\n",
    "\n",
    "# CONUS boundary shapefile\n",
    "conus_shpfile = os.path.join(reference_dir, \"gridcerf_conus_boundary.shp\")\n",
    "\n",
    "# shapefile location for the source coal mines\n",
    "coalmines_file = os.path.join(source_dir, \"eia_coal-mines\", \"Coal_Mining_Locations.shp\")\n",
    "\n",
    "# shapefile location for the source rail nodes\n",
    "railnodes_file = os.path.join(source_dir, \"usdot_rail-nodes\", \"North_American_Rail_Network_Nodes.shp\")\n",
    "\n",
    "# shapefile location for the source navigable water\n",
    "navwater_file = os.path.join(source_dir, \"usdot_navigable-waterways\", \"Waterway_Network.shp\")\n",
    "\n",
    "# output rasters\n",
    "output_file = os.path.join(technology_specific_dir, \"gridcerf_coalmines20km_railnodes5km_navwaters5km_conus.tif\")\n"
   ]
  },
  {
   "cell_type": "markdown",
   "id": "43b4ddeb-bbba-47ed-a096-a92974bcce4d",
   "metadata": {},
   "source": [
    "## 4. Generate suitability rasters"
   ]
  },
  {
   "cell_type": "markdown",
   "id": "2cf0cf93-9436-48bd-9439-c80c866996d4",
   "metadata": {},
   "source": [
    "### 4.1 Functions to build suitability"
   ]
  },
  {
   "cell_type": "code",
   "execution_count": 19,
   "id": "a79320b5-afe4-4a9a-b523-ed0181ebed6b",
   "metadata": {},
   "outputs": [],
   "source": [
    "def vector_to_raster(template_raster, gdf, value_field, output_raster):\n",
    "                     \n",
    "    # open the template raster and extract metadata and land mask\n",
    "    with rasterio.open(template_raster) as template:\n",
    "\n",
    "        metadata = template.meta.copy()\n",
    "\n",
    "        # update raster data type\n",
    "        metadata.update(dtype=np.int16)\n",
    "\n",
    "        # extract land mask\n",
    "        land_mask = template.read(1)\n",
    "        land_mask = np.where(land_mask == 0, np.nan, 1)\n",
    "\n",
    "        # write output raster\n",
    "        with rasterio.open(output_raster, 'w+', **metadata) as out:\n",
    "\n",
    "            out_arr = out.read(1)\n",
    "\n",
    "            # build shapes to rasterize from target geometry and field\n",
    "            shapes = ((geom, value) for geom, value in zip(gdf.geometry, gdf[value_field]))\n",
    "\n",
    "            # burn features\n",
    "            burned = features.rasterize(shapes=shapes, \n",
    "                                        fill=1, \n",
    "                                        out=out_arr, \n",
    "                                        transform=out.transform)\n",
    "            \n",
    "            burned = np.where(burned == 1, 0, 1).astype(np.float64)\n",
    "            \n",
    "            # apply land mask\n",
    "            burned *= land_mask\n",
    "            \n",
    "            # make nan excluded\n",
    "            burned = np.where(np.isnan(burned), 1, burned)\n",
    "\n",
    "            out.write_band(1, burned.astype(np.int16))\n"
   ]
  },
  {
   "cell_type": "markdown",
   "id": "14b307e0-09c5-456f-8da8-7efa582b96f2",
   "metadata": {},
   "source": [
    "### 4.2 Set standard raster template\n"
   ]
  },
  {
   "cell_type": "code",
   "execution_count": 20,
   "id": "aadfe699-86fa-44ad-8a4f-4ab5be7e99e5",
   "metadata": {},
   "outputs": [],
   "source": [
    "# open the template raster and extract metadata and land mask\n",
    "with rasterio.open(template_raster) as template:\n",
    "\n",
    "    metadata = template.meta.copy()\n",
    "\n",
    "    # update raster data type\n",
    "    metadata.update(dtype=np.float64)\n",
    "\n",
    "    # extract land mask\n",
    "    land_mask = template.read(1)\n",
    "    land_mask = np.where(land_mask == 0, np.nan, 1)\n",
    "\n",
    "    # get the template CRS\n",
    "    template_crs = template.crs\n"
   ]
  },
  {
   "cell_type": "markdown",
   "id": "0f15cbc2-be75-4bac-ae71-2cf963899dcc",
   "metadata": {},
   "source": [
    "### 4.3 Generate suitability"
   ]
  },
  {
   "cell_type": "markdown",
   "id": "b9b7d974-caee-4bb1-a9ad-5f9720b32264",
   "metadata": {},
   "source": [
    "#### 4.3.1 Build gridcerf_usdot_railnodes_navwaters_greaterthan5km.tif"
   ]
  },
  {
   "cell_type": "code",
   "execution_count": 23,
   "id": "05f0df31-09d2-45db-8423-2b63e1932f2f",
   "metadata": {},
   "outputs": [],
   "source": [
    "# read in coal mine data and reproject to the target CRS\n",
    "coal_gdf = gpd.read_file(coalmines_file).to_crs(template_crs)\n",
    "\n",
    "# buffer by 20 km (20000 m)\n",
    "coal_gdf[\"geometry\"] = coal_gdf[\"geometry\"].buffer(20000)\n",
    "\n",
    "# add in field for rasterization\n",
    "coal_gdf[\"rval\"] = 1\n"
   ]
  },
  {
   "cell_type": "code",
   "execution_count": 24,
   "id": "a783d091-2046-4ad4-ab64-dd78ba27e772",
   "metadata": {},
   "outputs": [],
   "source": [
    "# read in rail nodes shapefile and reproject to the target CRS\n",
    "rail_gdf = gpd.read_file(railnodes_file)[[\"COUNTRY\", \"STATE\", \"geometry\"]].to_crs(template_crs)\n"
   ]
  },
  {
   "cell_type": "code",
   "execution_count": 25,
   "id": "4f37cccc-1523-4e14-8ec0-46a28aab1fce",
   "metadata": {},
   "outputs": [],
   "source": [
    "# keep only US nodes\n",
    "rail_gdf = rail_gdf.loc[rail_gdf[\"COUNTRY\"] == \"US\"].copy()\n",
    "\n",
    "# remove all non-CONUS state designations\n",
    "rail_gdf = rail_gdf.loc[~rail_gdf[\"STATE\"].isin([\"HI\", \"AK\", \"BD\"])].copy()\n"
   ]
  },
  {
   "cell_type": "code",
   "execution_count": 26,
   "id": "39c9c6ac-52f2-4d3c-89ef-230e8640a7bd",
   "metadata": {},
   "outputs": [],
   "source": [
    "# buffer by 5 km (5000 m)\n",
    "rail_gdf[\"geometry\"] = rail_gdf[\"geometry\"].buffer(5000)\n"
   ]
  },
  {
   "cell_type": "code",
   "execution_count": 27,
   "id": "1fa34d68-d5c4-4de3-a6f6-8f56280561a1",
   "metadata": {},
   "outputs": [],
   "source": [
    "# create a field to use for rasterization\n",
    "rail_gdf[\"rval\"] = 1\n"
   ]
  },
  {
   "cell_type": "code",
   "execution_count": 28,
   "id": "6e5e8c5a-7467-48f6-859b-06ae5c9dea23",
   "metadata": {},
   "outputs": [],
   "source": [
    "# read in rail nodes shapefile and reproject to the target CRS\n",
    "nav_gdf = gpd.read_file(navwater_file).to_crs(template_crs)\n"
   ]
  },
  {
   "cell_type": "code",
   "execution_count": 29,
   "id": "f6335524-ea81-4810-848f-da61f96bae02",
   "metadata": {},
   "outputs": [],
   "source": [
    "# buffer by 5 km (5000 m)\n",
    "nav_gdf[\"geometry\"] = nav_gdf[\"geometry\"].buffer(5000)\n"
   ]
  },
  {
   "cell_type": "code",
   "execution_count": 30,
   "id": "7e147097-a9f5-4e73-9038-96b9a8880d60",
   "metadata": {},
   "outputs": [],
   "source": [
    "# create a field to use for rasterization\n",
    "nav_gdf[\"rval\"] = 1\n"
   ]
  },
  {
   "cell_type": "code",
   "execution_count": 31,
   "id": "b7d223ef-51d7-41a2-9e5f-00794e59a4db",
   "metadata": {},
   "outputs": [],
   "source": [
    "# merge the rail and navigable waters data frames\n",
    "mdf = pd.concat([\n",
    "    coal_gdf[[\"rval\", \"geometry\"]], \n",
    "    rail_gdf[[\"rval\", \"geometry\"]], \n",
    "    nav_gdf[[\"rval\", \"geometry\"]]\n",
    "])\n"
   ]
  },
  {
   "cell_type": "code",
   "execution_count": 32,
   "id": "6cffa02e-9d2f-4fae-96c3-dcdb86331d0d",
   "metadata": {},
   "outputs": [
    {
     "name": "stderr",
     "output_type": "stream",
     "text": [
      "/Users/d3y010/.pyenv/versions/py3.9.2_cerf/lib/python3.9/site-packages/rasterio/features.py:318: ShapeSkipWarning: Invalid or empty shape {'type': 'Polygon', 'coordinates': ()} at index 146 will not be rasterized.\n",
      "  warnings.warn('Invalid or empty shape {} at index {} will not be rasterized.'.format(geom, index), ShapeSkipWarning)\n",
      "/Users/d3y010/.pyenv/versions/py3.9.2_cerf/lib/python3.9/site-packages/rasterio/features.py:318: ShapeSkipWarning: Invalid or empty shape {'type': 'Polygon', 'coordinates': ()} at index 248 will not be rasterized.\n",
      "  warnings.warn('Invalid or empty shape {} at index {} will not be rasterized.'.format(geom, index), ShapeSkipWarning)\n",
      "/Users/d3y010/.pyenv/versions/py3.9.2_cerf/lib/python3.9/site-packages/rasterio/features.py:318: ShapeSkipWarning: Invalid or empty shape {'type': 'Polygon', 'coordinates': ()} at index 378 will not be rasterized.\n",
      "  warnings.warn('Invalid or empty shape {} at index {} will not be rasterized.'.format(geom, index), ShapeSkipWarning)\n",
      "/Users/d3y010/.pyenv/versions/py3.9.2_cerf/lib/python3.9/site-packages/rasterio/features.py:318: ShapeSkipWarning: Invalid or empty shape {'type': 'Polygon', 'coordinates': ()} at index 468 will not be rasterized.\n",
      "  warnings.warn('Invalid or empty shape {} at index {} will not be rasterized.'.format(geom, index), ShapeSkipWarning)\n",
      "/Users/d3y010/.pyenv/versions/py3.9.2_cerf/lib/python3.9/site-packages/rasterio/features.py:318: ShapeSkipWarning: Invalid or empty shape {'type': 'Polygon', 'coordinates': ()} at index 469 will not be rasterized.\n",
      "  warnings.warn('Invalid or empty shape {} at index {} will not be rasterized.'.format(geom, index), ShapeSkipWarning)\n",
      "/Users/d3y010/.pyenv/versions/py3.9.2_cerf/lib/python3.9/site-packages/rasterio/features.py:318: ShapeSkipWarning: Invalid or empty shape {'type': 'Polygon', 'coordinates': ()} at index 809 will not be rasterized.\n",
      "  warnings.warn('Invalid or empty shape {} at index {} will not be rasterized.'.format(geom, index), ShapeSkipWarning)\n",
      "/Users/d3y010/.pyenv/versions/py3.9.2_cerf/lib/python3.9/site-packages/rasterio/features.py:318: ShapeSkipWarning: Invalid or empty shape {'type': 'Polygon', 'coordinates': ()} at index 849 will not be rasterized.\n",
      "  warnings.warn('Invalid or empty shape {} at index {} will not be rasterized.'.format(geom, index), ShapeSkipWarning)\n",
      "/Users/d3y010/.pyenv/versions/py3.9.2_cerf/lib/python3.9/site-packages/rasterio/features.py:318: ShapeSkipWarning: Invalid or empty shape {'type': 'Polygon', 'coordinates': ()} at index 864 will not be rasterized.\n",
      "  warnings.warn('Invalid or empty shape {} at index {} will not be rasterized.'.format(geom, index), ShapeSkipWarning)\n",
      "/Users/d3y010/.pyenv/versions/py3.9.2_cerf/lib/python3.9/site-packages/rasterio/features.py:318: ShapeSkipWarning: Invalid or empty shape {'type': 'Polygon', 'coordinates': ()} at index 1070 will not be rasterized.\n",
      "  warnings.warn('Invalid or empty shape {} at index {} will not be rasterized.'.format(geom, index), ShapeSkipWarning)\n",
      "/Users/d3y010/.pyenv/versions/py3.9.2_cerf/lib/python3.9/site-packages/rasterio/features.py:318: ShapeSkipWarning: Invalid or empty shape None at index 200843 will not be rasterized.\n",
      "  warnings.warn('Invalid or empty shape {} at index {} will not be rasterized.'.format(geom, index), ShapeSkipWarning)\n",
      "/Users/d3y010/.pyenv/versions/py3.9.2_cerf/lib/python3.9/site-packages/rasterio/features.py:318: ShapeSkipWarning: Invalid or empty shape None at index 205206 will not be rasterized.\n",
      "  warnings.warn('Invalid or empty shape {} at index {} will not be rasterized.'.format(geom, index), ShapeSkipWarning)\n",
      "/Users/d3y010/.pyenv/versions/py3.9.2_cerf/lib/python3.9/site-packages/rasterio/features.py:318: ShapeSkipWarning: Invalid or empty shape None at index 205234 will not be rasterized.\n",
      "  warnings.warn('Invalid or empty shape {} at index {} will not be rasterized.'.format(geom, index), ShapeSkipWarning)\n"
     ]
    }
   ],
   "source": [
    "# rasterize combined rail and navigable waters data\n",
    "vector_to_raster(template_raster, \n",
    "                 mdf, \n",
    "                 \"rval\", \n",
    "                 output_file)\n"
   ]
  },
  {
   "cell_type": "code",
   "execution_count": null,
   "id": "1c35a125-4aee-48ee-86c3-0d7912f11823",
   "metadata": {},
   "outputs": [],
   "source": []
  }
 ],
 "metadata": {
  "kernelspec": {
   "display_name": "py3.9.2_cerf",
   "language": "python",
   "name": "py3.9.2_cerf"
  },
  "language_info": {
   "codemirror_mode": {
    "name": "ipython",
    "version": 3
   },
   "file_extension": ".py",
   "mimetype": "text/x-python",
   "name": "python",
   "nbconvert_exporter": "python",
   "pygments_lexer": "ipython3",
   "version": "3.9.2"
  }
 },
 "nbformat": 4,
 "nbformat_minor": 5
}
