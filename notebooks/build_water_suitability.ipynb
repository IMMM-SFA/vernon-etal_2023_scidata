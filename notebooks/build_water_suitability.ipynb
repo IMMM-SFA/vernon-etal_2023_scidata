{
 "cells": [
  {
   "cell_type": "markdown",
   "id": "9a6a42da-2bd0-4553-84a7-23968b051bb6",
   "metadata": {},
   "source": [
    "# Building water availability suitablity layers for GRIDCERF"
   ]
  },
  {
   "cell_type": "markdown",
   "id": "fab093b6-58a5-4080-a0d4-2d4e3c4442e9",
   "metadata": {},
   "source": [
    "The following code was used to build the water availability suitability layers for GRIDCERF. GRIDCERF does not provide the source data directly due to some license restrictions related for direct redistribution of the unaltered source data.  However, the following details the provenance associated with each source dataset and how they were processed.\n"
   ]
  },
  {
   "cell_type": "markdown",
   "id": "5f98f900-a29c-476b-97a9-52d6c105e2a4",
   "metadata": {},
   "source": [
    "## 1. Downloading the data"
   ]
  },
  {
   "cell_type": "markdown",
   "id": "3c3f8fea-93e6-4b84-83c4-5868f236fee4",
   "metadata": {},
   "source": [
    "### 1.1 Download GRIDCERF\n",
    "\n",
    "Download the GRIDCERF package if you have not yet done so from here:  https://doi.org/10.5281/zenodo.6601789.  Please extract GRIDCERF inside the `data` directory of this repository as the paths in this notebook are set to that expectation.\n"
   ]
  },
  {
   "cell_type": "markdown",
   "id": "9a21d112-ca77-4493-a0cf-0b0dcb431554",
   "metadata": {},
   "source": [
    "### 1.2 Download the available water data\n"
   ]
  },
  {
   "cell_type": "markdown",
   "id": "59b3b881-0048-42a2-9ed2-9a7ec4857e4a",
   "metadata": {},
   "source": [
    "- **Title**:  Surface Water Flow\n",
    "- **Description from Source**:   This data is a representation of stream and river water bodies derived from the National Hydrography Dataset (NHD) and is symbolized by flow rate from gauge adjusted values from the USGS Extended Unit Runoff Method(EROM) table. The EROM table contains other mean annual flow/velocity statistics for the NHDFlowline features such as Flow from runoff or Velocity from runoff. Subject matter experts on this data agreed that for the purposes of finding flow discharge rates of cooling water for power plants, the gauge adjusted vales were the ideal empirical values for this study. It should also be noted that the flow rates were originally in Cubic feet per second (cfs) but converted to Gallons per minute (gpm).  The geospatial data sets included in NHDPlusV2 are intended to support a variety of water- related applications. They already have been used in an application to develop estimates of mean annual streamflow and velocity for each NHDFlowline feature in the conterminous United States. The results of these analyses are included with the NHDPlusV2 data. A water-quality model developed by the U.S. Geological Survey (USGS) called SPARROW (Spatially Referenced Regressions on Watershed Attributes), can utilize the NHDPlusV2 network functionality to track the downstream transport of nutrients, sediments, or other substances. NHDPlusV2 water bodies and estimates of streamflow and velocity are used in SPARROW to identify reservoir retention and in-stream loss factors. NHDPlusV2 climatic and land surface attributes can be used in SPARROW to identify potential factors in the delivery of nutrients from the land surface to streams. NHDPlusV2 data is also being used in select areas for a USGS Web-based application, called StreamStats. StreamStats provides tools to interactively select any point in the implemented areas, delineate watersheds, and to obtain streamflow and watershed characteristics for the selected point. NHDPlusV2 has been designed to accommodate many users' needs for future applications. NHDPlusV2 provides the framework and tools necessary to customize the behavior of the network relationships as well as building upon the attribute database, for which the user can assign their own data to the network.\n",
    "- **Source URL**:  https://ezmt.anl.gov/mapexport/surface_water_flow_nhdplus_v2_erom_eispc_v2.zip\n",
    "- **Date Accessed**:  10/14/22\n",
    "- **Citation**\n",
    "> Moore, R. B. et al. User’s guide for the national hydrography dataset plus (NHDPlus) high resolution: U.S. Geological Survey Open-File Report 2019–1096. https://pubs.er.usgs.gov/publication/ofr20191096 (2019).\n"
   ]
  },
  {
   "cell_type": "markdown",
   "id": "ea70c1e0-ea87-4494-9996-b7367c2707e8",
   "metadata": {},
   "source": [
    "## 2. Setup environment"
   ]
  },
  {
   "cell_type": "markdown",
   "id": "f7e013bc-a9df-4a20-80ed-cb1e93ca6f44",
   "metadata": {},
   "source": [
    "### 2.1 Install GDAL\n",
    "\n",
    "This application requires GDAL to be installed.  We will call GDAL directly from your command prompt or terminal, so please ensure that you can do so before running the following cells.  More information on how to install GDAL can be found here:  https://gdal.org/download.html\n"
   ]
  },
  {
   "cell_type": "markdown",
   "id": "a221e84b-9735-4916-993a-b9e33afabf39",
   "metadata": {},
   "source": [
    "### 2.3 Import necessary Python packages"
   ]
  },
  {
   "cell_type": "code",
   "execution_count": 1,
   "id": "51656ba6-795a-4b2f-9af4-3cf5c3596c52",
   "metadata": {},
   "outputs": [],
   "source": [
    "import os\n",
    "import glob\n",
    "\n",
    "import rasterio\n",
    "import numpy as np\n",
    "import pandas as pd\n",
    "import geopandas as gpd\n"
   ]
  },
  {
   "cell_type": "markdown",
   "id": "c3badafe-0b63-4351-9779-2ef32ede1332",
   "metadata": {},
   "source": [
    "## 3. Configuration"
   ]
  },
  {
   "cell_type": "code",
   "execution_count": 2,
   "id": "38b18baf-0107-4ae4-9dcf-437455cadfda",
   "metadata": {},
   "outputs": [],
   "source": [
    "# get the parent directory path to where this notebook is currently stored\n",
    "root_dir = os.path.dirname(os.getcwd())\n",
    "\n",
    "# data directory in repository\n",
    "data_dir = os.path.join(root_dir, \"data\")\n",
    "\n",
    "# GRIDCERF data directory from downloaded archive\n",
    "gridcerf_dir = os.path.join(data_dir, \"gridcerf\")\n",
    "\n",
    "# GRIDCERF reference data directory\n",
    "reference_dir = os.path.join(gridcerf_dir, \"reference\")\n",
    "\n",
    "# GRIDCERF common data directory\n",
    "common_dir = os.path.join(gridcerf_dir, \"common\")\n",
    "\n",
    "# GRIDCERF technology_specific data directory\n",
    "technology_specific_dir = os.path.join(gridcerf_dir, \"technology_specific\")\n",
    "\n",
    "# GRIDCERF compiled final suitability data directory\n",
    "compiled_dir = os.path.join(gridcerf_dir, \"compiled\")\n",
    "\n",
    "# template land mask raster\n",
    "template_raster = os.path.join(reference_dir, \"gridcerf_landmask.tif\")\n",
    "\n",
    "# source data directory\n",
    "source_dir = os.path.join(gridcerf_dir, \"source\", \"water\")\n",
    "\n",
    "# temporary output raster for processing\n",
    "temp_output_raster = os.path.join(source_dir, \"temporary_raster.tif\")\n",
    "\n",
    "# generate a list of all common exclusion files\n",
    "common_raster_list = glob.glob(os.path.join(common_dir, \"*.tif\"))\n",
    "\n",
    "# source NHD shapefile\n",
    "nhd_shapefile = os.path.join(source_dir, \"surface_water_flow_nhdplus_v2_erom_eispc_v2\", \"ez_gis.surface_water_flow_nhdplus_v2_erom_eispc_v2.shp\")\n",
    "\n",
    "# bins for minimum mean annual flow requirements where the key is the target \n",
    "#  file name and the value is the threshold in MGD\n",
    "mgd_list = [2, 10, 25, 35, 40, 55, 70, 75, 95, 110, 120, 135]\n"
   ]
  },
  {
   "cell_type": "markdown",
   "id": "b13389bd-68ae-44cb-9e21-74782dc0d8d7",
   "metadata": {},
   "source": [
    "## 4. Generate wind suitability rasters"
   ]
  },
  {
   "cell_type": "markdown",
   "id": "39670a53-f114-4b21-a0f0-255fd707e802",
   "metadata": {},
   "source": [
    "### 4.1 Functions to build suitability"
   ]
  },
  {
   "cell_type": "code",
   "execution_count": 3,
   "id": "d387499b-6619-4cd0-b4e8-829f494c1c1b",
   "metadata": {},
   "outputs": [],
   "source": [
    "def preprocess_nhd_data(nhd_shapefile: str,\n",
    "                        template_raster: str) -> gpd.GeoDataFrame:\n",
    "    \"\"\"Preprocess NHD flowlines to convert to millions gallons per day (MGD) and prepare\n",
    "    a rasterization field.\n",
    "    \n",
    "    \"\"\"\n",
    "    \n",
    "    # get target coordinate reference system from template raster\n",
    "    with rasterio.open(template_raster) as src:\n",
    "        target_crs = src.crs\n",
    "    \n",
    "    # only keep gallons per minute flow and geometry and reproject\n",
    "    gdf = gpd.read_file(nhd_shapefile)[['q_gpm', 'geometry']].to_crs(target_crs)\n",
    "\n",
    "    # convert to millions gallons per day\n",
    "    gdf['mgd'] = (gdf['q_gpm'] / 1000000) * 60 * 24\n",
    "\n",
    "    # drop gpm field\n",
    "    gdf.drop(columns=['q_gpm'], inplace=True)\n",
    "\n",
    "    # set raster value\n",
    "    gdf['value'] = 0\n",
    "    \n",
    "    return gdf\n",
    "    "
   ]
  },
  {
   "cell_type": "markdown",
   "id": "adc3f8ec-5155-44d1-a223-d617042d76c3",
   "metadata": {},
   "source": [
    "### 4.2 Generate available water suitability rasters"
   ]
  },
  {
   "cell_type": "code",
   "execution_count": 8,
   "id": "5ab3684e-8bd0-474d-8f0b-92bcf477f2ba",
   "metadata": {},
   "outputs": [
    {
     "name": "stdout",
     "output_type": "stream",
     "text": [
      "Preprocessing NHD data...\n",
      "Processing flow threshold of:  2 MGD\n",
      "0...10...20...30...40...50...60...70...80...90...100 - done.\n",
      "Processing flow threshold of:  10 MGD\n",
      "0...10...20...30...40...50...60...70...80...90...100 - done.\n",
      "Processing flow threshold of:  25 MGD\n",
      "0...10...20...30...40...50...60...70...80...90...100 - done.\n",
      "Processing flow threshold of:  35 MGD\n",
      "0...10...20...30...40...50...60...70...80...90...100 - done.\n",
      "Processing flow threshold of:  40 MGD\n",
      "0...10...20...30...40...50...60...70...80...90...100 - done.\n",
      "Processing flow threshold of:  55 MGD\n",
      "0...10...20...30...40...50...60...70...80...90...100 - done.\n",
      "Processing flow threshold of:  70 MGD\n",
      "0...10...20...30...40...50...60...70...80...90...100 - done.\n",
      "Processing flow threshold of:  75 MGD\n",
      "0...10...20...30...40...50...60...70...80...90...100 - done.\n",
      "Processing flow threshold of:  95 MGD\n",
      "0...10...20...30...40...50...60...70...80...90...100 - done.\n",
      "Processing flow threshold of:  110 MGD\n",
      "0...10...20...30...40...50...60...70...80...90...100 - done.\n",
      "Processing flow threshold of:  120 MGD\n",
      "0...10...20...30...40...50...60...70...80...90...100 - done.\n",
      "Processing flow threshold of:  135 MGD\n",
      "0...10...20...30...40...50...60...70...80...90...100 - done.\n"
     ]
    }
   ],
   "source": [
    "# preprocess NHD flowlines for rasterization to MGD thresholds\n",
    "print(\"Preprocessing NHD data...\")\n",
    "gdf = preprocess_nhd_data(nhd_shapefile=nhd_shapefile,\n",
    "                          template_raster=template_raster)\n",
    "\n",
    "# create buffered flowlines matching the flow requirement\n",
    "for i in mgd_list:\n",
    "    \n",
    "    print(f\"Processing flow threshold of:  {i} MGD\")\n",
    "    \n",
    "    # construct a file basename\n",
    "    basename = f\"gridcerf_nhd2plus_surfaceflow_greaterthan{i}mgd_buffer20km\"\n",
    "    \n",
    "    # extract the flowlines that support the minimum flow requirement\n",
    "    gdx = gdf.loc[gdf['mgd'] >= i].copy()\n",
    "\n",
    "    # buffer by 20 km (20000 meters)\n",
    "    gdx['geometry'] = gdx.buffer(20000)\n",
    "    \n",
    "    # construct temporary shapefile output file path\n",
    "    output_shp = os.path.join(source_dir, f\"{basename}.shp\")\n",
    "    \n",
    "    # write output shapefile\n",
    "    gdx[['value', 'geometry']].to_file(output_shp)\n",
    "    \n",
    "    # construct the water availability raster output raster name\n",
    "    output_raster = os.path.join(technology_specific_dir, f\"{basename}.tif\")\n",
    "\n",
    "    # construct the GDAL raster command\n",
    "    gdal_rasterize_cmd = f\"gdal_rasterize -l {basename} -a value -tr 1000.0 1000.0 -init 1.0 -te -2405552.8355 -1389065.2005 2287447.1645 1609934.7995 -ot Int16 -of GTiff {output_shp} {output_raster}\"\n",
    "    \n",
    "    # execute the GDAL command via the system terminal\n",
    "    os.system(gdal_rasterize_cmd)\n"
   ]
  },
  {
   "cell_type": "code",
   "execution_count": null,
   "id": "5a825649-6b1a-4915-8334-e450ad862d9b",
   "metadata": {},
   "outputs": [],
   "source": []
  }
 ],
 "metadata": {
  "kernelspec": {
   "display_name": "py3.9.4_ml",
   "language": "python",
   "name": "py3.9.4_ml"
  },
  "language_info": {
   "codemirror_mode": {
    "name": "ipython",
    "version": 3
   },
   "file_extension": ".py",
   "mimetype": "text/x-python",
   "name": "python",
   "nbconvert_exporter": "python",
   "pygments_lexer": "ipython3",
   "version": "3.9.4"
  }
 },
 "nbformat": 4,
 "nbformat_minor": 5
}
